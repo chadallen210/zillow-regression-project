{
 "cells": [
  {
   "cell_type": "code",
   "execution_count": 70,
   "metadata": {},
   "outputs": [],
   "source": [
    "import math\n",
    "import numpy as np\n",
    "import pandas as pd\n",
    "from scipy import stats\n",
    "\n",
    "from sklearn.linear_model import LinearRegression, LassoLars, TweedieRegressor\n",
    "from sklearn.metrics import mean_squared_error\n",
    "from sklearn.preprocessing import MinMaxScaler\n",
    "from sklearn.preprocessing import PolynomialFeatures\n",
    "\n",
    "import matplotlib.pyplot as plt\n",
    "import seaborn as sns\n",
    "\n",
    "import acquire\n",
    "import prepare"
   ]
  },
  {
   "cell_type": "code",
   "execution_count": 2,
   "metadata": {},
   "outputs": [
    {
     "data": {
      "text/html": [
       "<div>\n",
       "<style scoped>\n",
       "    .dataframe tbody tr th:only-of-type {\n",
       "        vertical-align: middle;\n",
       "    }\n",
       "\n",
       "    .dataframe tbody tr th {\n",
       "        vertical-align: top;\n",
       "    }\n",
       "\n",
       "    .dataframe thead th {\n",
       "        text-align: right;\n",
       "    }\n",
       "</style>\n",
       "<table border=\"1\" class=\"dataframe\">\n",
       "  <thead>\n",
       "    <tr style=\"text-align: right;\">\n",
       "      <th></th>\n",
       "      <th>parcelid</th>\n",
       "      <th>bathroomcnt</th>\n",
       "      <th>bedroomcnt</th>\n",
       "      <th>calculatedfinishedsquarefeet</th>\n",
       "      <th>fips</th>\n",
       "      <th>yearbuilt</th>\n",
       "      <th>taxvaluedollarcnt</th>\n",
       "      <th>taxamount</th>\n",
       "    </tr>\n",
       "  </thead>\n",
       "  <tbody>\n",
       "    <tr>\n",
       "      <th>0</th>\n",
       "      <td>11721753</td>\n",
       "      <td>2.0</td>\n",
       "      <td>3.0</td>\n",
       "      <td>1316.0</td>\n",
       "      <td>6037.0</td>\n",
       "      <td>1923.0</td>\n",
       "      <td>205123.0</td>\n",
       "      <td>2627.48</td>\n",
       "    </tr>\n",
       "    <tr>\n",
       "      <th>1</th>\n",
       "      <td>11289917</td>\n",
       "      <td>2.0</td>\n",
       "      <td>3.0</td>\n",
       "      <td>1458.0</td>\n",
       "      <td>6037.0</td>\n",
       "      <td>1970.0</td>\n",
       "      <td>136104.0</td>\n",
       "      <td>2319.90</td>\n",
       "    </tr>\n",
       "    <tr>\n",
       "      <th>2</th>\n",
       "      <td>11705026</td>\n",
       "      <td>1.0</td>\n",
       "      <td>2.0</td>\n",
       "      <td>1421.0</td>\n",
       "      <td>6037.0</td>\n",
       "      <td>1911.0</td>\n",
       "      <td>35606.0</td>\n",
       "      <td>543.69</td>\n",
       "    </tr>\n",
       "    <tr>\n",
       "      <th>3</th>\n",
       "      <td>14269464</td>\n",
       "      <td>3.0</td>\n",
       "      <td>4.0</td>\n",
       "      <td>2541.0</td>\n",
       "      <td>6059.0</td>\n",
       "      <td>2003.0</td>\n",
       "      <td>880456.0</td>\n",
       "      <td>9819.72</td>\n",
       "    </tr>\n",
       "    <tr>\n",
       "      <th>4</th>\n",
       "      <td>11446756</td>\n",
       "      <td>2.0</td>\n",
       "      <td>3.0</td>\n",
       "      <td>1491.0</td>\n",
       "      <td>6037.0</td>\n",
       "      <td>1955.0</td>\n",
       "      <td>107110.0</td>\n",
       "      <td>1399.27</td>\n",
       "    </tr>\n",
       "  </tbody>\n",
       "</table>\n",
       "</div>"
      ],
      "text/plain": [
       "   parcelid  bathroomcnt  bedroomcnt  calculatedfinishedsquarefeet    fips  \\\n",
       "0  11721753          2.0         3.0                        1316.0  6037.0   \n",
       "1  11289917          2.0         3.0                        1458.0  6037.0   \n",
       "2  11705026          1.0         2.0                        1421.0  6037.0   \n",
       "3  14269464          3.0         4.0                        2541.0  6059.0   \n",
       "4  11446756          2.0         3.0                        1491.0  6037.0   \n",
       "\n",
       "   yearbuilt  taxvaluedollarcnt  taxamount  \n",
       "0     1923.0           205123.0    2627.48  \n",
       "1     1970.0           136104.0    2319.90  \n",
       "2     1911.0            35606.0     543.69  \n",
       "3     2003.0           880456.0    9819.72  \n",
       "4     1955.0           107110.0    1399.27  "
      ]
     },
     "execution_count": 2,
     "metadata": {},
     "output_type": "execute_result"
    }
   ],
   "source": [
    "df = acquire.get_zillow_data()\n",
    "df.head()"
   ]
  },
  {
   "cell_type": "code",
   "execution_count": 3,
   "metadata": {},
   "outputs": [
    {
     "data": {
      "text/plain": [
       "(28185, 8)"
      ]
     },
     "execution_count": 3,
     "metadata": {},
     "output_type": "execute_result"
    }
   ],
   "source": [
    "df.shape"
   ]
  },
  {
   "cell_type": "code",
   "execution_count": 4,
   "metadata": {},
   "outputs": [
    {
     "name": "stdout",
     "output_type": "stream",
     "text": [
      "<class 'pandas.core.frame.DataFrame'>\n",
      "Int64Index: 28185 entries, 0 to 28184\n",
      "Data columns (total 8 columns):\n",
      " #   Column                        Non-Null Count  Dtype  \n",
      "---  ------                        --------------  -----  \n",
      " 0   parcelid                      28185 non-null  int64  \n",
      " 1   bathroomcnt                   28185 non-null  float64\n",
      " 2   bedroomcnt                    28185 non-null  float64\n",
      " 3   calculatedfinishedsquarefeet  28117 non-null  float64\n",
      " 4   fips                          28185 non-null  float64\n",
      " 5   yearbuilt                     28093 non-null  float64\n",
      " 6   taxvaluedollarcnt             28184 non-null  float64\n",
      " 7   taxamount                     28184 non-null  float64\n",
      "dtypes: float64(7), int64(1)\n",
      "memory usage: 1.9 MB\n"
     ]
    }
   ],
   "source": [
    "df.info()"
   ]
  },
  {
   "cell_type": "code",
   "execution_count": 5,
   "metadata": {},
   "outputs": [
    {
     "data": {
      "text/plain": [
       "parcelid                        28160\n",
       "bathroomcnt                        20\n",
       "bedroomcnt                         13\n",
       "calculatedfinishedsquarefeet     4056\n",
       "fips                                3\n",
       "yearbuilt                         131\n",
       "taxvaluedollarcnt               22786\n",
       "taxamount                       27719\n",
       "dtype: int64"
      ]
     },
     "execution_count": 5,
     "metadata": {},
     "output_type": "execute_result"
    }
   ],
   "source": [
    "# check for number of unique values in each column\n",
    "df.nunique()"
   ]
  },
  {
   "cell_type": "code",
   "execution_count": 6,
   "metadata": {},
   "outputs": [
    {
     "data": {
      "image/png": "[encoded data removed]",
      "text/plain": [
       "<Figure size 432x288 with 1 Axes>"
      ]
     },
     "metadata": {
      "needs_background": "light"
     },
     "output_type": "display_data"
    }
   ],
   "source": [
    "# quick viz of bathroomcnt\n",
    "sns.boxplot(data=df.bathroomcnt)\n",
    "plt.title('Distribution of Bathroom Counts')\n",
    "plt.show()"
   ]
  },
  {
   "cell_type": "code",
   "execution_count": 7,
   "metadata": {},
   "outputs": [
    {
     "data": {
      "image/png": "[encoded data removed]",
      "text/plain": [
       "<Figure size 432x288 with 1 Axes>"
      ]
     },
     "metadata": {
      "needs_background": "light"
     },
     "output_type": "display_data"
    }
   ],
   "source": [
    "# quick viz of bedroomcnt\n",
    "sns.boxplot(data=df.bedroomcnt)\n",
    "plt.title('Distribution of Bedroom Counts')\n",
    "plt.show()"
   ]
  },
  {
   "cell_type": "code",
   "execution_count": 8,
   "metadata": {},
   "outputs": [
    {
     "data": {
      "image/png": "[encoded data removed]",
      "text/plain": [
       "<Figure size 432x288 with 1 Axes>"
      ]
     },
     "metadata": {
      "needs_background": "light"
     },
     "output_type": "display_data"
    }
   ],
   "source": [
    "# quick viz of calculatedfinishedsquarefeet\n",
    "sns.histplot(data=df.calculatedfinishedsquarefeet)\n",
    "plt.title('Distribution of Square Feet')\n",
    "plt.show()"
   ]
  },
  {
   "cell_type": "code",
   "execution_count": 9,
   "metadata": {},
   "outputs": [
    {
     "data": {
      "image/png": "[encoded data removed]",
      "text/plain": [
       "<Figure size 432x288 with 1 Axes>"
      ]
     },
     "metadata": {
      "needs_background": "light"
     },
     "output_type": "display_data"
    }
   ],
   "source": [
    "# quick viz of taxvaluedollarcnt\n",
    "sns.histplot(data=df.taxvaluedollarcnt)\n",
    "plt.title('Distribution of Appraised Value')\n",
    "plt.show()"
   ]
  },
  {
   "cell_type": "code",
   "execution_count": 10,
   "metadata": {},
   "outputs": [
    {
     "name": "stdout",
     "output_type": "stream",
     "text": [
      "Your selected dataframe has 8 columns.\n",
      "There are 4 columns that have missing values.\n",
      "  \n",
      "** There are 25 duplicate rows that represents 0.09% of total Values**\n"
     ]
    },
    {
     "data": {
      "text/html": [
       "<div>\n",
       "<style scoped>\n",
       "    .dataframe tbody tr th:only-of-type {\n",
       "        vertical-align: middle;\n",
       "    }\n",
       "\n",
       "    .dataframe tbody tr th {\n",
       "        vertical-align: top;\n",
       "    }\n",
       "\n",
       "    .dataframe thead th {\n",
       "        text-align: right;\n",
       "    }\n",
       "</style>\n",
       "<table border=\"1\" class=\"dataframe\">\n",
       "  <thead>\n",
       "    <tr style=\"text-align: right;\">\n",
       "      <th></th>\n",
       "      <th>Missing Values</th>\n",
       "      <th>% of Total Values</th>\n",
       "    </tr>\n",
       "  </thead>\n",
       "  <tbody>\n",
       "    <tr>\n",
       "      <th>yearbuilt</th>\n",
       "      <td>92</td>\n",
       "      <td>0.3</td>\n",
       "    </tr>\n",
       "    <tr>\n",
       "      <th>calculatedfinishedsquarefeet</th>\n",
       "      <td>68</td>\n",
       "      <td>0.2</td>\n",
       "    </tr>\n",
       "    <tr>\n",
       "      <th>taxvaluedollarcnt</th>\n",
       "      <td>1</td>\n",
       "      <td>0.0</td>\n",
       "    </tr>\n",
       "    <tr>\n",
       "      <th>taxamount</th>\n",
       "      <td>1</td>\n",
       "      <td>0.0</td>\n",
       "    </tr>\n",
       "  </tbody>\n",
       "</table>\n",
       "</div>"
      ],
      "text/plain": [
       "                              Missing Values  % of Total Values\n",
       "yearbuilt                                 92                0.3\n",
       "calculatedfinishedsquarefeet              68                0.2\n",
       "taxvaluedollarcnt                          1                0.0\n",
       "taxamount                                  1                0.0"
      ]
     },
     "execution_count": 10,
     "metadata": {},
     "output_type": "execute_result"
    }
   ],
   "source": [
    "prepare.miss_dup_values(df)"
   ]
  },
  {
   "cell_type": "code",
   "execution_count": 11,
   "metadata": {},
   "outputs": [
    {
     "name": "stdout",
     "output_type": "stream",
     "text": [
      "<class 'pandas.core.frame.DataFrame'>\n",
      "Int64Index: 28160 entries, 0 to 28184\n",
      "Data columns (total 8 columns):\n",
      " #   Column                        Non-Null Count  Dtype  \n",
      "---  ------                        --------------  -----  \n",
      " 0   parcelid                      28160 non-null  int64  \n",
      " 1   bathroomcnt                   28160 non-null  float64\n",
      " 2   bedroomcnt                    28160 non-null  float64\n",
      " 3   calculatedfinishedsquarefeet  28094 non-null  float64\n",
      " 4   fips                          28160 non-null  float64\n",
      " 5   yearbuilt                     28070 non-null  float64\n",
      " 6   taxvaluedollarcnt             28159 non-null  float64\n",
      " 7   taxamount                     28159 non-null  float64\n",
      "dtypes: float64(7), int64(1)\n",
      "memory usage: 1.9 MB\n"
     ]
    }
   ],
   "source": [
    "# drop any duplicates (removed 25 records)\n",
    "df.drop_duplicates(inplace=True)\n",
    "df.info()"
   ]
  },
  {
   "cell_type": "code",
   "execution_count": 12,
   "metadata": {},
   "outputs": [
    {
     "name": "stdout",
     "output_type": "stream",
     "text": [
      "<class 'pandas.core.frame.DataFrame'>\n",
      "Int64Index: 28160 entries, 0 to 28184\n",
      "Data columns (total 8 columns):\n",
      " #   Column                        Non-Null Count  Dtype  \n",
      "---  ------                        --------------  -----  \n",
      " 0   parcelid                      28160 non-null  int64  \n",
      " 1   bathroomcnt                   28160 non-null  float64\n",
      " 2   bedroomcnt                    28160 non-null  float64\n",
      " 3   calculatedfinishedsquarefeet  28094 non-null  float64\n",
      " 4   fips                          28160 non-null  float64\n",
      " 5   yearbuilt                     28070 non-null  float64\n",
      " 6   taxvaluedollarcnt             28159 non-null  float64\n",
      " 7   taxamount                     28159 non-null  float64\n",
      "dtypes: float64(7), int64(1)\n",
      "memory usage: 1.9 MB\n"
     ]
    }
   ],
   "source": [
    "# replace symbols, etc with NaN's\n",
    "df = df.replace(r'^\\s*$', np.nan, regex=True)\n",
    "df.info()"
   ]
  },
  {
   "cell_type": "code",
   "execution_count": 13,
   "metadata": {},
   "outputs": [
    {
     "name": "stdout",
     "output_type": "stream",
     "text": [
      "<class 'pandas.core.frame.DataFrame'>\n",
      "Int64Index: 28065 entries, 0 to 28184\n",
      "Data columns (total 8 columns):\n",
      " #   Column                        Non-Null Count  Dtype  \n",
      "---  ------                        --------------  -----  \n",
      " 0   parcelid                      28065 non-null  int64  \n",
      " 1   bathroomcnt                   28065 non-null  float64\n",
      " 2   bedroomcnt                    28065 non-null  float64\n",
      " 3   calculatedfinishedsquarefeet  28065 non-null  float64\n",
      " 4   fips                          28065 non-null  float64\n",
      " 5   yearbuilt                     28065 non-null  float64\n",
      " 6   taxvaluedollarcnt             28065 non-null  float64\n",
      " 7   taxamount                     28065 non-null  float64\n",
      "dtypes: float64(7), int64(1)\n",
      "memory usage: 1.9 MB\n"
     ]
    }
   ],
   "source": [
    "# drop nulls (removed 95 records)\n",
    "df = df.dropna()\n",
    "df.info()"
   ]
  },
  {
   "cell_type": "code",
   "execution_count": 14,
   "metadata": {},
   "outputs": [
    {
     "name": "stdout",
     "output_type": "stream",
     "text": [
      "Your selected dataframe has 8 columns.\n",
      "There are 0 columns that have missing values.\n",
      "  \n",
      "** There are 0 duplicate rows that represents 0.0% of total Values**\n"
     ]
    },
    {
     "data": {
      "text/html": [
       "<div>\n",
       "<style scoped>\n",
       "    .dataframe tbody tr th:only-of-type {\n",
       "        vertical-align: middle;\n",
       "    }\n",
       "\n",
       "    .dataframe tbody tr th {\n",
       "        vertical-align: top;\n",
       "    }\n",
       "\n",
       "    .dataframe thead th {\n",
       "        text-align: right;\n",
       "    }\n",
       "</style>\n",
       "<table border=\"1\" class=\"dataframe\">\n",
       "  <thead>\n",
       "    <tr style=\"text-align: right;\">\n",
       "      <th></th>\n",
       "      <th>Missing Values</th>\n",
       "      <th>% of Total Values</th>\n",
       "    </tr>\n",
       "  </thead>\n",
       "  <tbody>\n",
       "  </tbody>\n",
       "</table>\n",
       "</div>"
      ],
      "text/plain": [
       "Empty DataFrame\n",
       "Columns: [Missing Values, % of Total Values]\n",
       "Index: []"
      ]
     },
     "execution_count": 14,
     "metadata": {},
     "output_type": "execute_result"
    }
   ],
   "source": [
    "prepare.miss_dup_values(df)"
   ]
  },
  {
   "cell_type": "code",
   "execution_count": 15,
   "metadata": {},
   "outputs": [
    {
     "data": {
      "text/html": [
       "<div>\n",
       "<style scoped>\n",
       "    .dataframe tbody tr th:only-of-type {\n",
       "        vertical-align: middle;\n",
       "    }\n",
       "\n",
       "    .dataframe tbody tr th {\n",
       "        vertical-align: top;\n",
       "    }\n",
       "\n",
       "    .dataframe thead th {\n",
       "        text-align: right;\n",
       "    }\n",
       "</style>\n",
       "<table border=\"1\" class=\"dataframe\">\n",
       "  <thead>\n",
       "    <tr style=\"text-align: right;\">\n",
       "      <th></th>\n",
       "      <th>bathroomcnt</th>\n",
       "      <th>bedroomcnt</th>\n",
       "      <th>calculatedfinishedsquarefeet</th>\n",
       "      <th>fips</th>\n",
       "      <th>yearbuilt</th>\n",
       "      <th>taxvaluedollarcnt</th>\n",
       "      <th>taxamount</th>\n",
       "    </tr>\n",
       "    <tr>\n",
       "      <th>parcelid</th>\n",
       "      <th></th>\n",
       "      <th></th>\n",
       "      <th></th>\n",
       "      <th></th>\n",
       "      <th></th>\n",
       "      <th></th>\n",
       "      <th></th>\n",
       "    </tr>\n",
       "  </thead>\n",
       "  <tbody>\n",
       "    <tr>\n",
       "      <th>11721753</th>\n",
       "      <td>2.0</td>\n",
       "      <td>3.0</td>\n",
       "      <td>1316.0</td>\n",
       "      <td>6037.0</td>\n",
       "      <td>1923.0</td>\n",
       "      <td>205123.0</td>\n",
       "      <td>2627.48</td>\n",
       "    </tr>\n",
       "    <tr>\n",
       "      <th>11289917</th>\n",
       "      <td>2.0</td>\n",
       "      <td>3.0</td>\n",
       "      <td>1458.0</td>\n",
       "      <td>6037.0</td>\n",
       "      <td>1970.0</td>\n",
       "      <td>136104.0</td>\n",
       "      <td>2319.90</td>\n",
       "    </tr>\n",
       "    <tr>\n",
       "      <th>11705026</th>\n",
       "      <td>1.0</td>\n",
       "      <td>2.0</td>\n",
       "      <td>1421.0</td>\n",
       "      <td>6037.0</td>\n",
       "      <td>1911.0</td>\n",
       "      <td>35606.0</td>\n",
       "      <td>543.69</td>\n",
       "    </tr>\n",
       "    <tr>\n",
       "      <th>14269464</th>\n",
       "      <td>3.0</td>\n",
       "      <td>4.0</td>\n",
       "      <td>2541.0</td>\n",
       "      <td>6059.0</td>\n",
       "      <td>2003.0</td>\n",
       "      <td>880456.0</td>\n",
       "      <td>9819.72</td>\n",
       "    </tr>\n",
       "    <tr>\n",
       "      <th>11446756</th>\n",
       "      <td>2.0</td>\n",
       "      <td>3.0</td>\n",
       "      <td>1491.0</td>\n",
       "      <td>6037.0</td>\n",
       "      <td>1955.0</td>\n",
       "      <td>107110.0</td>\n",
       "      <td>1399.27</td>\n",
       "    </tr>\n",
       "  </tbody>\n",
       "</table>\n",
       "</div>"
      ],
      "text/plain": [
       "          bathroomcnt  bedroomcnt  calculatedfinishedsquarefeet    fips  \\\n",
       "parcelid                                                                  \n",
       "11721753          2.0         3.0                        1316.0  6037.0   \n",
       "11289917          2.0         3.0                        1458.0  6037.0   \n",
       "11705026          1.0         2.0                        1421.0  6037.0   \n",
       "14269464          3.0         4.0                        2541.0  6059.0   \n",
       "11446756          2.0         3.0                        1491.0  6037.0   \n",
       "\n",
       "          yearbuilt  taxvaluedollarcnt  taxamount  \n",
       "parcelid                                           \n",
       "11721753     1923.0           205123.0    2627.48  \n",
       "11289917     1970.0           136104.0    2319.90  \n",
       "11705026     1911.0            35606.0     543.69  \n",
       "14269464     2003.0           880456.0    9819.72  \n",
       "11446756     1955.0           107110.0    1399.27  "
      ]
     },
     "execution_count": 15,
     "metadata": {},
     "output_type": "execute_result"
    }
   ],
   "source": [
    "# set index to parcelid\n",
    "df.set_index('parcelid', drop=True, inplace=True)\n",
    "df.head()"
   ]
  },
  {
   "cell_type": "code",
   "execution_count": 16,
   "metadata": {},
   "outputs": [
    {
     "name": "stdout",
     "output_type": "stream",
     "text": [
      "<class 'pandas.core.frame.DataFrame'>\n",
      "Int64Index: 28065 entries, 11721753 to 10713993\n",
      "Data columns (total 7 columns):\n",
      " #   Column                        Non-Null Count  Dtype  \n",
      "---  ------                        --------------  -----  \n",
      " 0   bathroomcnt                   28065 non-null  float64\n",
      " 1   bedroomcnt                    28065 non-null  float64\n",
      " 2   calculatedfinishedsquarefeet  28065 non-null  float64\n",
      " 3   fips                          28065 non-null  float64\n",
      " 4   yearbuilt                     28065 non-null  float64\n",
      " 5   taxvaluedollarcnt             28065 non-null  float64\n",
      " 6   taxamount                     28065 non-null  float64\n",
      "dtypes: float64(7)\n",
      "memory usage: 1.7 MB\n"
     ]
    }
   ],
   "source": [
    "df.info()"
   ]
  },
  {
   "cell_type": "code",
   "execution_count": 17,
   "metadata": {},
   "outputs": [],
   "source": [
    "# rename columns\n",
    "df = df.rename(columns={'parcelid': 'parcel_id', 'bathroomcnt': 'bathrooms', 'bedroomcnt': 'bedrooms',\n",
    "                       'calculatedfinishedsquarefeet': 'square_feet', 'fips': 'county_code',\n",
    "                       'yearbuilt': 'age', 'taxvaluedollarcnt': 'appraised_value', 'taxamount': 'taxes'})"
   ]
  },
  {
   "cell_type": "code",
   "execution_count": 18,
   "metadata": {},
   "outputs": [
    {
     "name": "stdout",
     "output_type": "stream",
     "text": [
      "<class 'pandas.core.frame.DataFrame'>\n",
      "Int64Index: 28065 entries, 11721753 to 10713993\n",
      "Data columns (total 7 columns):\n",
      " #   Column           Non-Null Count  Dtype  \n",
      "---  ------           --------------  -----  \n",
      " 0   bathrooms        28065 non-null  float64\n",
      " 1   bedrooms         28065 non-null  float64\n",
      " 2   square_feet      28065 non-null  float64\n",
      " 3   county_code      28065 non-null  float64\n",
      " 4   age              28065 non-null  float64\n",
      " 5   appraised_value  28065 non-null  float64\n",
      " 6   taxes            28065 non-null  float64\n",
      "dtypes: float64(7)\n",
      "memory usage: 1.7 MB\n"
     ]
    }
   ],
   "source": [
    "df.info()"
   ]
  },
  {
   "cell_type": "code",
   "execution_count": 19,
   "metadata": {},
   "outputs": [],
   "source": [
    "# convert year built into age, age is better for evaluation\n",
    "df.age = 2017 - df.age"
   ]
  },
  {
   "cell_type": "code",
   "execution_count": 20,
   "metadata": {},
   "outputs": [
    {
     "data": {
      "text/html": [
       "<div>\n",
       "<style scoped>\n",
       "    .dataframe tbody tr th:only-of-type {\n",
       "        vertical-align: middle;\n",
       "    }\n",
       "\n",
       "    .dataframe tbody tr th {\n",
       "        vertical-align: top;\n",
       "    }\n",
       "\n",
       "    .dataframe thead th {\n",
       "        text-align: right;\n",
       "    }\n",
       "</style>\n",
       "<table border=\"1\" class=\"dataframe\">\n",
       "  <thead>\n",
       "    <tr style=\"text-align: right;\">\n",
       "      <th></th>\n",
       "      <th>bathrooms</th>\n",
       "      <th>bedrooms</th>\n",
       "      <th>square_feet</th>\n",
       "      <th>county_code</th>\n",
       "      <th>age</th>\n",
       "      <th>appraised_value</th>\n",
       "      <th>taxes</th>\n",
       "    </tr>\n",
       "    <tr>\n",
       "      <th>parcelid</th>\n",
       "      <th></th>\n",
       "      <th></th>\n",
       "      <th></th>\n",
       "      <th></th>\n",
       "      <th></th>\n",
       "      <th></th>\n",
       "      <th></th>\n",
       "    </tr>\n",
       "  </thead>\n",
       "  <tbody>\n",
       "    <tr>\n",
       "      <th>11721753</th>\n",
       "      <td>2.0</td>\n",
       "      <td>3.0</td>\n",
       "      <td>1316.0</td>\n",
       "      <td>6037.0</td>\n",
       "      <td>94.0</td>\n",
       "      <td>205123.0</td>\n",
       "      <td>2627.48</td>\n",
       "    </tr>\n",
       "    <tr>\n",
       "      <th>11289917</th>\n",
       "      <td>2.0</td>\n",
       "      <td>3.0</td>\n",
       "      <td>1458.0</td>\n",
       "      <td>6037.0</td>\n",
       "      <td>47.0</td>\n",
       "      <td>136104.0</td>\n",
       "      <td>2319.90</td>\n",
       "    </tr>\n",
       "    <tr>\n",
       "      <th>11705026</th>\n",
       "      <td>1.0</td>\n",
       "      <td>2.0</td>\n",
       "      <td>1421.0</td>\n",
       "      <td>6037.0</td>\n",
       "      <td>106.0</td>\n",
       "      <td>35606.0</td>\n",
       "      <td>543.69</td>\n",
       "    </tr>\n",
       "    <tr>\n",
       "      <th>14269464</th>\n",
       "      <td>3.0</td>\n",
       "      <td>4.0</td>\n",
       "      <td>2541.0</td>\n",
       "      <td>6059.0</td>\n",
       "      <td>14.0</td>\n",
       "      <td>880456.0</td>\n",
       "      <td>9819.72</td>\n",
       "    </tr>\n",
       "    <tr>\n",
       "      <th>11446756</th>\n",
       "      <td>2.0</td>\n",
       "      <td>3.0</td>\n",
       "      <td>1491.0</td>\n",
       "      <td>6037.0</td>\n",
       "      <td>62.0</td>\n",
       "      <td>107110.0</td>\n",
       "      <td>1399.27</td>\n",
       "    </tr>\n",
       "  </tbody>\n",
       "</table>\n",
       "</div>"
      ],
      "text/plain": [
       "          bathrooms  bedrooms  square_feet  county_code    age  \\\n",
       "parcelid                                                         \n",
       "11721753        2.0       3.0       1316.0       6037.0   94.0   \n",
       "11289917        2.0       3.0       1458.0       6037.0   47.0   \n",
       "11705026        1.0       2.0       1421.0       6037.0  106.0   \n",
       "14269464        3.0       4.0       2541.0       6059.0   14.0   \n",
       "11446756        2.0       3.0       1491.0       6037.0   62.0   \n",
       "\n",
       "          appraised_value    taxes  \n",
       "parcelid                            \n",
       "11721753         205123.0  2627.48  \n",
       "11289917         136104.0  2319.90  \n",
       "11705026          35606.0   543.69  \n",
       "14269464         880456.0  9819.72  \n",
       "11446756         107110.0  1399.27  "
      ]
     },
     "execution_count": 20,
     "metadata": {},
     "output_type": "execute_result"
    }
   ],
   "source": [
    "df.head()"
   ]
  },
  {
   "cell_type": "code",
   "execution_count": 21,
   "metadata": {},
   "outputs": [],
   "source": [
    "# change data types from float to int\n",
    "df.bathrooms = df.bathrooms.astype('int')\n",
    "df.bedrooms = df.bedrooms.astype('int')\n",
    "df.square_feet = df.square_feet.astype('int')\n",
    "df.county_code = df.county_code.astype('int')\n",
    "df.age = df.age.astype('int')\n",
    "df.appraised_value = df.appraised_value.astype('int')"
   ]
  },
  {
   "cell_type": "code",
   "execution_count": 22,
   "metadata": {},
   "outputs": [
    {
     "name": "stdout",
     "output_type": "stream",
     "text": [
      "<class 'pandas.core.frame.DataFrame'>\n",
      "Int64Index: 28065 entries, 11721753 to 10713993\n",
      "Data columns (total 7 columns):\n",
      " #   Column           Non-Null Count  Dtype  \n",
      "---  ------           --------------  -----  \n",
      " 0   bathrooms        28065 non-null  int64  \n",
      " 1   bedrooms         28065 non-null  int64  \n",
      " 2   square_feet      28065 non-null  int64  \n",
      " 3   county_code      28065 non-null  int64  \n",
      " 4   age              28065 non-null  int64  \n",
      " 5   appraised_value  28065 non-null  int64  \n",
      " 6   taxes            28065 non-null  float64\n",
      "dtypes: float64(1), int64(6)\n",
      "memory usage: 1.7 MB\n"
     ]
    }
   ],
   "source": [
    "df.info()"
   ]
  },
  {
   "cell_type": "code",
   "execution_count": 23,
   "metadata": {},
   "outputs": [
    {
     "data": {
      "text/plain": [
       "count    28065.000000\n",
       "mean      1933.860289\n",
       "std        992.752940\n",
       "min        240.000000\n",
       "25%       1279.000000\n",
       "50%       1674.000000\n",
       "75%       2325.000000\n",
       "max      17245.000000\n",
       "Name: square_feet, dtype: float64"
      ]
     },
     "execution_count": 23,
     "metadata": {},
     "output_type": "execute_result"
    }
   ],
   "source": [
    "df.square_feet.describe()"
   ]
  },
  {
   "cell_type": "code",
   "execution_count": 24,
   "metadata": {},
   "outputs": [
    {
     "data": {
      "text/plain": [
       "(1279.0, 2325.0)"
      ]
     },
     "execution_count": 24,
     "metadata": {},
     "output_type": "execute_result"
    }
   ],
   "source": [
    "# remove outliers from square_feet\n",
    "# calculate 1QR and 3QR\n",
    "q1sf, q3sf = df.square_feet.quantile([0.25, 0.75])\n",
    "q1sf, q3sf"
   ]
  },
  {
   "cell_type": "code",
   "execution_count": 25,
   "metadata": {},
   "outputs": [
    {
     "data": {
      "text/plain": [
       "1046.0"
      ]
     },
     "execution_count": 25,
     "metadata": {},
     "output_type": "execute_result"
    }
   ],
   "source": [
    "# calculate IQR\n",
    "iqrsf = q3sf - q1sf\n",
    "iqrsf"
   ]
  },
  {
   "cell_type": "code",
   "execution_count": 26,
   "metadata": {},
   "outputs": [
    {
     "data": {
      "text/plain": [
       "(3894.0, -290.0)"
      ]
     },
     "execution_count": 26,
     "metadata": {},
     "output_type": "execute_result"
    }
   ],
   "source": [
    "# calculate upper and lower bounds\n",
    "uppersf = q3sf + (1.5 * iqrsf)\n",
    "lowersf = q1sf - (1.5 * iqrsf)\n",
    "uppersf, lowersf"
   ]
  },
  {
   "cell_type": "code",
   "execution_count": 27,
   "metadata": {},
   "outputs": [
    {
     "name": "stdout",
     "output_type": "stream",
     "text": [
      "<class 'pandas.core.frame.DataFrame'>\n",
      "Int64Index: 28065 entries, 11721753 to 10713993\n",
      "Data columns (total 7 columns):\n",
      " #   Column           Non-Null Count  Dtype  \n",
      "---  ------           --------------  -----  \n",
      " 0   bathrooms        28065 non-null  int64  \n",
      " 1   bedrooms         28065 non-null  int64  \n",
      " 2   square_feet      28065 non-null  int64  \n",
      " 3   county_code      28065 non-null  int64  \n",
      " 4   age              28065 non-null  int64  \n",
      " 5   appraised_value  28065 non-null  int64  \n",
      " 6   taxes            28065 non-null  float64\n",
      "dtypes: float64(1), int64(6)\n",
      "memory usage: 1.7 MB\n"
     ]
    }
   ],
   "source": [
    "df.info()"
   ]
  },
  {
   "cell_type": "code",
   "execution_count": 28,
   "metadata": {},
   "outputs": [],
   "source": [
    "# remove outliers if below or above the bounds (removed 1194 records)\n",
    "df = df[df.square_feet > lowersf]\n",
    "df = df[df.square_feet < uppersf]"
   ]
  },
  {
   "cell_type": "code",
   "execution_count": 29,
   "metadata": {},
   "outputs": [
    {
     "name": "stdout",
     "output_type": "stream",
     "text": [
      "<class 'pandas.core.frame.DataFrame'>\n",
      "Int64Index: 26871 entries, 11721753 to 10713993\n",
      "Data columns (total 7 columns):\n",
      " #   Column           Non-Null Count  Dtype  \n",
      "---  ------           --------------  -----  \n",
      " 0   bathrooms        26871 non-null  int64  \n",
      " 1   bedrooms         26871 non-null  int64  \n",
      " 2   square_feet      26871 non-null  int64  \n",
      " 3   county_code      26871 non-null  int64  \n",
      " 4   age              26871 non-null  int64  \n",
      " 5   appraised_value  26871 non-null  int64  \n",
      " 6   taxes            26871 non-null  float64\n",
      "dtypes: float64(1), int64(6)\n",
      "memory usage: 1.6 MB\n"
     ]
    }
   ],
   "source": [
    "df.info()"
   ]
  },
  {
   "cell_type": "code",
   "execution_count": 30,
   "metadata": {},
   "outputs": [
    {
     "data": {
      "text/plain": [
       "(190984.5, 588496.0)"
      ]
     },
     "execution_count": 30,
     "metadata": {},
     "output_type": "execute_result"
    }
   ],
   "source": [
    "# remove outliers from appraised_value\n",
    "# calculate 1QR and 3QR\n",
    "q1av, q3av = df.appraised_value.quantile([0.25, 0.75])\n",
    "q1av, q3av"
   ]
  },
  {
   "cell_type": "code",
   "execution_count": 31,
   "metadata": {},
   "outputs": [
    {
     "data": {
      "text/plain": [
       "397511.5"
      ]
     },
     "execution_count": 31,
     "metadata": {},
     "output_type": "execute_result"
    }
   ],
   "source": [
    "# calculate IQR\n",
    "iqrav = q3av - q1av\n",
    "iqrav"
   ]
  },
  {
   "cell_type": "code",
   "execution_count": 32,
   "metadata": {},
   "outputs": [
    {
     "data": {
      "text/plain": [
       "(1184763.25, -405282.75)"
      ]
     },
     "execution_count": 32,
     "metadata": {},
     "output_type": "execute_result"
    }
   ],
   "source": [
    "# calculate upper and lower bounds\n",
    "upperav = q3av + (1.5 * iqrav)\n",
    "lowerav = q1av - (1.5 * iqrav)\n",
    "upperav, lowerav"
   ]
  },
  {
   "cell_type": "code",
   "execution_count": 33,
   "metadata": {},
   "outputs": [
    {
     "name": "stdout",
     "output_type": "stream",
     "text": [
      "<class 'pandas.core.frame.DataFrame'>\n",
      "Int64Index: 26871 entries, 11721753 to 10713993\n",
      "Data columns (total 7 columns):\n",
      " #   Column           Non-Null Count  Dtype  \n",
      "---  ------           --------------  -----  \n",
      " 0   bathrooms        26871 non-null  int64  \n",
      " 1   bedrooms         26871 non-null  int64  \n",
      " 2   square_feet      26871 non-null  int64  \n",
      " 3   county_code      26871 non-null  int64  \n",
      " 4   age              26871 non-null  int64  \n",
      " 5   appraised_value  26871 non-null  int64  \n",
      " 6   taxes            26871 non-null  float64\n",
      "dtypes: float64(1), int64(6)\n",
      "memory usage: 1.6 MB\n"
     ]
    }
   ],
   "source": [
    "df.info()"
   ]
  },
  {
   "cell_type": "code",
   "execution_count": 34,
   "metadata": {},
   "outputs": [],
   "source": [
    "# remove outliers if below or above the bounds (removed 1226 records)\n",
    "df = df[df.appraised_value > lowerav]\n",
    "df = df[df.appraised_value < upperav]"
   ]
  },
  {
   "cell_type": "code",
   "execution_count": 35,
   "metadata": {},
   "outputs": [
    {
     "name": "stdout",
     "output_type": "stream",
     "text": [
      "<class 'pandas.core.frame.DataFrame'>\n",
      "Int64Index: 25545 entries, 11721753 to 10713993\n",
      "Data columns (total 7 columns):\n",
      " #   Column           Non-Null Count  Dtype  \n",
      "---  ------           --------------  -----  \n",
      " 0   bathrooms        25545 non-null  int64  \n",
      " 1   bedrooms         25545 non-null  int64  \n",
      " 2   square_feet      25545 non-null  int64  \n",
      " 3   county_code      25545 non-null  int64  \n",
      " 4   age              25545 non-null  int64  \n",
      " 5   appraised_value  25545 non-null  int64  \n",
      " 6   taxes            25545 non-null  float64\n",
      "dtypes: float64(1), int64(6)\n",
      "memory usage: 1.6 MB\n"
     ]
    }
   ],
   "source": [
    "df.info()"
   ]
  },
  {
   "cell_type": "code",
   "execution_count": 36,
   "metadata": {},
   "outputs": [
    {
     "data": {
      "text/plain": [
       "(2.0, 3.0)"
      ]
     },
     "execution_count": 36,
     "metadata": {},
     "output_type": "execute_result"
    }
   ],
   "source": [
    "# remove outliers from bathrooms\n",
    "# calculate 1QR and 3QR\n",
    "q1bth, q3bth = df.bathrooms.quantile([0.25, 0.75])\n",
    "q1bth, q3bth"
   ]
  },
  {
   "cell_type": "code",
   "execution_count": 37,
   "metadata": {},
   "outputs": [
    {
     "data": {
      "text/plain": [
       "1.0"
      ]
     },
     "execution_count": 37,
     "metadata": {},
     "output_type": "execute_result"
    }
   ],
   "source": [
    "# calculate IQR\n",
    "iqrbth = q3bth - q1bth\n",
    "iqrbth"
   ]
  },
  {
   "cell_type": "code",
   "execution_count": 38,
   "metadata": {},
   "outputs": [
    {
     "data": {
      "text/plain": [
       "(4.5, 0.5)"
      ]
     },
     "execution_count": 38,
     "metadata": {},
     "output_type": "execute_result"
    }
   ],
   "source": [
    "# calculate upper and lower bounds\n",
    "upperbth = q3bth + (1.5 * iqrbth)\n",
    "lowerbth = q1bth - (1.5 * iqrbth)\n",
    "upperbth, lowerbth"
   ]
  },
  {
   "cell_type": "code",
   "execution_count": 39,
   "metadata": {},
   "outputs": [
    {
     "name": "stdout",
     "output_type": "stream",
     "text": [
      "<class 'pandas.core.frame.DataFrame'>\n",
      "Int64Index: 25545 entries, 11721753 to 10713993\n",
      "Data columns (total 7 columns):\n",
      " #   Column           Non-Null Count  Dtype  \n",
      "---  ------           --------------  -----  \n",
      " 0   bathrooms        25545 non-null  int64  \n",
      " 1   bedrooms         25545 non-null  int64  \n",
      " 2   square_feet      25545 non-null  int64  \n",
      " 3   county_code      25545 non-null  int64  \n",
      " 4   age              25545 non-null  int64  \n",
      " 5   appraised_value  25545 non-null  int64  \n",
      " 6   taxes            25545 non-null  float64\n",
      "dtypes: float64(1), int64(6)\n",
      "memory usage: 1.6 MB\n"
     ]
    }
   ],
   "source": [
    "df.info()"
   ]
  },
  {
   "cell_type": "code",
   "execution_count": 40,
   "metadata": {},
   "outputs": [],
   "source": [
    "# remove outliers if below or above the bounds (removed 143 records)\n",
    "df = df[df.bathrooms > lowerbth]\n",
    "df = df[df.bathrooms < upperbth]"
   ]
  },
  {
   "cell_type": "code",
   "execution_count": 41,
   "metadata": {},
   "outputs": [
    {
     "name": "stdout",
     "output_type": "stream",
     "text": [
      "<class 'pandas.core.frame.DataFrame'>\n",
      "Int64Index: 25402 entries, 11721753 to 10713993\n",
      "Data columns (total 7 columns):\n",
      " #   Column           Non-Null Count  Dtype  \n",
      "---  ------           --------------  -----  \n",
      " 0   bathrooms        25402 non-null  int64  \n",
      " 1   bedrooms         25402 non-null  int64  \n",
      " 2   square_feet      25402 non-null  int64  \n",
      " 3   county_code      25402 non-null  int64  \n",
      " 4   age              25402 non-null  int64  \n",
      " 5   appraised_value  25402 non-null  int64  \n",
      " 6   taxes            25402 non-null  float64\n",
      "dtypes: float64(1), int64(6)\n",
      "memory usage: 1.6 MB\n"
     ]
    }
   ],
   "source": [
    "df.info()"
   ]
  },
  {
   "cell_type": "code",
   "execution_count": 42,
   "metadata": {},
   "outputs": [
    {
     "data": {
      "text/plain": [
       "(3.0, 4.0)"
      ]
     },
     "execution_count": 42,
     "metadata": {},
     "output_type": "execute_result"
    }
   ],
   "source": [
    "# remove outliers from bedrooms\n",
    "# calculate 1QR and 3QR\n",
    "q1bd, q3bd = df.bedrooms.quantile([0.25, 0.75])\n",
    "q1bd, q3bd"
   ]
  },
  {
   "cell_type": "code",
   "execution_count": 43,
   "metadata": {},
   "outputs": [
    {
     "data": {
      "text/plain": [
       "1.0"
      ]
     },
     "execution_count": 43,
     "metadata": {},
     "output_type": "execute_result"
    }
   ],
   "source": [
    "# calculate IQR\n",
    "iqrbd = q3bd - q1bd\n",
    "iqrbd"
   ]
  },
  {
   "cell_type": "code",
   "execution_count": 44,
   "metadata": {},
   "outputs": [
    {
     "data": {
      "text/plain": [
       "(5.5, 1.5)"
      ]
     },
     "execution_count": 44,
     "metadata": {},
     "output_type": "execute_result"
    }
   ],
   "source": [
    "# calculate upper and lower bounds\n",
    "upperbd = q3bd + (1.5 * iqrbd)\n",
    "lowerbd = q1bd - (1.5 * iqrbd)\n",
    "upperbd, lowerbd"
   ]
  },
  {
   "cell_type": "code",
   "execution_count": 45,
   "metadata": {},
   "outputs": [
    {
     "name": "stdout",
     "output_type": "stream",
     "text": [
      "<class 'pandas.core.frame.DataFrame'>\n",
      "Int64Index: 25402 entries, 11721753 to 10713993\n",
      "Data columns (total 7 columns):\n",
      " #   Column           Non-Null Count  Dtype  \n",
      "---  ------           --------------  -----  \n",
      " 0   bathrooms        25402 non-null  int64  \n",
      " 1   bedrooms         25402 non-null  int64  \n",
      " 2   square_feet      25402 non-null  int64  \n",
      " 3   county_code      25402 non-null  int64  \n",
      " 4   age              25402 non-null  int64  \n",
      " 5   appraised_value  25402 non-null  int64  \n",
      " 6   taxes            25402 non-null  float64\n",
      "dtypes: float64(1), int64(6)\n",
      "memory usage: 1.6 MB\n"
     ]
    }
   ],
   "source": [
    "df.info()"
   ]
  },
  {
   "cell_type": "code",
   "execution_count": 46,
   "metadata": {},
   "outputs": [],
   "source": [
    "# remove outliers if below or above the bounds (removed 487 records)\n",
    "df = df[df.bedrooms > lowerbd]\n",
    "df = df[df.bedrooms < upperbd]"
   ]
  },
  {
   "cell_type": "code",
   "execution_count": 47,
   "metadata": {},
   "outputs": [
    {
     "name": "stdout",
     "output_type": "stream",
     "text": [
      "<class 'pandas.core.frame.DataFrame'>\n",
      "Int64Index: 24915 entries, 11721753 to 10713993\n",
      "Data columns (total 7 columns):\n",
      " #   Column           Non-Null Count  Dtype  \n",
      "---  ------           --------------  -----  \n",
      " 0   bathrooms        24915 non-null  int64  \n",
      " 1   bedrooms         24915 non-null  int64  \n",
      " 2   square_feet      24915 non-null  int64  \n",
      " 3   county_code      24915 non-null  int64  \n",
      " 4   age              24915 non-null  int64  \n",
      " 5   appraised_value  24915 non-null  int64  \n",
      " 6   taxes            24915 non-null  float64\n",
      "dtypes: float64(1), int64(6)\n",
      "memory usage: 1.5 MB\n"
     ]
    }
   ],
   "source": [
    "# last check\n",
    "df.info()"
   ]
  },
  {
   "cell_type": "code",
   "execution_count": 48,
   "metadata": {},
   "outputs": [
    {
     "data": {
      "text/html": [
       "<div>\n",
       "<style scoped>\n",
       "    .dataframe tbody tr th:only-of-type {\n",
       "        vertical-align: middle;\n",
       "    }\n",
       "\n",
       "    .dataframe tbody tr th {\n",
       "        vertical-align: top;\n",
       "    }\n",
       "\n",
       "    .dataframe thead th {\n",
       "        text-align: right;\n",
       "    }\n",
       "</style>\n",
       "<table border=\"1\" class=\"dataframe\">\n",
       "  <thead>\n",
       "    <tr style=\"text-align: right;\">\n",
       "      <th></th>\n",
       "      <th>bathrooms</th>\n",
       "      <th>bedrooms</th>\n",
       "      <th>square_feet</th>\n",
       "      <th>age</th>\n",
       "      <th>appraised_value</th>\n",
       "    </tr>\n",
       "    <tr>\n",
       "      <th>parcelid</th>\n",
       "      <th></th>\n",
       "      <th></th>\n",
       "      <th></th>\n",
       "      <th></th>\n",
       "      <th></th>\n",
       "    </tr>\n",
       "  </thead>\n",
       "  <tbody>\n",
       "    <tr>\n",
       "      <th>11721753</th>\n",
       "      <td>2</td>\n",
       "      <td>3</td>\n",
       "      <td>1316</td>\n",
       "      <td>94</td>\n",
       "      <td>205123</td>\n",
       "    </tr>\n",
       "    <tr>\n",
       "      <th>11289917</th>\n",
       "      <td>2</td>\n",
       "      <td>3</td>\n",
       "      <td>1458</td>\n",
       "      <td>47</td>\n",
       "      <td>136104</td>\n",
       "    </tr>\n",
       "    <tr>\n",
       "      <th>11705026</th>\n",
       "      <td>1</td>\n",
       "      <td>2</td>\n",
       "      <td>1421</td>\n",
       "      <td>106</td>\n",
       "      <td>35606</td>\n",
       "    </tr>\n",
       "    <tr>\n",
       "      <th>14269464</th>\n",
       "      <td>3</td>\n",
       "      <td>4</td>\n",
       "      <td>2541</td>\n",
       "      <td>14</td>\n",
       "      <td>880456</td>\n",
       "    </tr>\n",
       "    <tr>\n",
       "      <th>11446756</th>\n",
       "      <td>2</td>\n",
       "      <td>3</td>\n",
       "      <td>1491</td>\n",
       "      <td>62</td>\n",
       "      <td>107110</td>\n",
       "    </tr>\n",
       "  </tbody>\n",
       "</table>\n",
       "</div>"
      ],
      "text/plain": [
       "          bathrooms  bedrooms  square_feet  age  appraised_value\n",
       "parcelid                                                        \n",
       "11721753          2         3         1316   94           205123\n",
       "11289917          2         3         1458   47           136104\n",
       "11705026          1         2         1421  106            35606\n",
       "14269464          3         4         2541   14           880456\n",
       "11446756          2         3         1491   62           107110"
      ]
     },
     "execution_count": 48,
     "metadata": {},
     "output_type": "execute_result"
    }
   ],
   "source": [
    "# going to drop columns not needed for project goals\n",
    "mvp_df = df.drop(columns=['county_code', 'taxes'])\n",
    "mvp_df.head()"
   ]
  },
  {
   "cell_type": "code",
   "execution_count": 49,
   "metadata": {},
   "outputs": [
    {
     "data": {
      "text/plain": [
       "((13952, 5), (5980, 5), (4983, 5))"
      ]
     },
     "execution_count": 49,
     "metadata": {},
     "output_type": "execute_result"
    }
   ],
   "source": [
    "train, validate, test, X_train, y_train, X_validate, y_validate, X_test, y_test = prepare.split_zillow(mvp_df, 'appraised_value')\n",
    "train.shape, validate.shape, test.shape"
   ]
  },
  {
   "cell_type": "code",
   "execution_count": 50,
   "metadata": {},
   "outputs": [
    {
     "data": {
      "text/html": [
       "<div>\n",
       "<style scoped>\n",
       "    .dataframe tbody tr th:only-of-type {\n",
       "        vertical-align: middle;\n",
       "    }\n",
       "\n",
       "    .dataframe tbody tr th {\n",
       "        vertical-align: top;\n",
       "    }\n",
       "\n",
       "    .dataframe thead th {\n",
       "        text-align: right;\n",
       "    }\n",
       "</style>\n",
       "<table border=\"1\" class=\"dataframe\">\n",
       "  <thead>\n",
       "    <tr style=\"text-align: right;\">\n",
       "      <th></th>\n",
       "      <th>bathrooms</th>\n",
       "      <th>bedrooms</th>\n",
       "      <th>square_feet</th>\n",
       "      <th>age</th>\n",
       "      <th>appraised_value</th>\n",
       "    </tr>\n",
       "    <tr>\n",
       "      <th>parcelid</th>\n",
       "      <th></th>\n",
       "      <th></th>\n",
       "      <th></th>\n",
       "      <th></th>\n",
       "      <th></th>\n",
       "    </tr>\n",
       "  </thead>\n",
       "  <tbody>\n",
       "    <tr>\n",
       "      <th>11926939</th>\n",
       "      <td>2</td>\n",
       "      <td>3</td>\n",
       "      <td>1336</td>\n",
       "      <td>54</td>\n",
       "      <td>66643</td>\n",
       "    </tr>\n",
       "    <tr>\n",
       "      <th>14306594</th>\n",
       "      <td>3</td>\n",
       "      <td>4</td>\n",
       "      <td>2254</td>\n",
       "      <td>40</td>\n",
       "      <td>160918</td>\n",
       "    </tr>\n",
       "    <tr>\n",
       "      <th>12817643</th>\n",
       "      <td>3</td>\n",
       "      <td>3</td>\n",
       "      <td>3208</td>\n",
       "      <td>41</td>\n",
       "      <td>381923</td>\n",
       "    </tr>\n",
       "    <tr>\n",
       "      <th>11515617</th>\n",
       "      <td>3</td>\n",
       "      <td>3</td>\n",
       "      <td>2502</td>\n",
       "      <td>40</td>\n",
       "      <td>211710</td>\n",
       "    </tr>\n",
       "    <tr>\n",
       "      <th>13864627</th>\n",
       "      <td>2</td>\n",
       "      <td>3</td>\n",
       "      <td>1273</td>\n",
       "      <td>34</td>\n",
       "      <td>692407</td>\n",
       "    </tr>\n",
       "  </tbody>\n",
       "</table>\n",
       "</div>"
      ],
      "text/plain": [
       "          bathrooms  bedrooms  square_feet  age  appraised_value\n",
       "parcelid                                                        \n",
       "11926939          2         3         1336   54            66643\n",
       "14306594          3         4         2254   40           160918\n",
       "12817643          3         3         3208   41           381923\n",
       "11515617          3         3         2502   40           211710\n",
       "13864627          2         3         1273   34           692407"
      ]
     },
     "execution_count": 50,
     "metadata": {},
     "output_type": "execute_result"
    }
   ],
   "source": [
    "train.head()"
   ]
  },
  {
   "cell_type": "code",
   "execution_count": 51,
   "metadata": {},
   "outputs": [
    {
     "data": {
      "text/html": [
       "<div>\n",
       "<style scoped>\n",
       "    .dataframe tbody tr th:only-of-type {\n",
       "        vertical-align: middle;\n",
       "    }\n",
       "\n",
       "    .dataframe tbody tr th {\n",
       "        vertical-align: top;\n",
       "    }\n",
       "\n",
       "    .dataframe thead th {\n",
       "        text-align: right;\n",
       "    }\n",
       "</style>\n",
       "<table border=\"1\" class=\"dataframe\">\n",
       "  <thead>\n",
       "    <tr style=\"text-align: right;\">\n",
       "      <th></th>\n",
       "      <th>bathrooms</th>\n",
       "      <th>bedrooms</th>\n",
       "      <th>square_feet</th>\n",
       "      <th>age</th>\n",
       "    </tr>\n",
       "    <tr>\n",
       "      <th>parcelid</th>\n",
       "      <th></th>\n",
       "      <th></th>\n",
       "      <th></th>\n",
       "      <th></th>\n",
       "    </tr>\n",
       "  </thead>\n",
       "  <tbody>\n",
       "    <tr>\n",
       "      <th>11926939</th>\n",
       "      <td>0.333333</td>\n",
       "      <td>0.333333</td>\n",
       "      <td>0.283708</td>\n",
       "      <td>0.384058</td>\n",
       "    </tr>\n",
       "    <tr>\n",
       "      <th>14306594</th>\n",
       "      <td>0.666667</td>\n",
       "      <td>0.666667</td>\n",
       "      <td>0.541573</td>\n",
       "      <td>0.282609</td>\n",
       "    </tr>\n",
       "    <tr>\n",
       "      <th>12817643</th>\n",
       "      <td>0.666667</td>\n",
       "      <td>0.333333</td>\n",
       "      <td>0.809551</td>\n",
       "      <td>0.289855</td>\n",
       "    </tr>\n",
       "    <tr>\n",
       "      <th>11515617</th>\n",
       "      <td>0.666667</td>\n",
       "      <td>0.333333</td>\n",
       "      <td>0.611236</td>\n",
       "      <td>0.282609</td>\n",
       "    </tr>\n",
       "    <tr>\n",
       "      <th>13864627</th>\n",
       "      <td>0.333333</td>\n",
       "      <td>0.333333</td>\n",
       "      <td>0.266011</td>\n",
       "      <td>0.239130</td>\n",
       "    </tr>\n",
       "  </tbody>\n",
       "</table>\n",
       "</div>"
      ],
      "text/plain": [
       "          bathrooms  bedrooms  square_feet       age\n",
       "parcelid                                            \n",
       "11926939   0.333333  0.333333     0.283708  0.384058\n",
       "14306594   0.666667  0.666667     0.541573  0.282609\n",
       "12817643   0.666667  0.333333     0.809551  0.289855\n",
       "11515617   0.666667  0.333333     0.611236  0.282609\n",
       "13864627   0.333333  0.333333     0.266011  0.239130"
      ]
     },
     "execution_count": 51,
     "metadata": {},
     "output_type": "execute_result"
    }
   ],
   "source": [
    "scaler, X_train_scaled, X_validate_scaled, X_test_scaled = prepare.Min_Max_Scaler(X_train, X_validate, X_test)\n",
    "X_train_scaled.head()"
   ]
  },
  {
   "cell_type": "markdown",
   "metadata": {},
   "source": [
    "## Explore"
   ]
  },
  {
   "cell_type": "code",
   "execution_count": 52,
   "metadata": {},
   "outputs": [
    {
     "data": {
      "image/png": "[encoded data removed]",
      "text/plain": [
       "<Figure size 432x288 with 2 Axes>"
      ]
     },
     "metadata": {
      "needs_background": "light"
     },
     "output_type": "display_data"
    }
   ],
   "source": [
    "sns.heatmap(train.corr(), cmap='coolwarm', center=0, annot=True, fmt='.0%')\n",
    "\n",
    "plt.title('Correlation Heatmap of Variables')\n",
    "plt.show()"
   ]
  },
  {
   "cell_type": "code",
   "execution_count": 53,
   "metadata": {},
   "outputs": [],
   "source": [
    "def plot_variable_pairs(train):\n",
    "    '''\n",
    "    This function will accept a dataframe as input \n",
    "    and plot all the pairwise relationships with the regression line for each pair\n",
    "    '''\n",
    "    sns.pairplot(train, kind = 'reg', corner=True,\n",
    "                plot_kws = {'line_kws': {'color': 'crimson'}})"
   ]
  },
  {
   "cell_type": "code",
   "execution_count": 54,
   "metadata": {},
   "outputs": [
    {
     "data": {
      "image/png": "[encoded data removed]",
      "text/plain": [
       "<Figure size 900x900 with 20 Axes>"
      ]
     },
     "metadata": {
      "needs_background": "light"
     },
     "output_type": "display_data"
    }
   ],
   "source": [
    "plot_variable_pairs(train)"
   ]
  },
  {
   "cell_type": "markdown",
   "metadata": {},
   "source": [
    "#### Takeaways"
   ]
  },
  {
   "cell_type": "markdown",
   "metadata": {},
   "source": [
    "### Statistical Testing\n",
    "\n",
    "#### Correlation Test: Does the number of bathrooms affect the appraised value?\n",
    "\n",
    "- The heatmap shows this category has a high positive correlation.\n",
    "\n",
    "Form hypothesis:\n",
    "\n",
    "- $H_0$ The number of bathrooms has no affect on the appraised value (independent)\n",
    "- $H_a$ The number of bathrooms does have an affect on appraised value (dependent)"
   ]
  },
  {
   "cell_type": "code",
   "execution_count": 55,
   "metadata": {},
   "outputs": [
    {
     "name": "stdout",
     "output_type": "stream",
     "text": [
      "0.37599735774229454 0.0\n",
      "\n",
      "We can reject the null hypothesis that the number of the bathrooms has no affect on the appraised value.\n"
     ]
    }
   ],
   "source": [
    "corr, p = stats.pearsonr(train.bathrooms, train.appraised_value)\n",
    "print(corr, p)\n",
    "\n",
    "# set alpha\n",
    "alpha = 0.05\n",
    "\n",
    "null_hypothesis = \"the number of the bathrooms has no affect on the appraised value.\"\n",
    "\n",
    "if p < alpha:\n",
    "    print(f'\\nWe can reject the null hypothesis that', null_hypothesis)\n",
    "else:\n",
    "    print(f'\\nWe fail to reject the null hypothesis.')"
   ]
  },
  {
   "cell_type": "markdown",
   "metadata": {},
   "source": [
    "#### T-Test: Does the square footage of the property affect the appraised value?\n",
    "\n",
    "- The median value of square_feet is ~1600 sq.ft.\n",
    "- The heatmap shows this category has a highest positive correlation.\n",
    "\n",
    "Form hypothesis:\n",
    "\n",
    "- $H_0$ The average appraised value of properties with 1600 sq.ft. or more is equal to the average appraised value of properties with 1600 sq.ft or less.\n",
    "- $H_a$ The average appraised value of properties with 1600 sq.ft. or more is higher than the average appraised value of properties with 1600 sq.ft or less."
   ]
  },
  {
   "cell_type": "code",
   "execution_count": 56,
   "metadata": {},
   "outputs": [
    {
     "name": "stdout",
     "output_type": "stream",
     "text": [
      "46.967598937311884 0.0\n",
      "\n",
      "We can reject the null hypothesis that the average appraised value of properties with 1600 sq.ft. or more is equal to the average appraised value of properties with 1600 sq.ft or less.\n"
     ]
    }
   ],
   "source": [
    "sqft_less_than_1600 = train[train.square_feet <= 1600]\n",
    "sqft_more_than_1600 = train[train.square_feet > 1600]\n",
    "\n",
    "a = sqft_less_than_1600.appraised_value.mean()\n",
    "b = sqft_more_than_1600.appraised_value.mean()\n",
    "\n",
    "t, p = stats.ttest_ind(sqft_more_than_1600.appraised_value,\n",
    "                sqft_less_than_1600.appraised_value)\n",
    "print(t, p)\n",
    "\n",
    "null_hypothesis = \"the average appraised value of properties with 1600 sq.ft. or more is equal to the average appraised value of properties with 1600 sq.ft or less.\"\n",
    "\n",
    "if p < a:\n",
    "    print(f'\\nWe can reject the null hypothesis that', null_hypothesis)\n",
    "else:\n",
    "    print(f'\\nWe fail to reject the null hypothesis.')"
   ]
  },
  {
   "cell_type": "markdown",
   "metadata": {},
   "source": [
    "## Modeling"
   ]
  },
  {
   "cell_type": "markdown",
   "metadata": {},
   "source": [
    "#### Establish a baseline"
   ]
  },
  {
   "cell_type": "code",
   "execution_count": 57,
   "metadata": {},
   "outputs": [
    {
     "data": {
      "text/html": [
       "<div>\n",
       "<style scoped>\n",
       "    .dataframe tbody tr th:only-of-type {\n",
       "        vertical-align: middle;\n",
       "    }\n",
       "\n",
       "    .dataframe tbody tr th {\n",
       "        vertical-align: top;\n",
       "    }\n",
       "\n",
       "    .dataframe thead th {\n",
       "        text-align: right;\n",
       "    }\n",
       "</style>\n",
       "<table border=\"1\" class=\"dataframe\">\n",
       "  <thead>\n",
       "    <tr style=\"text-align: right;\">\n",
       "      <th></th>\n",
       "      <th>actual</th>\n",
       "      <th>baseline</th>\n",
       "    </tr>\n",
       "    <tr>\n",
       "      <th>parcelid</th>\n",
       "      <th></th>\n",
       "      <th></th>\n",
       "    </tr>\n",
       "  </thead>\n",
       "  <tbody>\n",
       "    <tr>\n",
       "      <th>11926939</th>\n",
       "      <td>66643</td>\n",
       "      <td>387417.109733</td>\n",
       "    </tr>\n",
       "    <tr>\n",
       "      <th>14306594</th>\n",
       "      <td>160918</td>\n",
       "      <td>387417.109733</td>\n",
       "    </tr>\n",
       "    <tr>\n",
       "      <th>12817643</th>\n",
       "      <td>381923</td>\n",
       "      <td>387417.109733</td>\n",
       "    </tr>\n",
       "    <tr>\n",
       "      <th>11515617</th>\n",
       "      <td>211710</td>\n",
       "      <td>387417.109733</td>\n",
       "    </tr>\n",
       "    <tr>\n",
       "      <th>13864627</th>\n",
       "      <td>692407</td>\n",
       "      <td>387417.109733</td>\n",
       "    </tr>\n",
       "  </tbody>\n",
       "</table>\n",
       "</div>"
      ],
      "text/plain": [
       "          actual       baseline\n",
       "parcelid                       \n",
       "11926939   66643  387417.109733\n",
       "14306594  160918  387417.109733\n",
       "12817643  381923  387417.109733\n",
       "11515617  211710  387417.109733\n",
       "13864627  692407  387417.109733"
      ]
     },
     "execution_count": 57,
     "metadata": {},
     "output_type": "execute_result"
    }
   ],
   "source": [
    "y_train = pd.DataFrame({'actual': y_train})\n",
    "y_train['baseline'] = y_train.actual.mean()\n",
    "y_train.head()"
   ]
  },
  {
   "cell_type": "code",
   "execution_count": 73,
   "metadata": {},
   "outputs": [
    {
     "name": "stdout",
     "output_type": "stream",
     "text": [
      "Train RMSE Baseline model:\n",
      "255578.63879967696\n"
     ]
    }
   ],
   "source": [
    "print('Train RMSE Baseline model:')\n",
    "print(math.sqrt(mean_squared_error(y_train.actual, y_train.baseline)))"
   ]
  },
  {
   "cell_type": "code",
   "execution_count": 60,
   "metadata": {},
   "outputs": [
    {
     "data": {
      "text/html": [
       "<div>\n",
       "<style scoped>\n",
       "    .dataframe tbody tr th:only-of-type {\n",
       "        vertical-align: middle;\n",
       "    }\n",
       "\n",
       "    .dataframe tbody tr th {\n",
       "        vertical-align: top;\n",
       "    }\n",
       "\n",
       "    .dataframe thead th {\n",
       "        text-align: right;\n",
       "    }\n",
       "</style>\n",
       "<table border=\"1\" class=\"dataframe\">\n",
       "  <thead>\n",
       "    <tr style=\"text-align: right;\">\n",
       "      <th></th>\n",
       "      <th>actual</th>\n",
       "      <th>baseline</th>\n",
       "    </tr>\n",
       "    <tr>\n",
       "      <th>parcelid</th>\n",
       "      <th></th>\n",
       "      <th></th>\n",
       "    </tr>\n",
       "  </thead>\n",
       "  <tbody>\n",
       "    <tr>\n",
       "      <th>14181729</th>\n",
       "      <td>523217</td>\n",
       "      <td>387417.109733</td>\n",
       "    </tr>\n",
       "    <tr>\n",
       "      <th>17108188</th>\n",
       "      <td>488207</td>\n",
       "      <td>387417.109733</td>\n",
       "    </tr>\n",
       "    <tr>\n",
       "      <th>14375729</th>\n",
       "      <td>395173</td>\n",
       "      <td>387417.109733</td>\n",
       "    </tr>\n",
       "    <tr>\n",
       "      <th>13848541</th>\n",
       "      <td>261074</td>\n",
       "      <td>387417.109733</td>\n",
       "    </tr>\n",
       "    <tr>\n",
       "      <th>12415982</th>\n",
       "      <td>105352</td>\n",
       "      <td>387417.109733</td>\n",
       "    </tr>\n",
       "  </tbody>\n",
       "</table>\n",
       "</div>"
      ],
      "text/plain": [
       "          actual       baseline\n",
       "parcelid                       \n",
       "14181729  523217  387417.109733\n",
       "17108188  488207  387417.109733\n",
       "14375729  395173  387417.109733\n",
       "13848541  261074  387417.109733\n",
       "12415982  105352  387417.109733"
      ]
     },
     "execution_count": 60,
     "metadata": {},
     "output_type": "execute_result"
    }
   ],
   "source": [
    "y_validate = pd.DataFrame({'actual': y_validate})\n",
    "y_validate['baseline'] = y_train.actual.mean()\n",
    "y_validate.head()"
   ]
  },
  {
   "cell_type": "code",
   "execution_count": 74,
   "metadata": {},
   "outputs": [
    {
     "name": "stdout",
     "output_type": "stream",
     "text": [
      "Validate RMSE baseline:\n",
      "259507.4931199972\n"
     ]
    }
   ],
   "source": [
    "print('Validate RMSE baseline:')\n",
    "print(math.sqrt(mean_squared_error(y_validate.actual, y_validate.baseline)))"
   ]
  },
  {
   "cell_type": "markdown",
   "metadata": {},
   "source": [
    "#### Model1 - OLS (LinearRegression)"
   ]
  },
  {
   "cell_type": "code",
   "execution_count": 66,
   "metadata": {},
   "outputs": [
    {
     "name": "stdout",
     "output_type": "stream",
     "text": [
      "Train RMSE for model1:\n",
      "222161.05943080253\n",
      "Validate RMSE model1:\n",
      "225418.91502756294\n"
     ]
    }
   ],
   "source": [
    "# create the model\n",
    "model1 = LinearRegression(normalize=True)\n",
    "# fit the model\n",
    "model1.fit(X_train_scaled, y_train.actual)\n",
    "# use the model to make predictions\n",
    "y_train['model1'] = model1.predict(X_train_scaled)\n",
    "y_validate['model1'] = model1.predict(X_validate_scaled)\n",
    "\n",
    "print('Train RMSE for model1:')\n",
    "print(math.sqrt(mean_squared_error(y_train.actual, y_train.model1)))\n",
    "\n",
    "print('Validate RMSE model1:')\n",
    "print(math.sqrt(mean_squared_error(y_validate.actual, y_validate.model1)))"
   ]
  },
  {
   "cell_type": "markdown",
   "metadata": {},
   "source": [
    "#### Model2 - LassoLars"
   ]
  },
  {
   "cell_type": "code",
   "execution_count": 68,
   "metadata": {},
   "outputs": [
    {
     "name": "stdout",
     "output_type": "stream",
     "text": [
      "Train RMSE for model2:\n",
      "222161.25213043648\n",
      "Validate RMSE model2:\n",
      "225417.4702013851\n"
     ]
    }
   ],
   "source": [
    "# create the model\n",
    "model2 = LassoLars(alpha=1)\n",
    "# fit the model\n",
    "model2.fit(X_train_scaled, y_train.actual)\n",
    "# use the model to make predictions\n",
    "y_train['model2'] = model2.predict(X_train_scaled)\n",
    "y_validate['model2'] = model2.predict(X_validate_scaled)\n",
    "\n",
    "print('Train RMSE for model2:')\n",
    "print(math.sqrt(mean_squared_error(y_train.actual, y_train.model2)))\n",
    "\n",
    "print('Validate RMSE model2:')\n",
    "print(math.sqrt(mean_squared_error(y_validate.actual, y_validate.model2)))"
   ]
  },
  {
   "cell_type": "markdown",
   "metadata": {},
   "source": [
    "#### Model3 - TweedieRegressor (GLM)"
   ]
  },
  {
   "cell_type": "code",
   "execution_count": 71,
   "metadata": {},
   "outputs": [
    {
     "name": "stdout",
     "output_type": "stream",
     "text": [
      "Train RMSE for model3:\n",
      "222610.0931779301\n",
      "Validate RMSE model3:\n",
      "225334.60674407636\n"
     ]
    }
   ],
   "source": [
    "# create the model\n",
    "model3 = TweedieRegressor(power=1, alpha=0)\n",
    "# fit the model\n",
    "model3.fit(X_train_scaled, y_train.actual)\n",
    "# use the model to make predictions\n",
    "y_train['model3'] = model3.predict(X_train_scaled)\n",
    "y_validate['model3'] = model3.predict(X_validate_scaled)\n",
    "\n",
    "print('Train RMSE for model3:')\n",
    "print(math.sqrt(mean_squared_error(y_train.actual, y_train.model3)))\n",
    "\n",
    "print('Validate RMSE model3:')\n",
    "print(math.sqrt(mean_squared_error(y_validate.actual, y_validate.model3)))"
   ]
  },
  {
   "cell_type": "markdown",
   "metadata": {},
   "source": [
    "#### Model4 - Polynomial Regression"
   ]
  },
  {
   "cell_type": "code",
   "execution_count": 72,
   "metadata": {},
   "outputs": [
    {
     "name": "stdout",
     "output_type": "stream",
     "text": [
      "Train RMSE for model4:\n",
      "221021.7141281593\n",
      "Validate RMSE model4:\n",
      "224154.31936100873\n"
     ]
    }
   ],
   "source": [
    "# make the polynomial features \n",
    "pf = PolynomialFeatures(degree=2)\n",
    "# fit and transform X_train_scaled and X_validate_scaled\n",
    "X_train_poly = pf.fit_transform(X_train_scaled)\n",
    "X_validate_poly = pf.transform(X_validate_scaled)\n",
    "\n",
    "## use LinearRegression ##\n",
    "# create the model\n",
    "model4 = LinearRegression(normalize=True)\n",
    "# fit the model\n",
    "model4.fit(X_train_poly, y_train.actual)\n",
    "# use the model to make predictions\n",
    "y_train['model4'] = model4.predict(X_train_poly)\n",
    "y_validate['model4'] = model4.predict(X_validate_poly)\n",
    "\n",
    "print('Train RMSE for model4:')\n",
    "print(math.sqrt(mean_squared_error(y_train.actual, y_train.model4)))\n",
    "\n",
    "print('Validate RMSE model4:')\n",
    "print(math.sqrt(mean_squared_error(y_validate.actual, y_validate.model4)))"
   ]
  },
  {
   "cell_type": "code",
   "execution_count": 75,
   "metadata": {},
   "outputs": [
    {
     "data": {
      "text/html": [
       "<div>\n",
       "<style scoped>\n",
       "    .dataframe tbody tr th:only-of-type {\n",
       "        vertical-align: middle;\n",
       "    }\n",
       "\n",
       "    .dataframe tbody tr th {\n",
       "        vertical-align: top;\n",
       "    }\n",
       "\n",
       "    .dataframe thead th {\n",
       "        text-align: right;\n",
       "    }\n",
       "</style>\n",
       "<table border=\"1\" class=\"dataframe\">\n",
       "  <thead>\n",
       "    <tr style=\"text-align: right;\">\n",
       "      <th></th>\n",
       "      <th>actual</th>\n",
       "      <th>baseline</th>\n",
       "      <th>model1</th>\n",
       "      <th>model2</th>\n",
       "      <th>model3</th>\n",
       "      <th>model4</th>\n",
       "    </tr>\n",
       "    <tr>\n",
       "      <th>parcelid</th>\n",
       "      <th></th>\n",
       "      <th></th>\n",
       "      <th></th>\n",
       "      <th></th>\n",
       "      <th></th>\n",
       "      <th></th>\n",
       "    </tr>\n",
       "  </thead>\n",
       "  <tbody>\n",
       "    <tr>\n",
       "      <th>11926939</th>\n",
       "      <td>66643</td>\n",
       "      <td>387417.109733</td>\n",
       "      <td>312268.751345</td>\n",
       "      <td>312295.594468</td>\n",
       "      <td>314016.989395</td>\n",
       "      <td>300782.999680</td>\n",
       "    </tr>\n",
       "    <tr>\n",
       "      <th>14306594</th>\n",
       "      <td>160918</td>\n",
       "      <td>387417.109733</td>\n",
       "      <td>478180.857902</td>\n",
       "      <td>478143.263689</td>\n",
       "      <td>461387.921972</td>\n",
       "      <td>468426.530007</td>\n",
       "    </tr>\n",
       "    <tr>\n",
       "      <th>12817643</th>\n",
       "      <td>381923</td>\n",
       "      <td>387417.109733</td>\n",
       "      <td>711031.950269</td>\n",
       "      <td>710318.734807</td>\n",
       "      <td>760205.017426</td>\n",
       "      <td>678397.551650</td>\n",
       "    </tr>\n",
       "    <tr>\n",
       "      <th>11515617</th>\n",
       "      <td>211710</td>\n",
       "      <td>387417.109733</td>\n",
       "      <td>567889.628562</td>\n",
       "      <td>567366.772955</td>\n",
       "      <td>558229.031503</td>\n",
       "      <td>557988.526150</td>\n",
       "    </tr>\n",
       "    <tr>\n",
       "      <th>13864627</th>\n",
       "      <td>692407</td>\n",
       "      <td>387417.109733</td>\n",
       "      <td>303765.922742</td>\n",
       "      <td>303730.824512</td>\n",
       "      <td>310079.545664</td>\n",
       "      <td>283318.290186</td>\n",
       "    </tr>\n",
       "  </tbody>\n",
       "</table>\n",
       "</div>"
      ],
      "text/plain": [
       "          actual       baseline         model1         model2         model3  \\\n",
       "parcelid                                                                       \n",
       "11926939   66643  387417.109733  312268.751345  312295.594468  314016.989395   \n",
       "14306594  160918  387417.109733  478180.857902  478143.263689  461387.921972   \n",
       "12817643  381923  387417.109733  711031.950269  710318.734807  760205.017426   \n",
       "11515617  211710  387417.109733  567889.628562  567366.772955  558229.031503   \n",
       "13864627  692407  387417.109733  303765.922742  303730.824512  310079.545664   \n",
       "\n",
       "                 model4  \n",
       "parcelid                 \n",
       "11926939  300782.999680  \n",
       "14306594  468426.530007  \n",
       "12817643  678397.551650  \n",
       "11515617  557988.526150  \n",
       "13864627  283318.290186  "
      ]
     },
     "execution_count": 75,
     "metadata": {},
     "output_type": "execute_result"
    }
   ],
   "source": [
    "y_train.head()"
   ]
  },
  {
   "cell_type": "code",
   "execution_count": null,
   "metadata": {},
   "outputs": [],
   "source": []
  }
 ],
 "metadata": {
  "kernelspec": {
   "display_name": "Python 3",
   "language": "python",
   "name": "python3"
  },
  "language_info": {
   "codemirror_mode": {
    "name": "ipython",
    "version": 3
   },
   "file_extension": ".py",
   "mimetype": "text/x-python",
   "name": "python",
   "nbconvert_exporter": "python",
   "pygments_lexer": "ipython3",
   "version": "3.8.5"
  }
 },
 "nbformat": 4,
 "nbformat_minor": 4
}
