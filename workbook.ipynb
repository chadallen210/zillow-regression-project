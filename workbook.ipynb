{
 "cells": [
  {
   "cell_type": "code",
   "execution_count": 1,
   "metadata": {},
   "outputs": [],
   "source": [
    "import math\n",
    "import numpy as np\n",
    "import pandas as pd\n",
    "from scipy import stats\n",
    "\n",
    "from sklearn.linear_model import LinearRegression, LassoLars, TweedieRegressor\n",
    "from sklearn.metrics import mean_squared_error, explained_variance_score\n",
    "from sklearn.preprocessing import MinMaxScaler, PolynomialFeatures\n",
    "\n",
    "import matplotlib.pyplot as plt\n",
    "import seaborn as sns\n",
    "\n",
    "import acquire\n",
    "import prepare\n",
    "\n",
    "import warnings\n",
    "warnings.filterwarnings(\"ignore\")"
   ]
  },
  {
   "cell_type": "code",
   "execution_count": 2,
   "metadata": {},
   "outputs": [
    {
     "data": {
      "text/html": [
       "<div>\n",
       "<style scoped>\n",
       "    .dataframe tbody tr th:only-of-type {\n",
       "        vertical-align: middle;\n",
       "    }\n",
       "\n",
       "    .dataframe tbody tr th {\n",
       "        vertical-align: top;\n",
       "    }\n",
       "\n",
       "    .dataframe thead th {\n",
       "        text-align: right;\n",
       "    }\n",
       "</style>\n",
       "<table border=\"1\" class=\"dataframe\">\n",
       "  <thead>\n",
       "    <tr style=\"text-align: right;\">\n",
       "      <th></th>\n",
       "      <th>parcelid</th>\n",
       "      <th>bathroomcnt</th>\n",
       "      <th>bedroomcnt</th>\n",
       "      <th>calculatedfinishedsquarefeet</th>\n",
       "      <th>fips</th>\n",
       "      <th>yearbuilt</th>\n",
       "      <th>taxvaluedollarcnt</th>\n",
       "      <th>taxamount</th>\n",
       "    </tr>\n",
       "  </thead>\n",
       "  <tbody>\n",
       "    <tr>\n",
       "      <th>0</th>\n",
       "      <td>11721753</td>\n",
       "      <td>2.0</td>\n",
       "      <td>3.0</td>\n",
       "      <td>1316.0</td>\n",
       "      <td>6037.0</td>\n",
       "      <td>1923.0</td>\n",
       "      <td>205123.0</td>\n",
       "      <td>2627.48</td>\n",
       "    </tr>\n",
       "    <tr>\n",
       "      <th>1</th>\n",
       "      <td>11289917</td>\n",
       "      <td>2.0</td>\n",
       "      <td>3.0</td>\n",
       "      <td>1458.0</td>\n",
       "      <td>6037.0</td>\n",
       "      <td>1970.0</td>\n",
       "      <td>136104.0</td>\n",
       "      <td>2319.90</td>\n",
       "    </tr>\n",
       "    <tr>\n",
       "      <th>2</th>\n",
       "      <td>11705026</td>\n",
       "      <td>1.0</td>\n",
       "      <td>2.0</td>\n",
       "      <td>1421.0</td>\n",
       "      <td>6037.0</td>\n",
       "      <td>1911.0</td>\n",
       "      <td>35606.0</td>\n",
       "      <td>543.69</td>\n",
       "    </tr>\n",
       "    <tr>\n",
       "      <th>3</th>\n",
       "      <td>14269464</td>\n",
       "      <td>3.0</td>\n",
       "      <td>4.0</td>\n",
       "      <td>2541.0</td>\n",
       "      <td>6059.0</td>\n",
       "      <td>2003.0</td>\n",
       "      <td>880456.0</td>\n",
       "      <td>9819.72</td>\n",
       "    </tr>\n",
       "    <tr>\n",
       "      <th>4</th>\n",
       "      <td>11446756</td>\n",
       "      <td>2.0</td>\n",
       "      <td>3.0</td>\n",
       "      <td>1491.0</td>\n",
       "      <td>6037.0</td>\n",
       "      <td>1955.0</td>\n",
       "      <td>107110.0</td>\n",
       "      <td>1399.27</td>\n",
       "    </tr>\n",
       "  </tbody>\n",
       "</table>\n",
       "</div>"
      ],
      "text/plain": [
       "   parcelid  bathroomcnt  bedroomcnt  calculatedfinishedsquarefeet    fips  \\\n",
       "0  11721753          2.0         3.0                        1316.0  6037.0   \n",
       "1  11289917          2.0         3.0                        1458.0  6037.0   \n",
       "2  11705026          1.0         2.0                        1421.0  6037.0   \n",
       "3  14269464          3.0         4.0                        2541.0  6059.0   \n",
       "4  11446756          2.0         3.0                        1491.0  6037.0   \n",
       "\n",
       "   yearbuilt  taxvaluedollarcnt  taxamount  \n",
       "0     1923.0           205123.0    2627.48  \n",
       "1     1970.0           136104.0    2319.90  \n",
       "2     1911.0            35606.0     543.69  \n",
       "3     2003.0           880456.0    9819.72  \n",
       "4     1955.0           107110.0    1399.27  "
      ]
     },
     "execution_count": 2,
     "metadata": {},
     "output_type": "execute_result"
    }
   ],
   "source": [
    "df = acquire.get_zillow_data()\n",
    "df.head()"
   ]
  },
  {
   "cell_type": "code",
   "execution_count": 3,
   "metadata": {},
   "outputs": [
    {
     "data": {
      "text/plain": [
       "(28185, 8)"
      ]
     },
     "execution_count": 3,
     "metadata": {},
     "output_type": "execute_result"
    }
   ],
   "source": [
    "df.shape"
   ]
  },
  {
   "cell_type": "code",
   "execution_count": 4,
   "metadata": {},
   "outputs": [
    {
     "name": "stdout",
     "output_type": "stream",
     "text": [
      "<class 'pandas.core.frame.DataFrame'>\n",
      "Int64Index: 28185 entries, 0 to 28184\n",
      "Data columns (total 8 columns):\n",
      " #   Column                        Non-Null Count  Dtype  \n",
      "---  ------                        --------------  -----  \n",
      " 0   parcelid                      28185 non-null  int64  \n",
      " 1   bathroomcnt                   28185 non-null  float64\n",
      " 2   bedroomcnt                    28185 non-null  float64\n",
      " 3   calculatedfinishedsquarefeet  28117 non-null  float64\n",
      " 4   fips                          28185 non-null  float64\n",
      " 5   yearbuilt                     28093 non-null  float64\n",
      " 6   taxvaluedollarcnt             28184 non-null  float64\n",
      " 7   taxamount                     28184 non-null  float64\n",
      "dtypes: float64(7), int64(1)\n",
      "memory usage: 1.9 MB\n"
     ]
    }
   ],
   "source": [
    "df.info()"
   ]
  },
  {
   "cell_type": "code",
   "execution_count": 5,
   "metadata": {},
   "outputs": [
    {
     "data": {
      "text/plain": [
       "parcelid                        28160\n",
       "bathroomcnt                        20\n",
       "bedroomcnt                         13\n",
       "calculatedfinishedsquarefeet     4056\n",
       "fips                                3\n",
       "yearbuilt                         131\n",
       "taxvaluedollarcnt               22786\n",
       "taxamount                       27719\n",
       "dtype: int64"
      ]
     },
     "execution_count": 5,
     "metadata": {},
     "output_type": "execute_result"
    }
   ],
   "source": [
    "# check for number of unique values in each column\n",
    "df.nunique()"
   ]
  },
  {
   "cell_type": "code",
   "execution_count": 6,
   "metadata": {},
   "outputs": [
    {
     "data": {
      "image/png": "[encoded data removed]",
      "text/plain": [
       "<Figure size 432x288 with 1 Axes>"
      ]
     },
     "metadata": {
      "needs_background": "light"
     },
     "output_type": "display_data"
    }
   ],
   "source": [
    "# quick viz of bathroomcnt\n",
    "sns.boxplot(data=df.bathroomcnt)\n",
    "plt.title('Distribution of Bathroom Counts')\n",
    "plt.show()"
   ]
  },
  {
   "cell_type": "code",
   "execution_count": 7,
   "metadata": {},
   "outputs": [
    {
     "data": {
      "image/png": "[encoded data removed]",
      "text/plain": [
       "<Figure size 432x288 with 1 Axes>"
      ]
     },
     "metadata": {
      "needs_background": "light"
     },
     "output_type": "display_data"
    }
   ],
   "source": [
    "# quick viz of bedroomcnt\n",
    "sns.boxplot(data=df.bedroomcnt)\n",
    "plt.title('Distribution of Bedroom Counts')\n",
    "plt.show()"
   ]
  },
  {
   "cell_type": "code",
   "execution_count": 8,
   "metadata": {},
   "outputs": [
    {
     "data": {
      "image/png": "[encoded data removed]",
      "text/plain": [
       "<Figure size 432x288 with 1 Axes>"
      ]
     },
     "metadata": {
      "needs_background": "light"
     },
     "output_type": "display_data"
    }
   ],
   "source": [
    "# quick viz of calculatedfinishedsquarefeet\n",
    "sns.histplot(data=df.calculatedfinishedsquarefeet)\n",
    "plt.title('Distribution of Square Feet')\n",
    "plt.show()"
   ]
  },
  {
   "cell_type": "code",
   "execution_count": 9,
   "metadata": {},
   "outputs": [
    {
     "data": {
      "image/png": "[encoded data removed]",
      "text/plain": [
       "<Figure size 432x288 with 1 Axes>"
      ]
     },
     "metadata": {
      "needs_background": "light"
     },
     "output_type": "display_data"
    }
   ],
   "source": [
    "# quick viz of taxvaluedollarcnt\n",
    "sns.histplot(data=df.taxvaluedollarcnt)\n",
    "plt.title('Distribution of Appraised Value')\n",
    "plt.show()"
   ]
  },
  {
   "cell_type": "code",
   "execution_count": 10,
   "metadata": {},
   "outputs": [
    {
     "data": {
      "text/html": [
       "<div>\n",
       "<style scoped>\n",
       "    .dataframe tbody tr th:only-of-type {\n",
       "        vertical-align: middle;\n",
       "    }\n",
       "\n",
       "    .dataframe tbody tr th {\n",
       "        vertical-align: top;\n",
       "    }\n",
       "\n",
       "    .dataframe thead th {\n",
       "        text-align: right;\n",
       "    }\n",
       "</style>\n",
       "<table border=\"1\" class=\"dataframe\">\n",
       "  <thead>\n",
       "    <tr style=\"text-align: right;\">\n",
       "      <th></th>\n",
       "      <th>bathroomcnt</th>\n",
       "      <th>bedroomcnt</th>\n",
       "      <th>calculatedfinishedsquarefeet</th>\n",
       "      <th>fips</th>\n",
       "      <th>yearbuilt</th>\n",
       "      <th>taxvaluedollarcnt</th>\n",
       "      <th>taxamount</th>\n",
       "    </tr>\n",
       "    <tr>\n",
       "      <th>parcelid</th>\n",
       "      <th></th>\n",
       "      <th></th>\n",
       "      <th></th>\n",
       "      <th></th>\n",
       "      <th></th>\n",
       "      <th></th>\n",
       "      <th></th>\n",
       "    </tr>\n",
       "  </thead>\n",
       "  <tbody>\n",
       "    <tr>\n",
       "      <th>11721753</th>\n",
       "      <td>2.0</td>\n",
       "      <td>3.0</td>\n",
       "      <td>1316.0</td>\n",
       "      <td>6037.0</td>\n",
       "      <td>1923.0</td>\n",
       "      <td>205123.0</td>\n",
       "      <td>2627.48</td>\n",
       "    </tr>\n",
       "    <tr>\n",
       "      <th>11289917</th>\n",
       "      <td>2.0</td>\n",
       "      <td>3.0</td>\n",
       "      <td>1458.0</td>\n",
       "      <td>6037.0</td>\n",
       "      <td>1970.0</td>\n",
       "      <td>136104.0</td>\n",
       "      <td>2319.90</td>\n",
       "    </tr>\n",
       "    <tr>\n",
       "      <th>11705026</th>\n",
       "      <td>1.0</td>\n",
       "      <td>2.0</td>\n",
       "      <td>1421.0</td>\n",
       "      <td>6037.0</td>\n",
       "      <td>1911.0</td>\n",
       "      <td>35606.0</td>\n",
       "      <td>543.69</td>\n",
       "    </tr>\n",
       "    <tr>\n",
       "      <th>14269464</th>\n",
       "      <td>3.0</td>\n",
       "      <td>4.0</td>\n",
       "      <td>2541.0</td>\n",
       "      <td>6059.0</td>\n",
       "      <td>2003.0</td>\n",
       "      <td>880456.0</td>\n",
       "      <td>9819.72</td>\n",
       "    </tr>\n",
       "    <tr>\n",
       "      <th>11446756</th>\n",
       "      <td>2.0</td>\n",
       "      <td>3.0</td>\n",
       "      <td>1491.0</td>\n",
       "      <td>6037.0</td>\n",
       "      <td>1955.0</td>\n",
       "      <td>107110.0</td>\n",
       "      <td>1399.27</td>\n",
       "    </tr>\n",
       "  </tbody>\n",
       "</table>\n",
       "</div>"
      ],
      "text/plain": [
       "          bathroomcnt  bedroomcnt  calculatedfinishedsquarefeet    fips  \\\n",
       "parcelid                                                                  \n",
       "11721753          2.0         3.0                        1316.0  6037.0   \n",
       "11289917          2.0         3.0                        1458.0  6037.0   \n",
       "11705026          1.0         2.0                        1421.0  6037.0   \n",
       "14269464          3.0         4.0                        2541.0  6059.0   \n",
       "11446756          2.0         3.0                        1491.0  6037.0   \n",
       "\n",
       "          yearbuilt  taxvaluedollarcnt  taxamount  \n",
       "parcelid                                           \n",
       "11721753     1923.0           205123.0    2627.48  \n",
       "11289917     1970.0           136104.0    2319.90  \n",
       "11705026     1911.0            35606.0     543.69  \n",
       "14269464     2003.0           880456.0    9819.72  \n",
       "11446756     1955.0           107110.0    1399.27  "
      ]
     },
     "execution_count": 10,
     "metadata": {},
     "output_type": "execute_result"
    }
   ],
   "source": [
    "# set index to parcelid\n",
    "df.set_index('parcelid', drop=True, inplace=True)\n",
    "df.head()"
   ]
  },
  {
   "cell_type": "code",
   "execution_count": 11,
   "metadata": {},
   "outputs": [
    {
     "name": "stdout",
     "output_type": "stream",
     "text": [
      "Your selected dataframe has 7 columns.\n",
      "There are 4 columns that have missing values.\n",
      "  \n",
      "** There are 30 duplicate rows that represents 0.11% of total Values**\n"
     ]
    },
    {
     "data": {
      "text/html": [
       "<div>\n",
       "<style scoped>\n",
       "    .dataframe tbody tr th:only-of-type {\n",
       "        vertical-align: middle;\n",
       "    }\n",
       "\n",
       "    .dataframe tbody tr th {\n",
       "        vertical-align: top;\n",
       "    }\n",
       "\n",
       "    .dataframe thead th {\n",
       "        text-align: right;\n",
       "    }\n",
       "</style>\n",
       "<table border=\"1\" class=\"dataframe\">\n",
       "  <thead>\n",
       "    <tr style=\"text-align: right;\">\n",
       "      <th></th>\n",
       "      <th>Missing Values</th>\n",
       "      <th>% of Total Values</th>\n",
       "    </tr>\n",
       "  </thead>\n",
       "  <tbody>\n",
       "    <tr>\n",
       "      <th>yearbuilt</th>\n",
       "      <td>92</td>\n",
       "      <td>0.3</td>\n",
       "    </tr>\n",
       "    <tr>\n",
       "      <th>calculatedfinishedsquarefeet</th>\n",
       "      <td>68</td>\n",
       "      <td>0.2</td>\n",
       "    </tr>\n",
       "    <tr>\n",
       "      <th>taxvaluedollarcnt</th>\n",
       "      <td>1</td>\n",
       "      <td>0.0</td>\n",
       "    </tr>\n",
       "    <tr>\n",
       "      <th>taxamount</th>\n",
       "      <td>1</td>\n",
       "      <td>0.0</td>\n",
       "    </tr>\n",
       "  </tbody>\n",
       "</table>\n",
       "</div>"
      ],
      "text/plain": [
       "                              Missing Values  % of Total Values\n",
       "yearbuilt                                 92                0.3\n",
       "calculatedfinishedsquarefeet              68                0.2\n",
       "taxvaluedollarcnt                          1                0.0\n",
       "taxamount                                  1                0.0"
      ]
     },
     "execution_count": 11,
     "metadata": {},
     "output_type": "execute_result"
    }
   ],
   "source": [
    "prepare.miss_dup_values(df)"
   ]
  },
  {
   "cell_type": "code",
   "execution_count": 12,
   "metadata": {},
   "outputs": [
    {
     "name": "stdout",
     "output_type": "stream",
     "text": [
      "<class 'pandas.core.frame.DataFrame'>\n",
      "Int64Index: 28185 entries, 11721753 to 10713993\n",
      "Data columns (total 7 columns):\n",
      " #   Column                        Non-Null Count  Dtype  \n",
      "---  ------                        --------------  -----  \n",
      " 0   bathroomcnt                   28185 non-null  float64\n",
      " 1   bedroomcnt                    28185 non-null  float64\n",
      " 2   calculatedfinishedsquarefeet  28117 non-null  float64\n",
      " 3   fips                          28185 non-null  float64\n",
      " 4   yearbuilt                     28093 non-null  float64\n",
      " 5   taxvaluedollarcnt             28184 non-null  float64\n",
      " 6   taxamount                     28184 non-null  float64\n",
      "dtypes: float64(7)\n",
      "memory usage: 1.7 MB\n"
     ]
    }
   ],
   "source": [
    "df.info()"
   ]
  },
  {
   "cell_type": "code",
   "execution_count": 13,
   "metadata": {},
   "outputs": [
    {
     "name": "stdout",
     "output_type": "stream",
     "text": [
      "<class 'pandas.core.frame.DataFrame'>\n",
      "Int64Index: 28127 entries, 11721753 to 10713993\n",
      "Data columns (total 7 columns):\n",
      " #   Column                        Non-Null Count  Dtype  \n",
      "---  ------                        --------------  -----  \n",
      " 0   bathroomcnt                   28127 non-null  float64\n",
      " 1   bedroomcnt                    28127 non-null  float64\n",
      " 2   calculatedfinishedsquarefeet  28062 non-null  float64\n",
      " 3   fips                          28127 non-null  float64\n",
      " 4   yearbuilt                     28038 non-null  float64\n",
      " 5   taxvaluedollarcnt             28126 non-null  float64\n",
      " 6   taxamount                     28126 non-null  float64\n",
      "dtypes: float64(7)\n",
      "memory usage: 1.7 MB\n"
     ]
    }
   ],
   "source": [
    "# drop any duplicates (removed 58 records)\n",
    "df.drop_duplicates(keep=False, inplace=True)\n",
    "df.info()"
   ]
  },
  {
   "cell_type": "code",
   "execution_count": 14,
   "metadata": {},
   "outputs": [
    {
     "name": "stdout",
     "output_type": "stream",
     "text": [
      "Your selected dataframe has 7 columns.\n",
      "There are 4 columns that have missing values.\n",
      "  \n",
      "** There are 0 duplicate rows that represents 0.0% of total Values**\n"
     ]
    },
    {
     "data": {
      "text/html": [
       "<div>\n",
       "<style scoped>\n",
       "    .dataframe tbody tr th:only-of-type {\n",
       "        vertical-align: middle;\n",
       "    }\n",
       "\n",
       "    .dataframe tbody tr th {\n",
       "        vertical-align: top;\n",
       "    }\n",
       "\n",
       "    .dataframe thead th {\n",
       "        text-align: right;\n",
       "    }\n",
       "</style>\n",
       "<table border=\"1\" class=\"dataframe\">\n",
       "  <thead>\n",
       "    <tr style=\"text-align: right;\">\n",
       "      <th></th>\n",
       "      <th>Missing Values</th>\n",
       "      <th>% of Total Values</th>\n",
       "    </tr>\n",
       "  </thead>\n",
       "  <tbody>\n",
       "    <tr>\n",
       "      <th>yearbuilt</th>\n",
       "      <td>89</td>\n",
       "      <td>0.3</td>\n",
       "    </tr>\n",
       "    <tr>\n",
       "      <th>calculatedfinishedsquarefeet</th>\n",
       "      <td>65</td>\n",
       "      <td>0.2</td>\n",
       "    </tr>\n",
       "    <tr>\n",
       "      <th>taxvaluedollarcnt</th>\n",
       "      <td>1</td>\n",
       "      <td>0.0</td>\n",
       "    </tr>\n",
       "    <tr>\n",
       "      <th>taxamount</th>\n",
       "      <td>1</td>\n",
       "      <td>0.0</td>\n",
       "    </tr>\n",
       "  </tbody>\n",
       "</table>\n",
       "</div>"
      ],
      "text/plain": [
       "                              Missing Values  % of Total Values\n",
       "yearbuilt                                 89                0.3\n",
       "calculatedfinishedsquarefeet              65                0.2\n",
       "taxvaluedollarcnt                          1                0.0\n",
       "taxamount                                  1                0.0"
      ]
     },
     "execution_count": 14,
     "metadata": {},
     "output_type": "execute_result"
    }
   ],
   "source": [
    "prepare.miss_dup_values(df)"
   ]
  },
  {
   "cell_type": "code",
   "execution_count": 15,
   "metadata": {},
   "outputs": [
    {
     "name": "stdout",
     "output_type": "stream",
     "text": [
      "<class 'pandas.core.frame.DataFrame'>\n",
      "Int64Index: 28127 entries, 11721753 to 10713993\n",
      "Data columns (total 7 columns):\n",
      " #   Column                        Non-Null Count  Dtype  \n",
      "---  ------                        --------------  -----  \n",
      " 0   bathroomcnt                   28127 non-null  float64\n",
      " 1   bedroomcnt                    28127 non-null  float64\n",
      " 2   calculatedfinishedsquarefeet  28062 non-null  float64\n",
      " 3   fips                          28127 non-null  float64\n",
      " 4   yearbuilt                     28038 non-null  float64\n",
      " 5   taxvaluedollarcnt             28126 non-null  float64\n",
      " 6   taxamount                     28126 non-null  float64\n",
      "dtypes: float64(7)\n",
      "memory usage: 1.7 MB\n"
     ]
    }
   ],
   "source": [
    "# replace symbols, etc with NaN's\n",
    "df = df.replace(r'^\\s*$', np.nan, regex=True)\n",
    "df.info()"
   ]
  },
  {
   "cell_type": "code",
   "execution_count": 16,
   "metadata": {},
   "outputs": [
    {
     "name": "stdout",
     "output_type": "stream",
     "text": [
      "<class 'pandas.core.frame.DataFrame'>\n",
      "Int64Index: 28033 entries, 11721753 to 10713993\n",
      "Data columns (total 7 columns):\n",
      " #   Column                        Non-Null Count  Dtype  \n",
      "---  ------                        --------------  -----  \n",
      " 0   bathroomcnt                   28033 non-null  float64\n",
      " 1   bedroomcnt                    28033 non-null  float64\n",
      " 2   calculatedfinishedsquarefeet  28033 non-null  float64\n",
      " 3   fips                          28033 non-null  float64\n",
      " 4   yearbuilt                     28033 non-null  float64\n",
      " 5   taxvaluedollarcnt             28033 non-null  float64\n",
      " 6   taxamount                     28033 non-null  float64\n",
      "dtypes: float64(7)\n",
      "memory usage: 1.7 MB\n"
     ]
    }
   ],
   "source": [
    "# drop nulls (removed 94 records)\n",
    "df = df.dropna(axis=0)\n",
    "df.info()"
   ]
  },
  {
   "cell_type": "code",
   "execution_count": 17,
   "metadata": {},
   "outputs": [
    {
     "name": "stdout",
     "output_type": "stream",
     "text": [
      "Your selected dataframe has 7 columns.\n",
      "There are 0 columns that have missing values.\n",
      "  \n",
      "** There are 0 duplicate rows that represents 0.0% of total Values**\n"
     ]
    },
    {
     "data": {
      "text/html": [
       "<div>\n",
       "<style scoped>\n",
       "    .dataframe tbody tr th:only-of-type {\n",
       "        vertical-align: middle;\n",
       "    }\n",
       "\n",
       "    .dataframe tbody tr th {\n",
       "        vertical-align: top;\n",
       "    }\n",
       "\n",
       "    .dataframe thead th {\n",
       "        text-align: right;\n",
       "    }\n",
       "</style>\n",
       "<table border=\"1\" class=\"dataframe\">\n",
       "  <thead>\n",
       "    <tr style=\"text-align: right;\">\n",
       "      <th></th>\n",
       "      <th>Missing Values</th>\n",
       "      <th>% of Total Values</th>\n",
       "    </tr>\n",
       "  </thead>\n",
       "  <tbody>\n",
       "  </tbody>\n",
       "</table>\n",
       "</div>"
      ],
      "text/plain": [
       "Empty DataFrame\n",
       "Columns: [Missing Values, % of Total Values]\n",
       "Index: []"
      ]
     },
     "execution_count": 17,
     "metadata": {},
     "output_type": "execute_result"
    }
   ],
   "source": [
    "prepare.miss_dup_values(df)"
   ]
  },
  {
   "cell_type": "code",
   "execution_count": 18,
   "metadata": {},
   "outputs": [
    {
     "name": "stdout",
     "output_type": "stream",
     "text": [
      "<class 'pandas.core.frame.DataFrame'>\n",
      "Int64Index: 28033 entries, 11721753 to 10713993\n",
      "Data columns (total 7 columns):\n",
      " #   Column                        Non-Null Count  Dtype  \n",
      "---  ------                        --------------  -----  \n",
      " 0   bathroomcnt                   28033 non-null  float64\n",
      " 1   bedroomcnt                    28033 non-null  float64\n",
      " 2   calculatedfinishedsquarefeet  28033 non-null  float64\n",
      " 3   fips                          28033 non-null  float64\n",
      " 4   yearbuilt                     28033 non-null  float64\n",
      " 5   taxvaluedollarcnt             28033 non-null  float64\n",
      " 6   taxamount                     28033 non-null  float64\n",
      "dtypes: float64(7)\n",
      "memory usage: 1.7 MB\n"
     ]
    }
   ],
   "source": [
    "df.info()"
   ]
  },
  {
   "cell_type": "code",
   "execution_count": 19,
   "metadata": {},
   "outputs": [],
   "source": [
    "# rename columns\n",
    "df = df.rename(columns={'parcelid': 'parcel_id', 'bathroomcnt': 'bathrooms', 'bedroomcnt': 'bedrooms',\n",
    "                       'calculatedfinishedsquarefeet': 'square_feet', 'fips': 'county_code',\n",
    "                       'yearbuilt': 'age', 'taxvaluedollarcnt': 'appraised_value', 'taxamount': 'taxes'})"
   ]
  },
  {
   "cell_type": "code",
   "execution_count": 20,
   "metadata": {},
   "outputs": [
    {
     "name": "stdout",
     "output_type": "stream",
     "text": [
      "<class 'pandas.core.frame.DataFrame'>\n",
      "Int64Index: 28033 entries, 11721753 to 10713993\n",
      "Data columns (total 7 columns):\n",
      " #   Column           Non-Null Count  Dtype  \n",
      "---  ------           --------------  -----  \n",
      " 0   bathrooms        28033 non-null  float64\n",
      " 1   bedrooms         28033 non-null  float64\n",
      " 2   square_feet      28033 non-null  float64\n",
      " 3   county_code      28033 non-null  float64\n",
      " 4   age              28033 non-null  float64\n",
      " 5   appraised_value  28033 non-null  float64\n",
      " 6   taxes            28033 non-null  float64\n",
      "dtypes: float64(7)\n",
      "memory usage: 1.7 MB\n"
     ]
    }
   ],
   "source": [
    "df.info()"
   ]
  },
  {
   "cell_type": "code",
   "execution_count": 21,
   "metadata": {},
   "outputs": [],
   "source": [
    "# convert year built into age, age is better for evaluation\n",
    "df.age = 2017 - df.age"
   ]
  },
  {
   "cell_type": "code",
   "execution_count": 22,
   "metadata": {},
   "outputs": [
    {
     "data": {
      "text/html": [
       "<div>\n",
       "<style scoped>\n",
       "    .dataframe tbody tr th:only-of-type {\n",
       "        vertical-align: middle;\n",
       "    }\n",
       "\n",
       "    .dataframe tbody tr th {\n",
       "        vertical-align: top;\n",
       "    }\n",
       "\n",
       "    .dataframe thead th {\n",
       "        text-align: right;\n",
       "    }\n",
       "</style>\n",
       "<table border=\"1\" class=\"dataframe\">\n",
       "  <thead>\n",
       "    <tr style=\"text-align: right;\">\n",
       "      <th></th>\n",
       "      <th>bathrooms</th>\n",
       "      <th>bedrooms</th>\n",
       "      <th>square_feet</th>\n",
       "      <th>county_code</th>\n",
       "      <th>age</th>\n",
       "      <th>appraised_value</th>\n",
       "      <th>taxes</th>\n",
       "    </tr>\n",
       "    <tr>\n",
       "      <th>parcelid</th>\n",
       "      <th></th>\n",
       "      <th></th>\n",
       "      <th></th>\n",
       "      <th></th>\n",
       "      <th></th>\n",
       "      <th></th>\n",
       "      <th></th>\n",
       "    </tr>\n",
       "  </thead>\n",
       "  <tbody>\n",
       "    <tr>\n",
       "      <th>11721753</th>\n",
       "      <td>2.0</td>\n",
       "      <td>3.0</td>\n",
       "      <td>1316.0</td>\n",
       "      <td>6037.0</td>\n",
       "      <td>94.0</td>\n",
       "      <td>205123.0</td>\n",
       "      <td>2627.48</td>\n",
       "    </tr>\n",
       "    <tr>\n",
       "      <th>11289917</th>\n",
       "      <td>2.0</td>\n",
       "      <td>3.0</td>\n",
       "      <td>1458.0</td>\n",
       "      <td>6037.0</td>\n",
       "      <td>47.0</td>\n",
       "      <td>136104.0</td>\n",
       "      <td>2319.90</td>\n",
       "    </tr>\n",
       "    <tr>\n",
       "      <th>11705026</th>\n",
       "      <td>1.0</td>\n",
       "      <td>2.0</td>\n",
       "      <td>1421.0</td>\n",
       "      <td>6037.0</td>\n",
       "      <td>106.0</td>\n",
       "      <td>35606.0</td>\n",
       "      <td>543.69</td>\n",
       "    </tr>\n",
       "    <tr>\n",
       "      <th>14269464</th>\n",
       "      <td>3.0</td>\n",
       "      <td>4.0</td>\n",
       "      <td>2541.0</td>\n",
       "      <td>6059.0</td>\n",
       "      <td>14.0</td>\n",
       "      <td>880456.0</td>\n",
       "      <td>9819.72</td>\n",
       "    </tr>\n",
       "    <tr>\n",
       "      <th>11446756</th>\n",
       "      <td>2.0</td>\n",
       "      <td>3.0</td>\n",
       "      <td>1491.0</td>\n",
       "      <td>6037.0</td>\n",
       "      <td>62.0</td>\n",
       "      <td>107110.0</td>\n",
       "      <td>1399.27</td>\n",
       "    </tr>\n",
       "  </tbody>\n",
       "</table>\n",
       "</div>"
      ],
      "text/plain": [
       "          bathrooms  bedrooms  square_feet  county_code    age  \\\n",
       "parcelid                                                         \n",
       "11721753        2.0       3.0       1316.0       6037.0   94.0   \n",
       "11289917        2.0       3.0       1458.0       6037.0   47.0   \n",
       "11705026        1.0       2.0       1421.0       6037.0  106.0   \n",
       "14269464        3.0       4.0       2541.0       6059.0   14.0   \n",
       "11446756        2.0       3.0       1491.0       6037.0   62.0   \n",
       "\n",
       "          appraised_value    taxes  \n",
       "parcelid                            \n",
       "11721753         205123.0  2627.48  \n",
       "11289917         136104.0  2319.90  \n",
       "11705026          35606.0   543.69  \n",
       "14269464         880456.0  9819.72  \n",
       "11446756         107110.0  1399.27  "
      ]
     },
     "execution_count": 22,
     "metadata": {},
     "output_type": "execute_result"
    }
   ],
   "source": [
    "df.head()"
   ]
  },
  {
   "cell_type": "code",
   "execution_count": 23,
   "metadata": {},
   "outputs": [],
   "source": [
    "# change data types from float to int\n",
    "df.bathrooms = df.bathrooms.astype('int')\n",
    "df.bedrooms = df.bedrooms.astype('int')\n",
    "df.square_feet = df.square_feet.astype('int')\n",
    "df.county_code = df.county_code.astype('int')\n",
    "df.age = df.age.astype('int')\n",
    "df.appraised_value = df.appraised_value.astype('int')"
   ]
  },
  {
   "cell_type": "code",
   "execution_count": 24,
   "metadata": {},
   "outputs": [
    {
     "name": "stdout",
     "output_type": "stream",
     "text": [
      "<class 'pandas.core.frame.DataFrame'>\n",
      "Int64Index: 28033 entries, 11721753 to 10713993\n",
      "Data columns (total 7 columns):\n",
      " #   Column           Non-Null Count  Dtype  \n",
      "---  ------           --------------  -----  \n",
      " 0   bathrooms        28033 non-null  int64  \n",
      " 1   bedrooms         28033 non-null  int64  \n",
      " 2   square_feet      28033 non-null  int64  \n",
      " 3   county_code      28033 non-null  int64  \n",
      " 4   age              28033 non-null  int64  \n",
      " 5   appraised_value  28033 non-null  int64  \n",
      " 6   taxes            28033 non-null  float64\n",
      "dtypes: float64(1), int64(6)\n",
      "memory usage: 1.7 MB\n"
     ]
    }
   ],
   "source": [
    "df.info()"
   ]
  },
  {
   "cell_type": "code",
   "execution_count": 25,
   "metadata": {},
   "outputs": [
    {
     "data": {
      "text/plain": [
       "count    28033.000000\n",
       "mean      1933.638533\n",
       "std        991.830107\n",
       "min        240.000000\n",
       "25%       1279.000000\n",
       "50%       1674.000000\n",
       "75%       2324.000000\n",
       "max      17245.000000\n",
       "Name: square_feet, dtype: float64"
      ]
     },
     "execution_count": 25,
     "metadata": {},
     "output_type": "execute_result"
    }
   ],
   "source": [
    "df.square_feet.describe()"
   ]
  },
  {
   "cell_type": "code",
   "execution_count": 26,
   "metadata": {},
   "outputs": [
    {
     "data": {
      "text/plain": [
       "(1279.0, 2324.0)"
      ]
     },
     "execution_count": 26,
     "metadata": {},
     "output_type": "execute_result"
    }
   ],
   "source": [
    "# remove outliers from square_feet\n",
    "# calculate 1QR and 3QR\n",
    "q1sf, q3sf = df.square_feet.quantile([0.25, 0.75])\n",
    "q1sf, q3sf"
   ]
  },
  {
   "cell_type": "code",
   "execution_count": 27,
   "metadata": {},
   "outputs": [
    {
     "data": {
      "text/plain": [
       "1045.0"
      ]
     },
     "execution_count": 27,
     "metadata": {},
     "output_type": "execute_result"
    }
   ],
   "source": [
    "# calculate IQR\n",
    "iqrsf = q3sf - q1sf\n",
    "iqrsf"
   ]
  },
  {
   "cell_type": "code",
   "execution_count": 28,
   "metadata": {},
   "outputs": [
    {
     "data": {
      "text/plain": [
       "(3891.5, -288.5)"
      ]
     },
     "execution_count": 28,
     "metadata": {},
     "output_type": "execute_result"
    }
   ],
   "source": [
    "# calculate upper and lower bounds\n",
    "uppersf = q3sf + (1.5 * iqrsf)\n",
    "lowersf = q1sf - (1.5 * iqrsf)\n",
    "uppersf, lowersf"
   ]
  },
  {
   "cell_type": "code",
   "execution_count": 29,
   "metadata": {},
   "outputs": [
    {
     "name": "stdout",
     "output_type": "stream",
     "text": [
      "<class 'pandas.core.frame.DataFrame'>\n",
      "Int64Index: 28033 entries, 11721753 to 10713993\n",
      "Data columns (total 7 columns):\n",
      " #   Column           Non-Null Count  Dtype  \n",
      "---  ------           --------------  -----  \n",
      " 0   bathrooms        28033 non-null  int64  \n",
      " 1   bedrooms         28033 non-null  int64  \n",
      " 2   square_feet      28033 non-null  int64  \n",
      " 3   county_code      28033 non-null  int64  \n",
      " 4   age              28033 non-null  int64  \n",
      " 5   appraised_value  28033 non-null  int64  \n",
      " 6   taxes            28033 non-null  float64\n",
      "dtypes: float64(1), int64(6)\n",
      "memory usage: 1.7 MB\n"
     ]
    }
   ],
   "source": [
    "df.info()"
   ]
  },
  {
   "cell_type": "code",
   "execution_count": 30,
   "metadata": {},
   "outputs": [],
   "source": [
    "# remove outliers if below or above the bounds (removed 1191 records)\n",
    "df = df[df.square_feet > lowersf]\n",
    "df = df[df.square_feet < uppersf]"
   ]
  },
  {
   "cell_type": "code",
   "execution_count": 31,
   "metadata": {},
   "outputs": [
    {
     "name": "stdout",
     "output_type": "stream",
     "text": [
      "<class 'pandas.core.frame.DataFrame'>\n",
      "Int64Index: 26842 entries, 11721753 to 10713993\n",
      "Data columns (total 7 columns):\n",
      " #   Column           Non-Null Count  Dtype  \n",
      "---  ------           --------------  -----  \n",
      " 0   bathrooms        26842 non-null  int64  \n",
      " 1   bedrooms         26842 non-null  int64  \n",
      " 2   square_feet      26842 non-null  int64  \n",
      " 3   county_code      26842 non-null  int64  \n",
      " 4   age              26842 non-null  int64  \n",
      " 5   appraised_value  26842 non-null  int64  \n",
      " 6   taxes            26842 non-null  float64\n",
      "dtypes: float64(1), int64(6)\n",
      "memory usage: 1.6 MB\n"
     ]
    }
   ],
   "source": [
    "df.info()"
   ]
  },
  {
   "cell_type": "code",
   "execution_count": 32,
   "metadata": {},
   "outputs": [
    {
     "data": {
      "text/plain": [
       "(190985.0, 588498.0)"
      ]
     },
     "execution_count": 32,
     "metadata": {},
     "output_type": "execute_result"
    }
   ],
   "source": [
    "# remove outliers from appraised_value\n",
    "# calculate 1QR and 3QR\n",
    "q1av, q3av = df.appraised_value.quantile([0.25, 0.75])\n",
    "q1av, q3av"
   ]
  },
  {
   "cell_type": "code",
   "execution_count": 33,
   "metadata": {},
   "outputs": [
    {
     "data": {
      "text/plain": [
       "397513.0"
      ]
     },
     "execution_count": 33,
     "metadata": {},
     "output_type": "execute_result"
    }
   ],
   "source": [
    "# calculate IQR\n",
    "iqrav = q3av - q1av\n",
    "iqrav"
   ]
  },
  {
   "cell_type": "code",
   "execution_count": 34,
   "metadata": {},
   "outputs": [
    {
     "data": {
      "text/plain": [
       "(1184767.5, -405284.5)"
      ]
     },
     "execution_count": 34,
     "metadata": {},
     "output_type": "execute_result"
    }
   ],
   "source": [
    "# calculate upper and lower bounds\n",
    "upperav = q3av + (1.5 * iqrav)\n",
    "lowerav = q1av - (1.5 * iqrav)\n",
    "upperav, lowerav"
   ]
  },
  {
   "cell_type": "code",
   "execution_count": 35,
   "metadata": {},
   "outputs": [
    {
     "name": "stdout",
     "output_type": "stream",
     "text": [
      "<class 'pandas.core.frame.DataFrame'>\n",
      "Int64Index: 26842 entries, 11721753 to 10713993\n",
      "Data columns (total 7 columns):\n",
      " #   Column           Non-Null Count  Dtype  \n",
      "---  ------           --------------  -----  \n",
      " 0   bathrooms        26842 non-null  int64  \n",
      " 1   bedrooms         26842 non-null  int64  \n",
      " 2   square_feet      26842 non-null  int64  \n",
      " 3   county_code      26842 non-null  int64  \n",
      " 4   age              26842 non-null  int64  \n",
      " 5   appraised_value  26842 non-null  int64  \n",
      " 6   taxes            26842 non-null  float64\n",
      "dtypes: float64(1), int64(6)\n",
      "memory usage: 1.6 MB\n"
     ]
    }
   ],
   "source": [
    "df.info()"
   ]
  },
  {
   "cell_type": "code",
   "execution_count": 36,
   "metadata": {},
   "outputs": [],
   "source": [
    "# remove outliers if below or above the bounds (removed 1326 records)\n",
    "df = df[df.appraised_value > lowerav]\n",
    "df = df[df.appraised_value < upperav]"
   ]
  },
  {
   "cell_type": "code",
   "execution_count": 37,
   "metadata": {},
   "outputs": [
    {
     "name": "stdout",
     "output_type": "stream",
     "text": [
      "<class 'pandas.core.frame.DataFrame'>\n",
      "Int64Index: 25516 entries, 11721753 to 10713993\n",
      "Data columns (total 7 columns):\n",
      " #   Column           Non-Null Count  Dtype  \n",
      "---  ------           --------------  -----  \n",
      " 0   bathrooms        25516 non-null  int64  \n",
      " 1   bedrooms         25516 non-null  int64  \n",
      " 2   square_feet      25516 non-null  int64  \n",
      " 3   county_code      25516 non-null  int64  \n",
      " 4   age              25516 non-null  int64  \n",
      " 5   appraised_value  25516 non-null  int64  \n",
      " 6   taxes            25516 non-null  float64\n",
      "dtypes: float64(1), int64(6)\n",
      "memory usage: 1.6 MB\n"
     ]
    }
   ],
   "source": [
    "df.info()"
   ]
  },
  {
   "cell_type": "code",
   "execution_count": 38,
   "metadata": {},
   "outputs": [
    {
     "data": {
      "text/plain": [
       "(2.0, 3.0)"
      ]
     },
     "execution_count": 38,
     "metadata": {},
     "output_type": "execute_result"
    }
   ],
   "source": [
    "# remove outliers from bathrooms\n",
    "# calculate 1QR and 3QR\n",
    "q1bth, q3bth = df.bathrooms.quantile([0.25, 0.75])\n",
    "q1bth, q3bth"
   ]
  },
  {
   "cell_type": "code",
   "execution_count": 39,
   "metadata": {},
   "outputs": [
    {
     "data": {
      "text/plain": [
       "1.0"
      ]
     },
     "execution_count": 39,
     "metadata": {},
     "output_type": "execute_result"
    }
   ],
   "source": [
    "# calculate IQR\n",
    "iqrbth = q3bth - q1bth\n",
    "iqrbth"
   ]
  },
  {
   "cell_type": "code",
   "execution_count": 40,
   "metadata": {},
   "outputs": [
    {
     "data": {
      "text/plain": [
       "(4.5, 0.5)"
      ]
     },
     "execution_count": 40,
     "metadata": {},
     "output_type": "execute_result"
    }
   ],
   "source": [
    "# calculate upper and lower bounds\n",
    "upperbth = q3bth + (1.5 * iqrbth)\n",
    "lowerbth = q1bth - (1.5 * iqrbth)\n",
    "upperbth, lowerbth"
   ]
  },
  {
   "cell_type": "code",
   "execution_count": 41,
   "metadata": {},
   "outputs": [
    {
     "name": "stdout",
     "output_type": "stream",
     "text": [
      "<class 'pandas.core.frame.DataFrame'>\n",
      "Int64Index: 25516 entries, 11721753 to 10713993\n",
      "Data columns (total 7 columns):\n",
      " #   Column           Non-Null Count  Dtype  \n",
      "---  ------           --------------  -----  \n",
      " 0   bathrooms        25516 non-null  int64  \n",
      " 1   bedrooms         25516 non-null  int64  \n",
      " 2   square_feet      25516 non-null  int64  \n",
      " 3   county_code      25516 non-null  int64  \n",
      " 4   age              25516 non-null  int64  \n",
      " 5   appraised_value  25516 non-null  int64  \n",
      " 6   taxes            25516 non-null  float64\n",
      "dtypes: float64(1), int64(6)\n",
      "memory usage: 1.6 MB\n"
     ]
    }
   ],
   "source": [
    "df.info()"
   ]
  },
  {
   "cell_type": "code",
   "execution_count": 42,
   "metadata": {},
   "outputs": [],
   "source": [
    "# remove outliers if below or above the bounds (removed 143 records)\n",
    "df = df[df.bathrooms > lowerbth]\n",
    "df = df[df.bathrooms < upperbth]"
   ]
  },
  {
   "cell_type": "code",
   "execution_count": 43,
   "metadata": {},
   "outputs": [
    {
     "name": "stdout",
     "output_type": "stream",
     "text": [
      "<class 'pandas.core.frame.DataFrame'>\n",
      "Int64Index: 25373 entries, 11721753 to 10713993\n",
      "Data columns (total 7 columns):\n",
      " #   Column           Non-Null Count  Dtype  \n",
      "---  ------           --------------  -----  \n",
      " 0   bathrooms        25373 non-null  int64  \n",
      " 1   bedrooms         25373 non-null  int64  \n",
      " 2   square_feet      25373 non-null  int64  \n",
      " 3   county_code      25373 non-null  int64  \n",
      " 4   age              25373 non-null  int64  \n",
      " 5   appraised_value  25373 non-null  int64  \n",
      " 6   taxes            25373 non-null  float64\n",
      "dtypes: float64(1), int64(6)\n",
      "memory usage: 1.5 MB\n"
     ]
    }
   ],
   "source": [
    "df.info()"
   ]
  },
  {
   "cell_type": "code",
   "execution_count": 44,
   "metadata": {},
   "outputs": [
    {
     "data": {
      "text/plain": [
       "(3.0, 4.0)"
      ]
     },
     "execution_count": 44,
     "metadata": {},
     "output_type": "execute_result"
    }
   ],
   "source": [
    "# remove outliers from bedrooms\n",
    "# calculate 1QR and 3QR\n",
    "q1bd, q3bd = df.bedrooms.quantile([0.25, 0.75])\n",
    "q1bd, q3bd"
   ]
  },
  {
   "cell_type": "code",
   "execution_count": 45,
   "metadata": {},
   "outputs": [
    {
     "data": {
      "text/plain": [
       "1.0"
      ]
     },
     "execution_count": 45,
     "metadata": {},
     "output_type": "execute_result"
    }
   ],
   "source": [
    "# calculate IQR\n",
    "iqrbd = q3bd - q1bd\n",
    "iqrbd"
   ]
  },
  {
   "cell_type": "code",
   "execution_count": 46,
   "metadata": {},
   "outputs": [
    {
     "data": {
      "text/plain": [
       "(5.5, 1.5)"
      ]
     },
     "execution_count": 46,
     "metadata": {},
     "output_type": "execute_result"
    }
   ],
   "source": [
    "# calculate upper and lower bounds\n",
    "upperbd = q3bd + (1.5 * iqrbd)\n",
    "lowerbd = q1bd - (1.5 * iqrbd)\n",
    "upperbd, lowerbd"
   ]
  },
  {
   "cell_type": "code",
   "execution_count": 47,
   "metadata": {},
   "outputs": [
    {
     "name": "stdout",
     "output_type": "stream",
     "text": [
      "<class 'pandas.core.frame.DataFrame'>\n",
      "Int64Index: 25373 entries, 11721753 to 10713993\n",
      "Data columns (total 7 columns):\n",
      " #   Column           Non-Null Count  Dtype  \n",
      "---  ------           --------------  -----  \n",
      " 0   bathrooms        25373 non-null  int64  \n",
      " 1   bedrooms         25373 non-null  int64  \n",
      " 2   square_feet      25373 non-null  int64  \n",
      " 3   county_code      25373 non-null  int64  \n",
      " 4   age              25373 non-null  int64  \n",
      " 5   appraised_value  25373 non-null  int64  \n",
      " 6   taxes            25373 non-null  float64\n",
      "dtypes: float64(1), int64(6)\n",
      "memory usage: 1.5 MB\n"
     ]
    }
   ],
   "source": [
    "df.info()"
   ]
  },
  {
   "cell_type": "code",
   "execution_count": 48,
   "metadata": {},
   "outputs": [],
   "source": [
    "# remove outliers if below or above the bounds (removed 485 records)\n",
    "df = df[df.bedrooms > lowerbd]\n",
    "df = df[df.bedrooms < upperbd]"
   ]
  },
  {
   "cell_type": "code",
   "execution_count": 49,
   "metadata": {},
   "outputs": [
    {
     "name": "stdout",
     "output_type": "stream",
     "text": [
      "<class 'pandas.core.frame.DataFrame'>\n",
      "Int64Index: 24888 entries, 11721753 to 10713993\n",
      "Data columns (total 7 columns):\n",
      " #   Column           Non-Null Count  Dtype  \n",
      "---  ------           --------------  -----  \n",
      " 0   bathrooms        24888 non-null  int64  \n",
      " 1   bedrooms         24888 non-null  int64  \n",
      " 2   square_feet      24888 non-null  int64  \n",
      " 3   county_code      24888 non-null  int64  \n",
      " 4   age              24888 non-null  int64  \n",
      " 5   appraised_value  24888 non-null  int64  \n",
      " 6   taxes            24888 non-null  float64\n",
      "dtypes: float64(1), int64(6)\n",
      "memory usage: 1.5 MB\n"
     ]
    }
   ],
   "source": [
    "# last check\n",
    "df.info()"
   ]
  },
  {
   "cell_type": "code",
   "execution_count": 50,
   "metadata": {},
   "outputs": [
    {
     "data": {
      "text/html": [
       "<div>\n",
       "<style scoped>\n",
       "    .dataframe tbody tr th:only-of-type {\n",
       "        vertical-align: middle;\n",
       "    }\n",
       "\n",
       "    .dataframe tbody tr th {\n",
       "        vertical-align: top;\n",
       "    }\n",
       "\n",
       "    .dataframe thead th {\n",
       "        text-align: right;\n",
       "    }\n",
       "</style>\n",
       "<table border=\"1\" class=\"dataframe\">\n",
       "  <thead>\n",
       "    <tr style=\"text-align: right;\">\n",
       "      <th></th>\n",
       "      <th>bathrooms</th>\n",
       "      <th>bedrooms</th>\n",
       "      <th>square_feet</th>\n",
       "      <th>age</th>\n",
       "      <th>appraised_value</th>\n",
       "    </tr>\n",
       "    <tr>\n",
       "      <th>parcelid</th>\n",
       "      <th></th>\n",
       "      <th></th>\n",
       "      <th></th>\n",
       "      <th></th>\n",
       "      <th></th>\n",
       "    </tr>\n",
       "  </thead>\n",
       "  <tbody>\n",
       "    <tr>\n",
       "      <th>11721753</th>\n",
       "      <td>2</td>\n",
       "      <td>3</td>\n",
       "      <td>1316</td>\n",
       "      <td>94</td>\n",
       "      <td>205123</td>\n",
       "    </tr>\n",
       "    <tr>\n",
       "      <th>11289917</th>\n",
       "      <td>2</td>\n",
       "      <td>3</td>\n",
       "      <td>1458</td>\n",
       "      <td>47</td>\n",
       "      <td>136104</td>\n",
       "    </tr>\n",
       "    <tr>\n",
       "      <th>11705026</th>\n",
       "      <td>1</td>\n",
       "      <td>2</td>\n",
       "      <td>1421</td>\n",
       "      <td>106</td>\n",
       "      <td>35606</td>\n",
       "    </tr>\n",
       "    <tr>\n",
       "      <th>14269464</th>\n",
       "      <td>3</td>\n",
       "      <td>4</td>\n",
       "      <td>2541</td>\n",
       "      <td>14</td>\n",
       "      <td>880456</td>\n",
       "    </tr>\n",
       "    <tr>\n",
       "      <th>11446756</th>\n",
       "      <td>2</td>\n",
       "      <td>3</td>\n",
       "      <td>1491</td>\n",
       "      <td>62</td>\n",
       "      <td>107110</td>\n",
       "    </tr>\n",
       "  </tbody>\n",
       "</table>\n",
       "</div>"
      ],
      "text/plain": [
       "          bathrooms  bedrooms  square_feet  age  appraised_value\n",
       "parcelid                                                        \n",
       "11721753          2         3         1316   94           205123\n",
       "11289917          2         3         1458   47           136104\n",
       "11705026          1         2         1421  106            35606\n",
       "14269464          3         4         2541   14           880456\n",
       "11446756          2         3         1491   62           107110"
      ]
     },
     "execution_count": 50,
     "metadata": {},
     "output_type": "execute_result"
    }
   ],
   "source": [
    "# going to drop columns not needed for project goals\n",
    "mvp_df = df.drop(columns=['county_code', 'taxes'])\n",
    "mvp_df.head()"
   ]
  },
  {
   "cell_type": "code",
   "execution_count": 51,
   "metadata": {},
   "outputs": [
    {
     "data": {
      "text/plain": [
       "((13937, 5), (5973, 5), (4978, 5))"
      ]
     },
     "execution_count": 51,
     "metadata": {},
     "output_type": "execute_result"
    }
   ],
   "source": [
    "train, validate, test, X_train, y_train, X_validate, y_validate, X_test, y_test = prepare.split_zillow(mvp_df, 'appraised_value')\n",
    "train.shape, validate.shape, test.shape"
   ]
  },
  {
   "cell_type": "code",
   "execution_count": 52,
   "metadata": {},
   "outputs": [
    {
     "data": {
      "text/html": [
       "<div>\n",
       "<style scoped>\n",
       "    .dataframe tbody tr th:only-of-type {\n",
       "        vertical-align: middle;\n",
       "    }\n",
       "\n",
       "    .dataframe tbody tr th {\n",
       "        vertical-align: top;\n",
       "    }\n",
       "\n",
       "    .dataframe thead th {\n",
       "        text-align: right;\n",
       "    }\n",
       "</style>\n",
       "<table border=\"1\" class=\"dataframe\">\n",
       "  <thead>\n",
       "    <tr style=\"text-align: right;\">\n",
       "      <th></th>\n",
       "      <th>bathrooms</th>\n",
       "      <th>bedrooms</th>\n",
       "      <th>square_feet</th>\n",
       "      <th>age</th>\n",
       "      <th>appraised_value</th>\n",
       "    </tr>\n",
       "    <tr>\n",
       "      <th>parcelid</th>\n",
       "      <th></th>\n",
       "      <th></th>\n",
       "      <th></th>\n",
       "      <th></th>\n",
       "      <th></th>\n",
       "    </tr>\n",
       "  </thead>\n",
       "  <tbody>\n",
       "    <tr>\n",
       "      <th>12071196</th>\n",
       "      <td>2</td>\n",
       "      <td>3</td>\n",
       "      <td>1528</td>\n",
       "      <td>90</td>\n",
       "      <td>822304</td>\n",
       "    </tr>\n",
       "    <tr>\n",
       "      <th>14274491</th>\n",
       "      <td>2</td>\n",
       "      <td>3</td>\n",
       "      <td>1200</td>\n",
       "      <td>61</td>\n",
       "      <td>599000</td>\n",
       "    </tr>\n",
       "    <tr>\n",
       "      <th>12825849</th>\n",
       "      <td>2</td>\n",
       "      <td>3</td>\n",
       "      <td>1216</td>\n",
       "      <td>62</td>\n",
       "      <td>364079</td>\n",
       "    </tr>\n",
       "    <tr>\n",
       "      <th>12445221</th>\n",
       "      <td>3</td>\n",
       "      <td>3</td>\n",
       "      <td>2285</td>\n",
       "      <td>28</td>\n",
       "      <td>514602</td>\n",
       "    </tr>\n",
       "    <tr>\n",
       "      <th>17146152</th>\n",
       "      <td>3</td>\n",
       "      <td>4</td>\n",
       "      <td>2492</td>\n",
       "      <td>14</td>\n",
       "      <td>650523</td>\n",
       "    </tr>\n",
       "  </tbody>\n",
       "</table>\n",
       "</div>"
      ],
      "text/plain": [
       "          bathrooms  bedrooms  square_feet  age  appraised_value\n",
       "parcelid                                                        \n",
       "12071196          2         3         1528   90           822304\n",
       "14274491          2         3         1200   61           599000\n",
       "12825849          2         3         1216   62           364079\n",
       "12445221          3         3         2285   28           514602\n",
       "17146152          3         4         2492   14           650523"
      ]
     },
     "execution_count": 52,
     "metadata": {},
     "output_type": "execute_result"
    }
   ],
   "source": [
    "train.head()"
   ]
  },
  {
   "cell_type": "code",
   "execution_count": 53,
   "metadata": {},
   "outputs": [
    {
     "data": {
      "text/html": [
       "<div>\n",
       "<style scoped>\n",
       "    .dataframe tbody tr th:only-of-type {\n",
       "        vertical-align: middle;\n",
       "    }\n",
       "\n",
       "    .dataframe tbody tr th {\n",
       "        vertical-align: top;\n",
       "    }\n",
       "\n",
       "    .dataframe thead th {\n",
       "        text-align: right;\n",
       "    }\n",
       "</style>\n",
       "<table border=\"1\" class=\"dataframe\">\n",
       "  <thead>\n",
       "    <tr style=\"text-align: right;\">\n",
       "      <th></th>\n",
       "      <th>bathrooms</th>\n",
       "      <th>bedrooms</th>\n",
       "      <th>square_feet</th>\n",
       "      <th>age</th>\n",
       "    </tr>\n",
       "    <tr>\n",
       "      <th>parcelid</th>\n",
       "      <th></th>\n",
       "      <th></th>\n",
       "      <th></th>\n",
       "      <th></th>\n",
       "    </tr>\n",
       "  </thead>\n",
       "  <tbody>\n",
       "    <tr>\n",
       "      <th>12071196</th>\n",
       "      <td>0.333333</td>\n",
       "      <td>0.333333</td>\n",
       "      <td>0.337262</td>\n",
       "      <td>0.651852</td>\n",
       "    </tr>\n",
       "    <tr>\n",
       "      <th>14274491</th>\n",
       "      <td>0.333333</td>\n",
       "      <td>0.333333</td>\n",
       "      <td>0.245230</td>\n",
       "      <td>0.437037</td>\n",
       "    </tr>\n",
       "    <tr>\n",
       "      <th>12825849</th>\n",
       "      <td>0.333333</td>\n",
       "      <td>0.333333</td>\n",
       "      <td>0.249719</td>\n",
       "      <td>0.444444</td>\n",
       "    </tr>\n",
       "    <tr>\n",
       "      <th>12445221</th>\n",
       "      <td>0.666667</td>\n",
       "      <td>0.333333</td>\n",
       "      <td>0.549663</td>\n",
       "      <td>0.192593</td>\n",
       "    </tr>\n",
       "    <tr>\n",
       "      <th>17146152</th>\n",
       "      <td>0.666667</td>\n",
       "      <td>0.666667</td>\n",
       "      <td>0.607744</td>\n",
       "      <td>0.088889</td>\n",
       "    </tr>\n",
       "  </tbody>\n",
       "</table>\n",
       "</div>"
      ],
      "text/plain": [
       "          bathrooms  bedrooms  square_feet       age\n",
       "parcelid                                            \n",
       "12071196   0.333333  0.333333     0.337262  0.651852\n",
       "14274491   0.333333  0.333333     0.245230  0.437037\n",
       "12825849   0.333333  0.333333     0.249719  0.444444\n",
       "12445221   0.666667  0.333333     0.549663  0.192593\n",
       "17146152   0.666667  0.666667     0.607744  0.088889"
      ]
     },
     "execution_count": 53,
     "metadata": {},
     "output_type": "execute_result"
    }
   ],
   "source": [
    "scaler, X_train_scaled, X_validate_scaled, X_test_scaled = prepare.Min_Max_Scaler(X_train, X_validate, X_test)\n",
    "X_train_scaled.head()"
   ]
  },
  {
   "cell_type": "markdown",
   "metadata": {},
   "source": [
    "## Explore"
   ]
  },
  {
   "cell_type": "code",
   "execution_count": 54,
   "metadata": {},
   "outputs": [
    {
     "data": {
      "image/png": "[encoded data removed]",
      "text/plain": [
       "<Figure size 432x288 with 2 Axes>"
      ]
     },
     "metadata": {
      "needs_background": "light"
     },
     "output_type": "display_data"
    }
   ],
   "source": [
    "sns.heatmap(train.corr(), cmap='coolwarm', center=0, annot=True, fmt='.0%')\n",
    "plt.title('Correlation Heatmap of Variables')\n",
    "plt.show()"
   ]
  },
  {
   "cell_type": "code",
   "execution_count": 55,
   "metadata": {},
   "outputs": [],
   "source": [
    "def plot_variable_pairs(train):\n",
    "    '''\n",
    "    This function will accept a dataframe as input \n",
    "    and plot all the pairwise relationships with the regression line for each pair\n",
    "    '''\n",
    "    sns.pairplot(train, kind = 'reg', corner=True,\n",
    "                plot_kws = {'line_kws': {'color': 'crimson'}})"
   ]
  },
  {
   "cell_type": "code",
   "execution_count": 56,
   "metadata": {},
   "outputs": [
    {
     "data": {
      "image/png": "[encoded data removed]",
      "text/plain": [
       "<Figure size 900x900 with 20 Axes>"
      ]
     },
     "metadata": {
      "needs_background": "light"
     },
     "output_type": "display_data"
    }
   ],
   "source": [
    "plot_variable_pairs(train)"
   ]
  },
  {
   "cell_type": "markdown",
   "metadata": {},
   "source": [
    "#### Takeaways"
   ]
  },
  {
   "cell_type": "markdown",
   "metadata": {},
   "source": [
    "### Statistical Testing\n",
    "\n",
    "#### Correlation Test: Does the number of bathrooms affect the appraised value?\n",
    "\n",
    "- The heatmap shows this category has a high positive correlation.\n",
    "\n",
    "Form hypothesis:\n",
    "\n",
    "- $H_0$ The number of bathrooms has no affect on the appraised value (independent)\n",
    "- $H_a$ The number of bathrooms does have an affect on appraised value (dependent)"
   ]
  },
  {
   "cell_type": "code",
   "execution_count": 57,
   "metadata": {},
   "outputs": [
    {
     "name": "stdout",
     "output_type": "stream",
     "text": [
      "0.38868892326661064 0.0\n",
      "\n",
      "We can reject the null hypothesis that the number of the bathrooms has no affect on the appraised value.\n"
     ]
    }
   ],
   "source": [
    "corr, p = stats.pearsonr(train.bathrooms, train.appraised_value)\n",
    "print(corr, p)\n",
    "\n",
    "# set alpha\n",
    "alpha = 0.05\n",
    "\n",
    "null_hypothesis = \"the number of the bathrooms has no affect on the appraised value.\"\n",
    "\n",
    "if p < alpha:\n",
    "    print(f'\\nWe can reject the null hypothesis that', null_hypothesis)\n",
    "else:\n",
    "    print(f'\\nWe fail to reject the null hypothesis.')"
   ]
  },
  {
   "cell_type": "markdown",
   "metadata": {},
   "source": [
    "#### T-Test: Does the square footage of the property affect the appraised value?\n",
    "\n",
    "- The median value of square_feet is ~1600 sq.ft.\n",
    "- The heatmap shows this category has a highest positive correlation.\n",
    "\n",
    "Form hypothesis:\n",
    "\n",
    "- $H_0$ The average appraised value of properties with 1600 sq.ft. or more is equal to the average appraised value of properties with 1600 sq.ft or less.\n",
    "- $H_a$ The average appraised value of properties with 1600 sq.ft. or more is higher than the average appraised value of properties with 1600 sq.ft or less."
   ]
  },
  {
   "cell_type": "code",
   "execution_count": 58,
   "metadata": {},
   "outputs": [
    {
     "name": "stdout",
     "output_type": "stream",
     "text": [
      "48.50374026487064 0.0\n",
      "\n",
      "We can reject the null hypothesis that the average appraised value of properties with 1600 sq.ft. or more is equal to the average appraised value of properties with 1600 sq.ft or less.\n"
     ]
    }
   ],
   "source": [
    "sqft_less_than_1600 = train[train.square_feet <= 1600]\n",
    "sqft_more_than_1600 = train[train.square_feet > 1600]\n",
    "\n",
    "# a = sqft_less_than_1600.appraised_value.mean()\n",
    "# b = sqft_more_than_1600.appraised_value.mean()\n",
    "\n",
    "t, p = stats.ttest_ind(sqft_more_than_1600.appraised_value, sqft_less_than_1600.appraised_value)\n",
    "print(t, p)\n",
    "\n",
    "# set alpha\n",
    "alpha = 0.05\n",
    "\n",
    "null_hypothesis = \"the average appraised value of properties with 1600 sq.ft. or more is equal to the average appraised value of properties with 1600 sq.ft or less.\"\n",
    "\n",
    "if p < alpha:\n",
    "    print(f'\\nWe can reject the null hypothesis that', null_hypothesis)\n",
    "else:\n",
    "    print(f'\\nWe fail to reject the null hypothesis.')"
   ]
  },
  {
   "cell_type": "markdown",
   "metadata": {},
   "source": [
    "## Modeling"
   ]
  },
  {
   "cell_type": "markdown",
   "metadata": {},
   "source": [
    "#### Establish a baseline"
   ]
  },
  {
   "cell_type": "code",
   "execution_count": 59,
   "metadata": {},
   "outputs": [
    {
     "data": {
      "text/html": [
       "<div>\n",
       "<style scoped>\n",
       "    .dataframe tbody tr th:only-of-type {\n",
       "        vertical-align: middle;\n",
       "    }\n",
       "\n",
       "    .dataframe tbody tr th {\n",
       "        vertical-align: top;\n",
       "    }\n",
       "\n",
       "    .dataframe thead th {\n",
       "        text-align: right;\n",
       "    }\n",
       "</style>\n",
       "<table border=\"1\" class=\"dataframe\">\n",
       "  <thead>\n",
       "    <tr style=\"text-align: right;\">\n",
       "      <th></th>\n",
       "      <th>actual</th>\n",
       "      <th>baseline</th>\n",
       "    </tr>\n",
       "    <tr>\n",
       "      <th>parcelid</th>\n",
       "      <th></th>\n",
       "      <th></th>\n",
       "    </tr>\n",
       "  </thead>\n",
       "  <tbody>\n",
       "    <tr>\n",
       "      <th>12071196</th>\n",
       "      <td>822304</td>\n",
       "      <td>393692.212169</td>\n",
       "    </tr>\n",
       "    <tr>\n",
       "      <th>14274491</th>\n",
       "      <td>599000</td>\n",
       "      <td>393692.212169</td>\n",
       "    </tr>\n",
       "    <tr>\n",
       "      <th>12825849</th>\n",
       "      <td>364079</td>\n",
       "      <td>393692.212169</td>\n",
       "    </tr>\n",
       "    <tr>\n",
       "      <th>12445221</th>\n",
       "      <td>514602</td>\n",
       "      <td>393692.212169</td>\n",
       "    </tr>\n",
       "    <tr>\n",
       "      <th>17146152</th>\n",
       "      <td>650523</td>\n",
       "      <td>393692.212169</td>\n",
       "    </tr>\n",
       "  </tbody>\n",
       "</table>\n",
       "</div>"
      ],
      "text/plain": [
       "          actual       baseline\n",
       "parcelid                       \n",
       "12071196  822304  393692.212169\n",
       "14274491  599000  393692.212169\n",
       "12825849  364079  393692.212169\n",
       "12445221  514602  393692.212169\n",
       "17146152  650523  393692.212169"
      ]
     },
     "execution_count": 59,
     "metadata": {},
     "output_type": "execute_result"
    }
   ],
   "source": [
    "y_train = pd.DataFrame({'actual': y_train})\n",
    "y_train['baseline'] = y_train.actual.mean()\n",
    "y_train.head()"
   ]
  },
  {
   "cell_type": "code",
   "execution_count": 60,
   "metadata": {},
   "outputs": [
    {
     "data": {
      "text/html": [
       "<div>\n",
       "<style scoped>\n",
       "    .dataframe tbody tr th:only-of-type {\n",
       "        vertical-align: middle;\n",
       "    }\n",
       "\n",
       "    .dataframe tbody tr th {\n",
       "        vertical-align: top;\n",
       "    }\n",
       "\n",
       "    .dataframe thead th {\n",
       "        text-align: right;\n",
       "    }\n",
       "</style>\n",
       "<table border=\"1\" class=\"dataframe\">\n",
       "  <thead>\n",
       "    <tr style=\"text-align: right;\">\n",
       "      <th></th>\n",
       "      <th>actual</th>\n",
       "      <th>baseline</th>\n",
       "    </tr>\n",
       "    <tr>\n",
       "      <th>parcelid</th>\n",
       "      <th></th>\n",
       "      <th></th>\n",
       "    </tr>\n",
       "  </thead>\n",
       "  <tbody>\n",
       "    <tr>\n",
       "      <th>14464878</th>\n",
       "      <td>1009000</td>\n",
       "      <td>393692.212169</td>\n",
       "    </tr>\n",
       "    <tr>\n",
       "      <th>11245027</th>\n",
       "      <td>106195</td>\n",
       "      <td>393692.212169</td>\n",
       "    </tr>\n",
       "    <tr>\n",
       "      <th>14242162</th>\n",
       "      <td>136891</td>\n",
       "      <td>393692.212169</td>\n",
       "    </tr>\n",
       "    <tr>\n",
       "      <th>11984470</th>\n",
       "      <td>1025695</td>\n",
       "      <td>393692.212169</td>\n",
       "    </tr>\n",
       "    <tr>\n",
       "      <th>10900406</th>\n",
       "      <td>784502</td>\n",
       "      <td>393692.212169</td>\n",
       "    </tr>\n",
       "  </tbody>\n",
       "</table>\n",
       "</div>"
      ],
      "text/plain": [
       "           actual       baseline\n",
       "parcelid                        \n",
       "14464878  1009000  393692.212169\n",
       "11245027   106195  393692.212169\n",
       "14242162   136891  393692.212169\n",
       "11984470  1025695  393692.212169\n",
       "10900406   784502  393692.212169"
      ]
     },
     "execution_count": 60,
     "metadata": {},
     "output_type": "execute_result"
    }
   ],
   "source": [
    "y_validate = pd.DataFrame({'actual': y_validate})\n",
    "y_validate['baseline'] = y_train.actual.mean()\n",
    "y_validate.head()"
   ]
  },
  {
   "cell_type": "code",
   "execution_count": 61,
   "metadata": {},
   "outputs": [
    {
     "name": "stdout",
     "output_type": "stream",
     "text": [
      "Train RMSE Baseline model: 258931.76560414536\n",
      "Validate RMSE baseline: 253998.06691963325\n"
     ]
    }
   ],
   "source": [
    "print('Train RMSE Baseline model:', math.sqrt(mean_squared_error(y_train.actual, y_train.baseline)))\n",
    "rmse_baseline = math.sqrt(mean_squared_error(y_validate.actual, y_validate.baseline))\n",
    "print('Validate RMSE baseline:', rmse_baseline)"
   ]
  },
  {
   "cell_type": "code",
   "execution_count": 62,
   "metadata": {},
   "outputs": [
    {
     "data": {
      "text/html": [
       "<div>\n",
       "<style scoped>\n",
       "    .dataframe tbody tr th:only-of-type {\n",
       "        vertical-align: middle;\n",
       "    }\n",
       "\n",
       "    .dataframe tbody tr th {\n",
       "        vertical-align: top;\n",
       "    }\n",
       "\n",
       "    .dataframe thead th {\n",
       "        text-align: right;\n",
       "    }\n",
       "</style>\n",
       "<table border=\"1\" class=\"dataframe\">\n",
       "  <thead>\n",
       "    <tr style=\"text-align: right;\">\n",
       "      <th></th>\n",
       "      <th>model</th>\n",
       "      <th>rmse_validate</th>\n",
       "      <th>r^2_validate</th>\n",
       "    </tr>\n",
       "  </thead>\n",
       "  <tbody>\n",
       "    <tr>\n",
       "      <th>0</th>\n",
       "      <td>mean_baseline</td>\n",
       "      <td>253998.06692</td>\n",
       "      <td>0.0</td>\n",
       "    </tr>\n",
       "  </tbody>\n",
       "</table>\n",
       "</div>"
      ],
      "text/plain": [
       "           model  rmse_validate  r^2_validate\n",
       "0  mean_baseline   253998.06692           0.0"
      ]
     },
     "execution_count": 62,
     "metadata": {},
     "output_type": "execute_result"
    }
   ],
   "source": [
    "metric_df = pd.DataFrame(data=[{'model': 'mean_baseline', 'rmse_validate': rmse_baseline,\n",
    "    'r^2_validate': explained_variance_score(y_validate.actual, y_validate.baseline)}])\n",
    "metric_df"
   ]
  },
  {
   "cell_type": "markdown",
   "metadata": {},
   "source": [
    "#### Model1 - OLS (LinearRegression)"
   ]
  },
  {
   "cell_type": "code",
   "execution_count": 63,
   "metadata": {},
   "outputs": [
    {
     "name": "stdout",
     "output_type": "stream",
     "text": [
      "Train RMSE for model1: 223063.17208168618\n",
      "Validate RMSE model1: 223095.65294493307\n"
     ]
    }
   ],
   "source": [
    "# create the model\n",
    "model1 = LinearRegression(normalize=True)\n",
    "# fit the model\n",
    "model1.fit(X_train_scaled, y_train.actual)\n",
    "# use the model to make predictions\n",
    "y_train['model1'] = model1.predict(X_train_scaled)\n",
    "y_validate['model1'] = model1.predict(X_validate_scaled)\n",
    "\n",
    "print('Train RMSE for model1:', math.sqrt(mean_squared_error(y_train.actual, y_train.model1)))\n",
    "\n",
    "rmse_model1 = math.sqrt(mean_squared_error(y_validate.actual, y_validate.model1))\n",
    "print('Validate RMSE model1:', rmse_model1)"
   ]
  },
  {
   "cell_type": "code",
   "execution_count": 64,
   "metadata": {},
   "outputs": [
    {
     "data": {
      "text/html": [
       "<div>\n",
       "<style scoped>\n",
       "    .dataframe tbody tr th:only-of-type {\n",
       "        vertical-align: middle;\n",
       "    }\n",
       "\n",
       "    .dataframe tbody tr th {\n",
       "        vertical-align: top;\n",
       "    }\n",
       "\n",
       "    .dataframe thead th {\n",
       "        text-align: right;\n",
       "    }\n",
       "</style>\n",
       "<table border=\"1\" class=\"dataframe\">\n",
       "  <thead>\n",
       "    <tr style=\"text-align: right;\">\n",
       "      <th></th>\n",
       "      <th>model</th>\n",
       "      <th>rmse_validate</th>\n",
       "      <th>r^2_validate</th>\n",
       "    </tr>\n",
       "  </thead>\n",
       "  <tbody>\n",
       "    <tr>\n",
       "      <th>0</th>\n",
       "      <td>mean_baseline</td>\n",
       "      <td>253998.066920</td>\n",
       "      <td>0.000000</td>\n",
       "    </tr>\n",
       "    <tr>\n",
       "      <th>1</th>\n",
       "      <td>model1</td>\n",
       "      <td>223095.652945</td>\n",
       "      <td>0.227936</td>\n",
       "    </tr>\n",
       "  </tbody>\n",
       "</table>\n",
       "</div>"
      ],
      "text/plain": [
       "           model  rmse_validate  r^2_validate\n",
       "0  mean_baseline  253998.066920      0.000000\n",
       "1         model1  223095.652945      0.227936"
      ]
     },
     "execution_count": 64,
     "metadata": {},
     "output_type": "execute_result"
    }
   ],
   "source": [
    "metric_df = metric_df.append({'model': 'model1', 'rmse_validate': rmse_model1,\n",
    "    'r^2_validate': explained_variance_score(y_validate.actual, y_validate.model1)}, ignore_index=True)\n",
    "metric_df"
   ]
  },
  {
   "cell_type": "markdown",
   "metadata": {},
   "source": [
    "#### Model2 - LassoLars"
   ]
  },
  {
   "cell_type": "code",
   "execution_count": 65,
   "metadata": {},
   "outputs": [
    {
     "name": "stdout",
     "output_type": "stream",
     "text": [
      "Train RMSE for model2: 223063.36376190305\n",
      "Validate RMSE model2: 223080.17974962742\n"
     ]
    }
   ],
   "source": [
    "# create the model\n",
    "model2 = LassoLars(alpha=1)\n",
    "# fit the model\n",
    "model2.fit(X_train_scaled, y_train.actual)\n",
    "# use the model to make predictions\n",
    "y_train['model2'] = model2.predict(X_train_scaled)\n",
    "y_validate['model2'] = model2.predict(X_validate_scaled)\n",
    "\n",
    "print('Train RMSE for model2:', math.sqrt(mean_squared_error(y_train.actual, y_train.model2)))\n",
    "\n",
    "rmse_model2 = math.sqrt(mean_squared_error(y_validate.actual, y_validate.model2))\n",
    "print('Validate RMSE model2:', rmse_model2)"
   ]
  },
  {
   "cell_type": "code",
   "execution_count": 66,
   "metadata": {},
   "outputs": [
    {
     "data": {
      "text/html": [
       "<div>\n",
       "<style scoped>\n",
       "    .dataframe tbody tr th:only-of-type {\n",
       "        vertical-align: middle;\n",
       "    }\n",
       "\n",
       "    .dataframe tbody tr th {\n",
       "        vertical-align: top;\n",
       "    }\n",
       "\n",
       "    .dataframe thead th {\n",
       "        text-align: right;\n",
       "    }\n",
       "</style>\n",
       "<table border=\"1\" class=\"dataframe\">\n",
       "  <thead>\n",
       "    <tr style=\"text-align: right;\">\n",
       "      <th></th>\n",
       "      <th>model</th>\n",
       "      <th>rmse_validate</th>\n",
       "      <th>r^2_validate</th>\n",
       "    </tr>\n",
       "  </thead>\n",
       "  <tbody>\n",
       "    <tr>\n",
       "      <th>0</th>\n",
       "      <td>mean_baseline</td>\n",
       "      <td>253998.066920</td>\n",
       "      <td>0.000000</td>\n",
       "    </tr>\n",
       "    <tr>\n",
       "      <th>1</th>\n",
       "      <td>model1</td>\n",
       "      <td>223095.652945</td>\n",
       "      <td>0.227936</td>\n",
       "    </tr>\n",
       "    <tr>\n",
       "      <th>2</th>\n",
       "      <td>model2</td>\n",
       "      <td>223080.179750</td>\n",
       "      <td>0.228043</td>\n",
       "    </tr>\n",
       "  </tbody>\n",
       "</table>\n",
       "</div>"
      ],
      "text/plain": [
       "           model  rmse_validate  r^2_validate\n",
       "0  mean_baseline  253998.066920      0.000000\n",
       "1         model1  223095.652945      0.227936\n",
       "2         model2  223080.179750      0.228043"
      ]
     },
     "execution_count": 66,
     "metadata": {},
     "output_type": "execute_result"
    }
   ],
   "source": [
    "metric_df = metric_df.append({'model': 'model2', 'rmse_validate': rmse_model2,\n",
    "    'r^2_validate': explained_variance_score(y_validate.actual, y_validate.model2)}, ignore_index=True)\n",
    "metric_df"
   ]
  },
  {
   "cell_type": "markdown",
   "metadata": {},
   "source": [
    "#### Model3 - TweedieRegressor (GLM)"
   ]
  },
  {
   "cell_type": "code",
   "execution_count": 67,
   "metadata": {},
   "outputs": [
    {
     "name": "stdout",
     "output_type": "stream",
     "text": [
      "Train RMSE for model3: 223414.93675605417\n",
      "Validate RMSE model3: 223579.1858048459\n"
     ]
    }
   ],
   "source": [
    "# create the model\n",
    "model3 = TweedieRegressor(power=1, alpha=0)\n",
    "# fit the model\n",
    "model3.fit(X_train_scaled, y_train.actual)\n",
    "# use the model to make predictions\n",
    "y_train['model3'] = model3.predict(X_train_scaled)\n",
    "y_validate['model3'] = model3.predict(X_validate_scaled)\n",
    "\n",
    "print('Train RMSE for model3:', math.sqrt(mean_squared_error(y_train.actual, y_train.model3)))\n",
    "\n",
    "rmse_model3 = math.sqrt(mean_squared_error(y_validate.actual, y_validate.model3))\n",
    "print('Validate RMSE model3:', rmse_model3)"
   ]
  },
  {
   "cell_type": "code",
   "execution_count": 68,
   "metadata": {},
   "outputs": [
    {
     "data": {
      "text/html": [
       "<div>\n",
       "<style scoped>\n",
       "    .dataframe tbody tr th:only-of-type {\n",
       "        vertical-align: middle;\n",
       "    }\n",
       "\n",
       "    .dataframe tbody tr th {\n",
       "        vertical-align: top;\n",
       "    }\n",
       "\n",
       "    .dataframe thead th {\n",
       "        text-align: right;\n",
       "    }\n",
       "</style>\n",
       "<table border=\"1\" class=\"dataframe\">\n",
       "  <thead>\n",
       "    <tr style=\"text-align: right;\">\n",
       "      <th></th>\n",
       "      <th>model</th>\n",
       "      <th>rmse_validate</th>\n",
       "      <th>r^2_validate</th>\n",
       "    </tr>\n",
       "  </thead>\n",
       "  <tbody>\n",
       "    <tr>\n",
       "      <th>0</th>\n",
       "      <td>mean_baseline</td>\n",
       "      <td>253998.066920</td>\n",
       "      <td>0.000000</td>\n",
       "    </tr>\n",
       "    <tr>\n",
       "      <th>1</th>\n",
       "      <td>model1</td>\n",
       "      <td>223095.652945</td>\n",
       "      <td>0.227936</td>\n",
       "    </tr>\n",
       "    <tr>\n",
       "      <th>2</th>\n",
       "      <td>model2</td>\n",
       "      <td>223080.179750</td>\n",
       "      <td>0.228043</td>\n",
       "    </tr>\n",
       "    <tr>\n",
       "      <th>3</th>\n",
       "      <td>model3</td>\n",
       "      <td>223579.185805</td>\n",
       "      <td>0.224607</td>\n",
       "    </tr>\n",
       "  </tbody>\n",
       "</table>\n",
       "</div>"
      ],
      "text/plain": [
       "           model  rmse_validate  r^2_validate\n",
       "0  mean_baseline  253998.066920      0.000000\n",
       "1         model1  223095.652945      0.227936\n",
       "2         model2  223080.179750      0.228043\n",
       "3         model3  223579.185805      0.224607"
      ]
     },
     "execution_count": 68,
     "metadata": {},
     "output_type": "execute_result"
    }
   ],
   "source": [
    "metric_df = metric_df.append({'model': 'model3', 'rmse_validate': rmse_model3,\n",
    "    'r^2_validate': explained_variance_score(y_validate.actual, y_validate.model3)}, ignore_index=True)\n",
    "metric_df"
   ]
  },
  {
   "cell_type": "code",
   "execution_count": 69,
   "metadata": {},
   "outputs": [
    {
     "name": "stdout",
     "output_type": "stream",
     "text": [
      "Train RMSE Baseline model: 258931.76560414536\n",
      "Validate RMSE baseline: 253998.06691963325\n",
      "-------------------------------------------\n",
      "Train RMSE for model1: 223063.17208168618\n",
      "Validate RMSE model1: 223095.65294493307\n",
      "-------------------------------------------\n",
      "Train RMSE for model2: 223063.36376190305\n",
      "Validate RMSE model2: 223080.17974962742\n",
      "-------------------------------------------\n",
      "Train RMSE for model3: 223414.93675605417\n",
      "Validate RMSE model3: 223579.1858048459\n",
      "-------------------------------------------\n"
     ]
    }
   ],
   "source": [
    "print('Train RMSE Baseline model:', math.sqrt(mean_squared_error(y_train.actual, y_train.baseline)))\n",
    "print('Validate RMSE baseline:', rmse_baseline)\n",
    "print('-------------------------------------------')\n",
    "print('Train RMSE for model1:', math.sqrt(mean_squared_error(y_train.actual, y_train.model1)))\n",
    "print('Validate RMSE model1:', rmse_model1)\n",
    "print('-------------------------------------------')\n",
    "print('Train RMSE for model2:', math.sqrt(mean_squared_error(y_train.actual, y_train.model2)))\n",
    "print('Validate RMSE model2:', rmse_model2)\n",
    "print('-------------------------------------------')\n",
    "print('Train RMSE for model3:', math.sqrt(mean_squared_error(y_train.actual, y_train.model3)))\n",
    "print('Validate RMSE model3:', rmse_model3)\n",
    "print('-------------------------------------------')"
   ]
  },
  {
   "cell_type": "markdown",
   "metadata": {},
   "source": [
    "#### Best Model - LassoLars"
   ]
  },
  {
   "cell_type": "code",
   "execution_count": 70,
   "metadata": {},
   "outputs": [
    {
     "name": "stdout",
     "output_type": "stream",
     "text": [
      "Test RMSE for model2: 226542.74556106445\n",
      "r^2_test: 0.22001885821228218\n"
     ]
    }
   ],
   "source": [
    "y_test = pd.DataFrame({'actual': y_test})\n",
    "# use the model to make predictions\n",
    "y_test['model2'] = model2.predict(X_test_scaled)\n",
    "\n",
    "print('Test RMSE for model2:', math.sqrt(mean_squared_error(y_test.actual, y_test.model2)))\n",
    "print('r^2_test:', explained_variance_score(y_test.actual, y_test.model2))"
   ]
  },
  {
   "cell_type": "code",
   "execution_count": 71,
   "metadata": {},
   "outputs": [
    {
     "data": {
      "image/png": "[encoded data removed]",
      "text/plain": [
       "<Figure size 864x432 with 1 Axes>"
      ]
     },
     "metadata": {
      "needs_background": "light"
     },
     "output_type": "display_data"
    }
   ],
   "source": [
    "# plot to visualize actual vs predicted. \n",
    "plt.figure(figsize=(12,6))\n",
    "plt.hist(y_test.actual, color='blue', alpha=.5, label=\"Actual Appraised Values\")\n",
    "plt.vlines(y_train.actual.mean(), 0, 1400, ls='--', color='orange', label='Baseline(Mean)')\n",
    "# plt.hist(y_validate.model1, color='red', alpha=.5, label=\"Model: LinearRegression\")\n",
    "plt.hist(y_test.model2, color='red', alpha=.5, label='Model: LassoLars')\n",
    "# plt.hist(y_validate.model3, color='green', alpha=.5, label=\"Model: TweedieRegressor(GLM)\")\n",
    "plt.xlabel(\"Appraised Value\")\n",
    "plt.ylabel(\"Number of Properties\")\n",
    "plt.title(\"Comparing the Distribution of Actual Appraised Values to Distribution of Predicted Appraised Values for the Top Model\")\n",
    "plt.legend()\n",
    "# plt.savefig('chart.png', facecolor='white')\n",
    "plt.show()"
   ]
  },
  {
   "cell_type": "markdown",
   "metadata": {},
   "source": [
    "## Tax Rate Distribution"
   ]
  },
  {
   "cell_type": "code",
   "execution_count": 72,
   "metadata": {},
   "outputs": [
    {
     "data": {
      "text/html": [
       "<div>\n",
       "<style scoped>\n",
       "    .dataframe tbody tr th:only-of-type {\n",
       "        vertical-align: middle;\n",
       "    }\n",
       "\n",
       "    .dataframe tbody tr th {\n",
       "        vertical-align: top;\n",
       "    }\n",
       "\n",
       "    .dataframe thead th {\n",
       "        text-align: right;\n",
       "    }\n",
       "</style>\n",
       "<table border=\"1\" class=\"dataframe\">\n",
       "  <thead>\n",
       "    <tr style=\"text-align: right;\">\n",
       "      <th></th>\n",
       "      <th>bathrooms</th>\n",
       "      <th>bedrooms</th>\n",
       "      <th>square_feet</th>\n",
       "      <th>county_code</th>\n",
       "      <th>age</th>\n",
       "      <th>appraised_value</th>\n",
       "      <th>taxes</th>\n",
       "      <th>tax_rate</th>\n",
       "    </tr>\n",
       "    <tr>\n",
       "      <th>parcelid</th>\n",
       "      <th></th>\n",
       "      <th></th>\n",
       "      <th></th>\n",
       "      <th></th>\n",
       "      <th></th>\n",
       "      <th></th>\n",
       "      <th></th>\n",
       "      <th></th>\n",
       "    </tr>\n",
       "  </thead>\n",
       "  <tbody>\n",
       "    <tr>\n",
       "      <th>11721753</th>\n",
       "      <td>2</td>\n",
       "      <td>3</td>\n",
       "      <td>1316</td>\n",
       "      <td>6037</td>\n",
       "      <td>94</td>\n",
       "      <td>205123</td>\n",
       "      <td>2627.48</td>\n",
       "      <td>0.012809</td>\n",
       "    </tr>\n",
       "    <tr>\n",
       "      <th>11289917</th>\n",
       "      <td>2</td>\n",
       "      <td>3</td>\n",
       "      <td>1458</td>\n",
       "      <td>6037</td>\n",
       "      <td>47</td>\n",
       "      <td>136104</td>\n",
       "      <td>2319.90</td>\n",
       "      <td>0.017045</td>\n",
       "    </tr>\n",
       "    <tr>\n",
       "      <th>11705026</th>\n",
       "      <td>1</td>\n",
       "      <td>2</td>\n",
       "      <td>1421</td>\n",
       "      <td>6037</td>\n",
       "      <td>106</td>\n",
       "      <td>35606</td>\n",
       "      <td>543.69</td>\n",
       "      <td>0.015270</td>\n",
       "    </tr>\n",
       "    <tr>\n",
       "      <th>14269464</th>\n",
       "      <td>3</td>\n",
       "      <td>4</td>\n",
       "      <td>2541</td>\n",
       "      <td>6059</td>\n",
       "      <td>14</td>\n",
       "      <td>880456</td>\n",
       "      <td>9819.72</td>\n",
       "      <td>0.011153</td>\n",
       "    </tr>\n",
       "    <tr>\n",
       "      <th>11446756</th>\n",
       "      <td>2</td>\n",
       "      <td>3</td>\n",
       "      <td>1491</td>\n",
       "      <td>6037</td>\n",
       "      <td>62</td>\n",
       "      <td>107110</td>\n",
       "      <td>1399.27</td>\n",
       "      <td>0.013064</td>\n",
       "    </tr>\n",
       "  </tbody>\n",
       "</table>\n",
       "</div>"
      ],
      "text/plain": [
       "          bathrooms  bedrooms  square_feet  county_code  age  appraised_value  \\\n",
       "parcelid                                                                        \n",
       "11721753          2         3         1316         6037   94           205123   \n",
       "11289917          2         3         1458         6037   47           136104   \n",
       "11705026          1         2         1421         6037  106            35606   \n",
       "14269464          3         4         2541         6059   14           880456   \n",
       "11446756          2         3         1491         6037   62           107110   \n",
       "\n",
       "            taxes  tax_rate  \n",
       "parcelid                     \n",
       "11721753  2627.48  0.012809  \n",
       "11289917  2319.90  0.017045  \n",
       "11705026   543.69  0.015270  \n",
       "14269464  9819.72  0.011153  \n",
       "11446756  1399.27  0.013064  "
      ]
     },
     "execution_count": 72,
     "metadata": {},
     "output_type": "execute_result"
    }
   ],
   "source": [
    "# Calculate the tax rate and add it as a column\n",
    "df['tax_rate'] = (df['taxes'] / df['appraised_value'])\n",
    "df.head()"
   ]
  },
  {
   "cell_type": "code",
   "execution_count": 73,
   "metadata": {},
   "outputs": [
    {
     "data": {
      "text/html": [
       "<div>\n",
       "<style scoped>\n",
       "    .dataframe tbody tr th:only-of-type {\n",
       "        vertical-align: middle;\n",
       "    }\n",
       "\n",
       "    .dataframe tbody tr th {\n",
       "        vertical-align: top;\n",
       "    }\n",
       "\n",
       "    .dataframe thead th {\n",
       "        text-align: right;\n",
       "    }\n",
       "</style>\n",
       "<table border=\"1\" class=\"dataframe\">\n",
       "  <thead>\n",
       "    <tr style=\"text-align: right;\">\n",
       "      <th></th>\n",
       "      <th>bathrooms</th>\n",
       "      <th>bedrooms</th>\n",
       "      <th>square_feet</th>\n",
       "      <th>county_code</th>\n",
       "      <th>age</th>\n",
       "      <th>appraised_value</th>\n",
       "      <th>taxes</th>\n",
       "      <th>tax_rate</th>\n",
       "      <th>county_name</th>\n",
       "    </tr>\n",
       "    <tr>\n",
       "      <th>parcelid</th>\n",
       "      <th></th>\n",
       "      <th></th>\n",
       "      <th></th>\n",
       "      <th></th>\n",
       "      <th></th>\n",
       "      <th></th>\n",
       "      <th></th>\n",
       "      <th></th>\n",
       "      <th></th>\n",
       "    </tr>\n",
       "  </thead>\n",
       "  <tbody>\n",
       "    <tr>\n",
       "      <th>11721753</th>\n",
       "      <td>2</td>\n",
       "      <td>3</td>\n",
       "      <td>1316</td>\n",
       "      <td>6037</td>\n",
       "      <td>94</td>\n",
       "      <td>205123</td>\n",
       "      <td>2627.48</td>\n",
       "      <td>0.012809</td>\n",
       "      <td>Los Angeles</td>\n",
       "    </tr>\n",
       "    <tr>\n",
       "      <th>11289917</th>\n",
       "      <td>2</td>\n",
       "      <td>3</td>\n",
       "      <td>1458</td>\n",
       "      <td>6037</td>\n",
       "      <td>47</td>\n",
       "      <td>136104</td>\n",
       "      <td>2319.90</td>\n",
       "      <td>0.017045</td>\n",
       "      <td>Los Angeles</td>\n",
       "    </tr>\n",
       "    <tr>\n",
       "      <th>11705026</th>\n",
       "      <td>1</td>\n",
       "      <td>2</td>\n",
       "      <td>1421</td>\n",
       "      <td>6037</td>\n",
       "      <td>106</td>\n",
       "      <td>35606</td>\n",
       "      <td>543.69</td>\n",
       "      <td>0.015270</td>\n",
       "      <td>Los Angeles</td>\n",
       "    </tr>\n",
       "    <tr>\n",
       "      <th>14269464</th>\n",
       "      <td>3</td>\n",
       "      <td>4</td>\n",
       "      <td>2541</td>\n",
       "      <td>6059</td>\n",
       "      <td>14</td>\n",
       "      <td>880456</td>\n",
       "      <td>9819.72</td>\n",
       "      <td>0.011153</td>\n",
       "      <td>Orange</td>\n",
       "    </tr>\n",
       "    <tr>\n",
       "      <th>11446756</th>\n",
       "      <td>2</td>\n",
       "      <td>3</td>\n",
       "      <td>1491</td>\n",
       "      <td>6037</td>\n",
       "      <td>62</td>\n",
       "      <td>107110</td>\n",
       "      <td>1399.27</td>\n",
       "      <td>0.013064</td>\n",
       "      <td>Los Angeles</td>\n",
       "    </tr>\n",
       "  </tbody>\n",
       "</table>\n",
       "</div>"
      ],
      "text/plain": [
       "          bathrooms  bedrooms  square_feet  county_code  age  appraised_value  \\\n",
       "parcelid                                                                        \n",
       "11721753          2         3         1316         6037   94           205123   \n",
       "11289917          2         3         1458         6037   47           136104   \n",
       "11705026          1         2         1421         6037  106            35606   \n",
       "14269464          3         4         2541         6059   14           880456   \n",
       "11446756          2         3         1491         6037   62           107110   \n",
       "\n",
       "            taxes  tax_rate  county_name  \n",
       "parcelid                                  \n",
       "11721753  2627.48  0.012809  Los Angeles  \n",
       "11289917  2319.90  0.017045  Los Angeles  \n",
       "11705026   543.69  0.015270  Los Angeles  \n",
       "14269464  9819.72  0.011153       Orange  \n",
       "11446756  1399.27  0.013064  Los Angeles  "
      ]
     },
     "execution_count": 73,
     "metadata": {},
     "output_type": "execute_result"
    }
   ],
   "source": [
    "# Add the name of the county based on the FIPS numbers from the db\n",
    "df['county_name'] = df['county_code'].map({6037: 'Los Angeles', 6059: 'Orange', 6111: 'Ventura'})\n",
    "df.head()"
   ]
  },
  {
   "cell_type": "code",
   "execution_count": 74,
   "metadata": {},
   "outputs": [
    {
     "data": {
      "text/plain": [
       "Los Angeles    15842\n",
       "Orange          6807\n",
       "Ventura         2239\n",
       "Name: county_name, dtype: int64"
      ]
     },
     "execution_count": 74,
     "metadata": {},
     "output_type": "execute_result"
    }
   ],
   "source": [
    "# The FIPS code shows that the data is based on 3 counties in Southern California: Los Angeles, Orange, and Ventura \n",
    "df.county_name.value_counts()"
   ]
  },
  {
   "cell_type": "code",
   "execution_count": 75,
   "metadata": {},
   "outputs": [
    {
     "data": {
      "image/png": "[encoded data removed]",
      "text/plain": [
       "<Figure size 432x288 with 1 Axes>"
      ]
     },
     "metadata": {
      "needs_background": "light"
     },
     "output_type": "display_data"
    }
   ],
   "source": [
    "# quick viz of properties by county\n",
    "plt.title('Distribution of Properties by County')\n",
    "sns.countplot(df.county_name)\n",
    "plt.xlabel('California Counties')\n",
    "plt.ylabel('Number of Properties')\n",
    "plt.show()"
   ]
  },
  {
   "cell_type": "code",
   "execution_count": 76,
   "metadata": {},
   "outputs": [
    {
     "name": "stdout",
     "output_type": "stream",
     "text": [
      "county_name\n",
      "Los Angeles    0.014252\n",
      "Orange         0.012151\n",
      "Ventura        0.011876\n",
      "Name: tax_rate, dtype: float64\n"
     ]
    }
   ],
   "source": [
    "print(df.groupby('county_name').tax_rate.mean())"
   ]
  },
  {
   "cell_type": "code",
   "execution_count": 77,
   "metadata": {},
   "outputs": [
    {
     "data": {
      "image/png": "[encoded data removed]",
      "text/plain": [
       "<Figure size 720x432 with 3 Axes>"
      ]
     },
     "metadata": {
      "needs_background": "light"
     },
     "output_type": "display_data"
    }
   ],
   "source": [
    "# visualization showing side-by-side comparison of county tax rate\n",
    "\n",
    "plt.figure(figsize=(10,6))\n",
    "\n",
    "plt.subplot(1,3,1)\n",
    "sns.distplot(df[df.county_code==6037].tax_rate, bins=100, kde=True, rug=True)\n",
    "plt.xlim(0, .10)\n",
    "plt.ylim(0, 300)\n",
    "plt.title(\"Los Angeles County Tax Distribution\")\n",
    "\n",
    "plt.subplot(1,3,2)\n",
    "sns.distplot(df[df.county_code==6059].tax_rate, bins=100, kde=True, rug=True, color='orange')\n",
    "plt.xlim(0, .10)\n",
    "plt.ylim(0, 300)\n",
    "plt.title(\"Orange County Tax Distribution\")\n",
    "\n",
    "plt.subplot(1,3,3)\n",
    "sns.distplot(df[df.county_code==6111].tax_rate, bins=100, kde=True, rug=True, color='green')\n",
    "plt.xlim(0, .10)\n",
    "plt.ylim(0, 300)\n",
    "plt.title(\"Ventura County Tax Distribution\")\n",
    "\n",
    "plt.tight_layout()\n",
    "\n",
    "plt.show()"
   ]
  },
  {
   "cell_type": "code",
   "execution_count": 83,
   "metadata": {},
   "outputs": [
    {
     "data": {
      "image/png": "[encoded data removed]",
      "text/plain": [
       "<Figure size 864x432 with 3 Axes>"
      ]
     },
     "metadata": {
      "needs_background": "light"
     },
     "output_type": "display_data"
    }
   ],
   "source": [
    "# visualization showing side-by-side comparison of county tax rate\n",
    "\n",
    "plt.figure(figsize=(12,6))\n",
    "\n",
    "plt.subplot(1,3,1)\n",
    "plt.title('Los Angeles County Tax Rate Distribution')\n",
    "plt.hist(df[df.county_code==6037].tax_rate, bins=500)\n",
    "plt.vlines(df[df.county_code==6037].tax_rate.mean(), 0, 7000, ls='--', color='orange', label='LAC mean tax rate: 1.43%')\n",
    "plt.xlabel('Tax Rate')\n",
    "plt.ylabel('Number of Properties')\n",
    "plt.xlim(0.0, 0.05)\n",
    "plt.legend()\n",
    "\n",
    "plt.subplot(1,3,2)\n",
    "plt.title('Orange County Tax Rate Distribution')\n",
    "plt.hist(df[df.county_code==6059].tax_rate, bins=500)\n",
    "plt.vlines(df[df.county_code==6059].tax_rate.mean(), 0, 600, ls='--', color='orange', label='OC mean tax rate: 1.22%')\n",
    "plt.xlabel('Tax Rate')\n",
    "plt.ylabel('Number of Properties')\n",
    "plt.xlim(0.0, 0.05)\n",
    "plt.legend()\n",
    "\n",
    "plt.subplot(1,3,3)\n",
    "plt.title('Ventura County Tax Rate Distribution')\n",
    "plt.hist(df[df.county_code==6111].tax_rate, bins=500)\n",
    "plt.vlines(df[df.county_code==6111].tax_rate.mean(), 0, 700, ls='--', color='orange', label='VC mean tax rate: 1.19%')\n",
    "plt.xlabel('Tax Rate')\n",
    "plt.ylabel('Number of Properties')\n",
    "plt.xlim(0.0, 0.05)\n",
    "plt.legend()\n",
    "\n",
    "plt.tight_layout()\n",
    "plt.savefig('tax_chart.png', facecolor='white')\n",
    "plt.show()"
   ]
  },
  {
   "cell_type": "code",
   "execution_count": null,
   "metadata": {},
   "outputs": [],
   "source": []
  }
 ],
 "metadata": {
  "kernelspec": {
   "display_name": "Python 3",
   "language": "python",
   "name": "python3"
  },
  "language_info": {
   "codemirror_mode": {
    "name": "ipython",
    "version": 3
   },
   "file_extension": ".py",
   "mimetype": "text/x-python",
   "name": "python",
   "nbconvert_exporter": "python",
   "pygments_lexer": "ipython3",
   "version": "3.8.5"
  }
 },
 "nbformat": 4,
 "nbformat_minor": 4
}
