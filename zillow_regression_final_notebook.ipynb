{
 "cells": [
  {
   "cell_type": "markdown",
   "metadata": {},
   "source": [
    "# Regression Project: Estimating Home Value\n",
    "\n",
    "###### Chad Allen\n",
    "###### 15 June 2021"
   ]
  },
  {
   "cell_type": "markdown",
   "metadata": {},
   "source": [
    "## Project Description\n",
    "\n",
    "The Zillow Data Science team wants to be able to predict the values of single unit properties that the tax district assesses using the property data from those with a transaction during the \"hot months\" (in terms of real estate demand) of May-August, 2017.\n",
    "\n",
    "Additionally, information is needed outside of the model. Because property taxes are assessed at the county level, the team would like to know:\n",
    "\n",
    "- What states and counties these are located in?\n",
    "- What is the distribution of tax rates for each county?"
   ]
  },
  {
   "cell_type": "markdown",
   "metadata": {},
   "source": [
    "## Goals\n",
    "\n",
    "- Identify the drivers(features) for predicting the property values using the appraised value.\n",
    "- Document the process and analysis through the data science pipeline.\n",
    "- Construct a regression model for predicting home values that will do better than a baseline model.\n",
    "\n",
    "## Deliverables\n",
    "\n",
    "- Presentation with slides that summarizes finding about the drivers of property value.\n",
    "- Jupyter Notebook report detailing the process through the pipeline.\n",
    "- Acquire and Prepare files for recreating the process.\n",
    "- README file that documents the project planning with instructions on how to recreate."
   ]
  },
  {
   "cell_type": "markdown",
   "metadata": {},
   "source": [
    "## Project Planning\n",
    "\n",
    "What is the definition of a single unit property?\n",
    "- \"A housing unit is a single unit within a larger structure that can be used by an individual or household to eat, sleep, and live. The unit can be in any type of residence, such as a house, apartment, or mobile home, and may also be a single unit in a group of rooms.\" -www.investopedia.com\n",
    "- For the purposes of this project, decided to use properties described as Residential General(260), Single Family Residential(261), Rural Residence(262), Mobile Home(263), and Townhouse(264) from the Zillow database.\n",
    "- Using the above codes and the dates specified produced 28,185 records for initial analysis.\n",
    "\n",
    "\n",
    "What features are the best for predicting a property's value?\n",
    "- Initial focus on number of bathrooms, number of bedrooms, square feet and age.\n",
    "\n",
    "\n",
    "What are the counties and tax rates for the transactions in the project?\n",
    "- Use the FIPS code provide in the Zillow database to determine the counties included in the project.\n",
    "- The Federal Information Processing Standard Publication 6-4 is a five-digit Federal Information Processing Standards code which uniquely identified counties and county equivalents in the United States, certain U.S. possessions, and certain freely associated states."
   ]
  },
  {
   "cell_type": "markdown",
   "metadata": {},
   "source": [
    "### Imports"
   ]
  },
  {
   "cell_type": "code",
   "execution_count": 1,
   "metadata": {},
   "outputs": [],
   "source": [
    "import math\n",
    "import numpy as np\n",
    "import pandas as pd\n",
    "from scipy import stats\n",
    "\n",
    "from sklearn.linear_model import LinearRegression, LassoLars, TweedieRegressor\n",
    "from sklearn.metrics import mean_squared_error, explained_variance_score\n",
    "from sklearn.preprocessing import MinMaxScaler, PolynomialFeatures\n",
    "\n",
    "import matplotlib.pyplot as plt\n",
    "import seaborn as sns\n",
    "\n",
    "import acquire\n",
    "import prepare\n",
    "\n",
    "import warnings\n",
    "warnings.filterwarnings(\"ignore\")"
   ]
  },
  {
   "cell_type": "markdown",
   "metadata": {},
   "source": [
    "## Acquire"
   ]
  },
  {
   "cell_type": "code",
   "execution_count": 2,
   "metadata": {},
   "outputs": [
    {
     "data": {
      "text/html": [
       "<div>\n",
       "<style scoped>\n",
       "    .dataframe tbody tr th:only-of-type {\n",
       "        vertical-align: middle;\n",
       "    }\n",
       "\n",
       "    .dataframe tbody tr th {\n",
       "        vertical-align: top;\n",
       "    }\n",
       "\n",
       "    .dataframe thead th {\n",
       "        text-align: right;\n",
       "    }\n",
       "</style>\n",
       "<table border=\"1\" class=\"dataframe\">\n",
       "  <thead>\n",
       "    <tr style=\"text-align: right;\">\n",
       "      <th></th>\n",
       "      <th>parcelid</th>\n",
       "      <th>bathroomcnt</th>\n",
       "      <th>bedroomcnt</th>\n",
       "      <th>calculatedfinishedsquarefeet</th>\n",
       "      <th>fips</th>\n",
       "      <th>yearbuilt</th>\n",
       "      <th>taxvaluedollarcnt</th>\n",
       "      <th>taxamount</th>\n",
       "    </tr>\n",
       "  </thead>\n",
       "  <tbody>\n",
       "    <tr>\n",
       "      <th>0</th>\n",
       "      <td>11721753</td>\n",
       "      <td>2.0</td>\n",
       "      <td>3.0</td>\n",
       "      <td>1316.0</td>\n",
       "      <td>6037.0</td>\n",
       "      <td>1923.0</td>\n",
       "      <td>205123.0</td>\n",
       "      <td>2627.48</td>\n",
       "    </tr>\n",
       "    <tr>\n",
       "      <th>1</th>\n",
       "      <td>11289917</td>\n",
       "      <td>2.0</td>\n",
       "      <td>3.0</td>\n",
       "      <td>1458.0</td>\n",
       "      <td>6037.0</td>\n",
       "      <td>1970.0</td>\n",
       "      <td>136104.0</td>\n",
       "      <td>2319.90</td>\n",
       "    </tr>\n",
       "    <tr>\n",
       "      <th>2</th>\n",
       "      <td>11705026</td>\n",
       "      <td>1.0</td>\n",
       "      <td>2.0</td>\n",
       "      <td>1421.0</td>\n",
       "      <td>6037.0</td>\n",
       "      <td>1911.0</td>\n",
       "      <td>35606.0</td>\n",
       "      <td>543.69</td>\n",
       "    </tr>\n",
       "    <tr>\n",
       "      <th>3</th>\n",
       "      <td>14269464</td>\n",
       "      <td>3.0</td>\n",
       "      <td>4.0</td>\n",
       "      <td>2541.0</td>\n",
       "      <td>6059.0</td>\n",
       "      <td>2003.0</td>\n",
       "      <td>880456.0</td>\n",
       "      <td>9819.72</td>\n",
       "    </tr>\n",
       "    <tr>\n",
       "      <th>4</th>\n",
       "      <td>11446756</td>\n",
       "      <td>2.0</td>\n",
       "      <td>3.0</td>\n",
       "      <td>1491.0</td>\n",
       "      <td>6037.0</td>\n",
       "      <td>1955.0</td>\n",
       "      <td>107110.0</td>\n",
       "      <td>1399.27</td>\n",
       "    </tr>\n",
       "  </tbody>\n",
       "</table>\n",
       "</div>"
      ],
      "text/plain": [
       "   parcelid  bathroomcnt  bedroomcnt  calculatedfinishedsquarefeet    fips  \\\n",
       "0  11721753          2.0         3.0                        1316.0  6037.0   \n",
       "1  11289917          2.0         3.0                        1458.0  6037.0   \n",
       "2  11705026          1.0         2.0                        1421.0  6037.0   \n",
       "3  14269464          3.0         4.0                        2541.0  6059.0   \n",
       "4  11446756          2.0         3.0                        1491.0  6037.0   \n",
       "\n",
       "   yearbuilt  taxvaluedollarcnt  taxamount  \n",
       "0     1923.0           205123.0    2627.48  \n",
       "1     1970.0           136104.0    2319.90  \n",
       "2     1911.0            35606.0     543.69  \n",
       "3     2003.0           880456.0    9819.72  \n",
       "4     1955.0           107110.0    1399.27  "
      ]
     },
     "execution_count": 2,
     "metadata": {},
     "output_type": "execute_result"
    }
   ],
   "source": [
    "# use imported function to acquire the data, then take a quick look at columns and values\n",
    "df = acquire.get_zillow_data()\n",
    "df.head()"
   ]
  },
  {
   "cell_type": "code",
   "execution_count": 3,
   "metadata": {},
   "outputs": [
    {
     "data": {
      "text/plain": [
       "(28185, 8)"
      ]
     },
     "execution_count": 3,
     "metadata": {},
     "output_type": "execute_result"
    }
   ],
   "source": [
    "df.shape"
   ]
  },
  {
   "cell_type": "code",
   "execution_count": 4,
   "metadata": {},
   "outputs": [
    {
     "name": "stdout",
     "output_type": "stream",
     "text": [
      "<class 'pandas.core.frame.DataFrame'>\n",
      "Int64Index: 28185 entries, 0 to 28184\n",
      "Data columns (total 8 columns):\n",
      " #   Column                        Non-Null Count  Dtype  \n",
      "---  ------                        --------------  -----  \n",
      " 0   parcelid                      28185 non-null  int64  \n",
      " 1   bathroomcnt                   28185 non-null  float64\n",
      " 2   bedroomcnt                    28185 non-null  float64\n",
      " 3   calculatedfinishedsquarefeet  28117 non-null  float64\n",
      " 4   fips                          28185 non-null  float64\n",
      " 5   yearbuilt                     28093 non-null  float64\n",
      " 6   taxvaluedollarcnt             28184 non-null  float64\n",
      " 7   taxamount                     28184 non-null  float64\n",
      "dtypes: float64(7), int64(1)\n",
      "memory usage: 1.9 MB\n"
     ]
    }
   ],
   "source": [
    "df.info()"
   ]
  },
  {
   "cell_type": "code",
   "execution_count": 5,
   "metadata": {},
   "outputs": [
    {
     "data": {
      "text/html": [
       "<div>\n",
       "<style scoped>\n",
       "    .dataframe tbody tr th:only-of-type {\n",
       "        vertical-align: middle;\n",
       "    }\n",
       "\n",
       "    .dataframe tbody tr th {\n",
       "        vertical-align: top;\n",
       "    }\n",
       "\n",
       "    .dataframe thead th {\n",
       "        text-align: right;\n",
       "    }\n",
       "</style>\n",
       "<table border=\"1\" class=\"dataframe\">\n",
       "  <thead>\n",
       "    <tr style=\"text-align: right;\">\n",
       "      <th></th>\n",
       "      <th>parcelid</th>\n",
       "      <th>bathroomcnt</th>\n",
       "      <th>bedroomcnt</th>\n",
       "      <th>calculatedfinishedsquarefeet</th>\n",
       "      <th>fips</th>\n",
       "      <th>yearbuilt</th>\n",
       "      <th>taxvaluedollarcnt</th>\n",
       "      <th>taxamount</th>\n",
       "    </tr>\n",
       "  </thead>\n",
       "  <tbody>\n",
       "    <tr>\n",
       "      <th>count</th>\n",
       "      <td>2.818500e+04</td>\n",
       "      <td>28185.000000</td>\n",
       "      <td>28185.000000</td>\n",
       "      <td>28117.000000</td>\n",
       "      <td>28185.000000</td>\n",
       "      <td>28093.000000</td>\n",
       "      <td>2.818400e+04</td>\n",
       "      <td>28184.000000</td>\n",
       "    </tr>\n",
       "    <tr>\n",
       "      <th>mean</th>\n",
       "      <td>1.304103e+07</td>\n",
       "      <td>2.314866</td>\n",
       "      <td>3.307007</td>\n",
       "      <td>1935.099655</td>\n",
       "      <td>6049.518148</td>\n",
       "      <td>1963.803973</td>\n",
       "      <td>5.353762e+05</td>\n",
       "      <td>6513.591189</td>\n",
       "    </tr>\n",
       "    <tr>\n",
       "      <th>std</th>\n",
       "      <td>3.744921e+06</td>\n",
       "      <td>1.019092</td>\n",
       "      <td>0.950045</td>\n",
       "      <td>995.910743</td>\n",
       "      <td>21.310960</td>\n",
       "      <td>23.124453</td>\n",
       "      <td>7.086644e+05</td>\n",
       "      <td>8234.312079</td>\n",
       "    </tr>\n",
       "    <tr>\n",
       "      <th>min</th>\n",
       "      <td>1.071186e+07</td>\n",
       "      <td>0.000000</td>\n",
       "      <td>0.000000</td>\n",
       "      <td>240.000000</td>\n",
       "      <td>6037.000000</td>\n",
       "      <td>1878.000000</td>\n",
       "      <td>1.000000e+03</td>\n",
       "      <td>51.260000</td>\n",
       "    </tr>\n",
       "    <tr>\n",
       "      <th>25%</th>\n",
       "      <td>1.151082e+07</td>\n",
       "      <td>2.000000</td>\n",
       "      <td>3.000000</td>\n",
       "      <td>1278.000000</td>\n",
       "      <td>6037.000000</td>\n",
       "      <td>1950.000000</td>\n",
       "      <td>1.986108e+05</td>\n",
       "      <td>2703.082500</td>\n",
       "    </tr>\n",
       "    <tr>\n",
       "      <th>50%</th>\n",
       "      <td>1.259386e+07</td>\n",
       "      <td>2.000000</td>\n",
       "      <td>3.000000</td>\n",
       "      <td>1675.000000</td>\n",
       "      <td>6037.000000</td>\n",
       "      <td>1961.000000</td>\n",
       "      <td>3.824460e+05</td>\n",
       "      <td>4734.900000</td>\n",
       "    </tr>\n",
       "    <tr>\n",
       "      <th>75%</th>\n",
       "      <td>1.414899e+07</td>\n",
       "      <td>3.000000</td>\n",
       "      <td>4.000000</td>\n",
       "      <td>2326.000000</td>\n",
       "      <td>6059.000000</td>\n",
       "      <td>1979.000000</td>\n",
       "      <td>6.327165e+05</td>\n",
       "      <td>7529.305000</td>\n",
       "    </tr>\n",
       "    <tr>\n",
       "      <th>max</th>\n",
       "      <td>1.676878e+08</td>\n",
       "      <td>11.000000</td>\n",
       "      <td>12.000000</td>\n",
       "      <td>17245.000000</td>\n",
       "      <td>6111.000000</td>\n",
       "      <td>2016.000000</td>\n",
       "      <td>2.385837e+07</td>\n",
       "      <td>276797.830000</td>\n",
       "    </tr>\n",
       "  </tbody>\n",
       "</table>\n",
       "</div>"
      ],
      "text/plain": [
       "           parcelid   bathroomcnt    bedroomcnt  calculatedfinishedsquarefeet  \\\n",
       "count  2.818500e+04  28185.000000  28185.000000                  28117.000000   \n",
       "mean   1.304103e+07      2.314866      3.307007                   1935.099655   \n",
       "std    3.744921e+06      1.019092      0.950045                    995.910743   \n",
       "min    1.071186e+07      0.000000      0.000000                    240.000000   \n",
       "25%    1.151082e+07      2.000000      3.000000                   1278.000000   \n",
       "50%    1.259386e+07      2.000000      3.000000                   1675.000000   \n",
       "75%    1.414899e+07      3.000000      4.000000                   2326.000000   \n",
       "max    1.676878e+08     11.000000     12.000000                  17245.000000   \n",
       "\n",
       "               fips     yearbuilt  taxvaluedollarcnt      taxamount  \n",
       "count  28185.000000  28093.000000       2.818400e+04   28184.000000  \n",
       "mean    6049.518148   1963.803973       5.353762e+05    6513.591189  \n",
       "std       21.310960     23.124453       7.086644e+05    8234.312079  \n",
       "min     6037.000000   1878.000000       1.000000e+03      51.260000  \n",
       "25%     6037.000000   1950.000000       1.986108e+05    2703.082500  \n",
       "50%     6037.000000   1961.000000       3.824460e+05    4734.900000  \n",
       "75%     6059.000000   1979.000000       6.327165e+05    7529.305000  \n",
       "max     6111.000000   2016.000000       2.385837e+07  276797.830000  "
      ]
     },
     "execution_count": 5,
     "metadata": {},
     "output_type": "execute_result"
    }
   ],
   "source": [
    "df.describe()"
   ]
  },
  {
   "cell_type": "markdown",
   "metadata": {},
   "source": [
    "#### Acquire Takeaways\n",
    "\n",
    "- wrote a SQL query that joined tables to acquire the data from the database\n",
    "- create and store a csv file to make it quicker for future use\n",
    "- initial records = 28,185\n",
    "- small proportion of missing and/or null values\n",
    "- all numeric columns, some not needed for statistical analysis"
   ]
  },
  {
   "cell_type": "markdown",
   "metadata": {},
   "source": [
    "## Prepare"
   ]
  },
  {
   "cell_type": "code",
   "execution_count": 6,
   "metadata": {},
   "outputs": [
    {
     "name": "stdout",
     "output_type": "stream",
     "text": [
      "Your selected dataframe has 8 columns.\n",
      "There are 4 columns that have missing values.\n",
      "  \n",
      "** There are 25 duplicate rows that represents 0.09% of total Values**\n"
     ]
    },
    {
     "data": {
      "text/html": [
       "<div>\n",
       "<style scoped>\n",
       "    .dataframe tbody tr th:only-of-type {\n",
       "        vertical-align: middle;\n",
       "    }\n",
       "\n",
       "    .dataframe tbody tr th {\n",
       "        vertical-align: top;\n",
       "    }\n",
       "\n",
       "    .dataframe thead th {\n",
       "        text-align: right;\n",
       "    }\n",
       "</style>\n",
       "<table border=\"1\" class=\"dataframe\">\n",
       "  <thead>\n",
       "    <tr style=\"text-align: right;\">\n",
       "      <th></th>\n",
       "      <th>Missing Values</th>\n",
       "      <th>% of Total Values</th>\n",
       "    </tr>\n",
       "  </thead>\n",
       "  <tbody>\n",
       "    <tr>\n",
       "      <th>yearbuilt</th>\n",
       "      <td>92</td>\n",
       "      <td>0.3</td>\n",
       "    </tr>\n",
       "    <tr>\n",
       "      <th>calculatedfinishedsquarefeet</th>\n",
       "      <td>68</td>\n",
       "      <td>0.2</td>\n",
       "    </tr>\n",
       "    <tr>\n",
       "      <th>taxvaluedollarcnt</th>\n",
       "      <td>1</td>\n",
       "      <td>0.0</td>\n",
       "    </tr>\n",
       "    <tr>\n",
       "      <th>taxamount</th>\n",
       "      <td>1</td>\n",
       "      <td>0.0</td>\n",
       "    </tr>\n",
       "  </tbody>\n",
       "</table>\n",
       "</div>"
      ],
      "text/plain": [
       "                              Missing Values  % of Total Values\n",
       "yearbuilt                                 92                0.3\n",
       "calculatedfinishedsquarefeet              68                0.2\n",
       "taxvaluedollarcnt                          1                0.0\n",
       "taxamount                                  1                0.0"
      ]
     },
     "execution_count": 6,
     "metadata": {},
     "output_type": "execute_result"
    }
   ],
   "source": [
    "# check for missing and dulicate values\n",
    "prepare.miss_dup_values(df)"
   ]
  },
  {
   "cell_type": "code",
   "execution_count": 7,
   "metadata": {},
   "outputs": [
    {
     "data": {
      "text/html": [
       "<div>\n",
       "<style scoped>\n",
       "    .dataframe tbody tr th:only-of-type {\n",
       "        vertical-align: middle;\n",
       "    }\n",
       "\n",
       "    .dataframe tbody tr th {\n",
       "        vertical-align: top;\n",
       "    }\n",
       "\n",
       "    .dataframe thead th {\n",
       "        text-align: right;\n",
       "    }\n",
       "</style>\n",
       "<table border=\"1\" class=\"dataframe\">\n",
       "  <thead>\n",
       "    <tr style=\"text-align: right;\">\n",
       "      <th></th>\n",
       "      <th>bathrooms</th>\n",
       "      <th>bedrooms</th>\n",
       "      <th>square_feet</th>\n",
       "      <th>county_code</th>\n",
       "      <th>age</th>\n",
       "      <th>appraised_value</th>\n",
       "      <th>taxes</th>\n",
       "    </tr>\n",
       "    <tr>\n",
       "      <th>parcelid</th>\n",
       "      <th></th>\n",
       "      <th></th>\n",
       "      <th></th>\n",
       "      <th></th>\n",
       "      <th></th>\n",
       "      <th></th>\n",
       "      <th></th>\n",
       "    </tr>\n",
       "  </thead>\n",
       "  <tbody>\n",
       "    <tr>\n",
       "      <th>11721753</th>\n",
       "      <td>2</td>\n",
       "      <td>3</td>\n",
       "      <td>1316</td>\n",
       "      <td>6037</td>\n",
       "      <td>94</td>\n",
       "      <td>205123</td>\n",
       "      <td>2627.48</td>\n",
       "    </tr>\n",
       "    <tr>\n",
       "      <th>11289917</th>\n",
       "      <td>2</td>\n",
       "      <td>3</td>\n",
       "      <td>1458</td>\n",
       "      <td>6037</td>\n",
       "      <td>47</td>\n",
       "      <td>136104</td>\n",
       "      <td>2319.90</td>\n",
       "    </tr>\n",
       "    <tr>\n",
       "      <th>11705026</th>\n",
       "      <td>1</td>\n",
       "      <td>2</td>\n",
       "      <td>1421</td>\n",
       "      <td>6037</td>\n",
       "      <td>106</td>\n",
       "      <td>35606</td>\n",
       "      <td>543.69</td>\n",
       "    </tr>\n",
       "    <tr>\n",
       "      <th>14269464</th>\n",
       "      <td>3</td>\n",
       "      <td>4</td>\n",
       "      <td>2541</td>\n",
       "      <td>6059</td>\n",
       "      <td>14</td>\n",
       "      <td>880456</td>\n",
       "      <td>9819.72</td>\n",
       "    </tr>\n",
       "    <tr>\n",
       "      <th>11446756</th>\n",
       "      <td>2</td>\n",
       "      <td>3</td>\n",
       "      <td>1491</td>\n",
       "      <td>6037</td>\n",
       "      <td>62</td>\n",
       "      <td>107110</td>\n",
       "      <td>1399.27</td>\n",
       "    </tr>\n",
       "  </tbody>\n",
       "</table>\n",
       "</div>"
      ],
      "text/plain": [
       "          bathrooms  bedrooms  square_feet  county_code  age  appraised_value  \\\n",
       "parcelid                                                                        \n",
       "11721753          2         3         1316         6037   94           205123   \n",
       "11289917          2         3         1458         6037   47           136104   \n",
       "11705026          1         2         1421         6037  106            35606   \n",
       "14269464          3         4         2541         6059   14           880456   \n",
       "11446756          2         3         1491         6037   62           107110   \n",
       "\n",
       "            taxes  \n",
       "parcelid           \n",
       "11721753  2627.48  \n",
       "11289917  2319.90  \n",
       "11705026   543.69  \n",
       "14269464  9819.72  \n",
       "11446756  1399.27  "
      ]
     },
     "execution_count": 7,
     "metadata": {},
     "output_type": "execute_result"
    }
   ],
   "source": [
    "# use imported function to prepare the data, then look at a sample\n",
    "df = prepare.wrangle_zillow(df)\n",
    "df.head()"
   ]
  },
  {
   "cell_type": "code",
   "execution_count": 8,
   "metadata": {},
   "outputs": [
    {
     "name": "stdout",
     "output_type": "stream",
     "text": [
      "Your selected dataframe has 7 columns.\n",
      "There are 0 columns that have missing values.\n",
      "  \n",
      "** There are 0 duplicate rows that represents 0.0% of total Values**\n"
     ]
    },
    {
     "data": {
      "text/html": [
       "<div>\n",
       "<style scoped>\n",
       "    .dataframe tbody tr th:only-of-type {\n",
       "        vertical-align: middle;\n",
       "    }\n",
       "\n",
       "    .dataframe tbody tr th {\n",
       "        vertical-align: top;\n",
       "    }\n",
       "\n",
       "    .dataframe thead th {\n",
       "        text-align: right;\n",
       "    }\n",
       "</style>\n",
       "<table border=\"1\" class=\"dataframe\">\n",
       "  <thead>\n",
       "    <tr style=\"text-align: right;\">\n",
       "      <th></th>\n",
       "      <th>Missing Values</th>\n",
       "      <th>% of Total Values</th>\n",
       "    </tr>\n",
       "  </thead>\n",
       "  <tbody>\n",
       "  </tbody>\n",
       "</table>\n",
       "</div>"
      ],
      "text/plain": [
       "Empty DataFrame\n",
       "Columns: [Missing Values, % of Total Values]\n",
       "Index: []"
      ]
     },
     "execution_count": 8,
     "metadata": {},
     "output_type": "execute_result"
    }
   ],
   "source": [
    "# final check for missing and dulicate values\n",
    "prepare.miss_dup_values(df)"
   ]
  },
  {
   "cell_type": "code",
   "execution_count": 9,
   "metadata": {},
   "outputs": [
    {
     "data": {
      "text/html": [
       "<div>\n",
       "<style scoped>\n",
       "    .dataframe tbody tr th:only-of-type {\n",
       "        vertical-align: middle;\n",
       "    }\n",
       "\n",
       "    .dataframe tbody tr th {\n",
       "        vertical-align: top;\n",
       "    }\n",
       "\n",
       "    .dataframe thead th {\n",
       "        text-align: right;\n",
       "    }\n",
       "</style>\n",
       "<table border=\"1\" class=\"dataframe\">\n",
       "  <thead>\n",
       "    <tr style=\"text-align: right;\">\n",
       "      <th></th>\n",
       "      <th>bathrooms</th>\n",
       "      <th>bedrooms</th>\n",
       "      <th>square_feet</th>\n",
       "      <th>county_code</th>\n",
       "      <th>age</th>\n",
       "      <th>appraised_value</th>\n",
       "      <th>taxes</th>\n",
       "    </tr>\n",
       "    <tr>\n",
       "      <th>parcelid</th>\n",
       "      <th></th>\n",
       "      <th></th>\n",
       "      <th></th>\n",
       "      <th></th>\n",
       "      <th></th>\n",
       "      <th></th>\n",
       "      <th></th>\n",
       "    </tr>\n",
       "  </thead>\n",
       "  <tbody>\n",
       "    <tr>\n",
       "      <th>11721753</th>\n",
       "      <td>2</td>\n",
       "      <td>3</td>\n",
       "      <td>1316</td>\n",
       "      <td>6037</td>\n",
       "      <td>94</td>\n",
       "      <td>205123</td>\n",
       "      <td>2627.48</td>\n",
       "    </tr>\n",
       "    <tr>\n",
       "      <th>11289917</th>\n",
       "      <td>2</td>\n",
       "      <td>3</td>\n",
       "      <td>1458</td>\n",
       "      <td>6037</td>\n",
       "      <td>47</td>\n",
       "      <td>136104</td>\n",
       "      <td>2319.90</td>\n",
       "    </tr>\n",
       "    <tr>\n",
       "      <th>11705026</th>\n",
       "      <td>1</td>\n",
       "      <td>2</td>\n",
       "      <td>1421</td>\n",
       "      <td>6037</td>\n",
       "      <td>106</td>\n",
       "      <td>35606</td>\n",
       "      <td>543.69</td>\n",
       "    </tr>\n",
       "    <tr>\n",
       "      <th>14269464</th>\n",
       "      <td>3</td>\n",
       "      <td>4</td>\n",
       "      <td>2541</td>\n",
       "      <td>6059</td>\n",
       "      <td>14</td>\n",
       "      <td>880456</td>\n",
       "      <td>9819.72</td>\n",
       "    </tr>\n",
       "    <tr>\n",
       "      <th>11446756</th>\n",
       "      <td>2</td>\n",
       "      <td>3</td>\n",
       "      <td>1491</td>\n",
       "      <td>6037</td>\n",
       "      <td>62</td>\n",
       "      <td>107110</td>\n",
       "      <td>1399.27</td>\n",
       "    </tr>\n",
       "  </tbody>\n",
       "</table>\n",
       "</div>"
      ],
      "text/plain": [
       "          bathrooms  bedrooms  square_feet  county_code  age  appraised_value  \\\n",
       "parcelid                                                                        \n",
       "11721753          2         3         1316         6037   94           205123   \n",
       "11289917          2         3         1458         6037   47           136104   \n",
       "11705026          1         2         1421         6037  106            35606   \n",
       "14269464          3         4         2541         6059   14           880456   \n",
       "11446756          2         3         1491         6037   62           107110   \n",
       "\n",
       "            taxes  \n",
       "parcelid           \n",
       "11721753  2627.48  \n",
       "11289917  2319.90  \n",
       "11705026   543.69  \n",
       "14269464  9819.72  \n",
       "11446756  1399.27  "
      ]
     },
     "execution_count": 9,
     "metadata": {},
     "output_type": "execute_result"
    }
   ],
   "source": [
    "# look after cleaning\n",
    "df.head()"
   ]
  },
  {
   "cell_type": "code",
   "execution_count": 10,
   "metadata": {},
   "outputs": [
    {
     "data": {
      "text/plain": [
       "(24888, 7)"
      ]
     },
     "execution_count": 10,
     "metadata": {},
     "output_type": "execute_result"
    }
   ],
   "source": [
    "df.shape"
   ]
  },
  {
   "cell_type": "code",
   "execution_count": 11,
   "metadata": {},
   "outputs": [
    {
     "name": "stdout",
     "output_type": "stream",
     "text": [
      "<class 'pandas.core.frame.DataFrame'>\n",
      "Int64Index: 24888 entries, 11721753 to 10713993\n",
      "Data columns (total 7 columns):\n",
      " #   Column           Non-Null Count  Dtype  \n",
      "---  ------           --------------  -----  \n",
      " 0   bathrooms        24888 non-null  int64  \n",
      " 1   bedrooms         24888 non-null  int64  \n",
      " 2   square_feet      24888 non-null  int64  \n",
      " 3   county_code      24888 non-null  int64  \n",
      " 4   age              24888 non-null  int64  \n",
      " 5   appraised_value  24888 non-null  int64  \n",
      " 6   taxes            24888 non-null  float64\n",
      "dtypes: float64(1), int64(6)\n",
      "memory usage: 1.5 MB\n"
     ]
    }
   ],
   "source": [
    "df.info()"
   ]
  },
  {
   "cell_type": "code",
   "execution_count": 12,
   "metadata": {},
   "outputs": [
    {
     "data": {
      "text/html": [
       "<div>\n",
       "<style scoped>\n",
       "    .dataframe tbody tr th:only-of-type {\n",
       "        vertical-align: middle;\n",
       "    }\n",
       "\n",
       "    .dataframe tbody tr th {\n",
       "        vertical-align: top;\n",
       "    }\n",
       "\n",
       "    .dataframe thead th {\n",
       "        text-align: right;\n",
       "    }\n",
       "</style>\n",
       "<table border=\"1\" class=\"dataframe\">\n",
       "  <thead>\n",
       "    <tr style=\"text-align: right;\">\n",
       "      <th></th>\n",
       "      <th>count</th>\n",
       "      <th>mean</th>\n",
       "      <th>std</th>\n",
       "      <th>min</th>\n",
       "      <th>25%</th>\n",
       "      <th>50%</th>\n",
       "      <th>75%</th>\n",
       "      <th>max</th>\n",
       "    </tr>\n",
       "  </thead>\n",
       "  <tbody>\n",
       "    <tr>\n",
       "      <th>bathrooms</th>\n",
       "      <td>24888.0</td>\n",
       "      <td>2.087673</td>\n",
       "      <td>0.738494</td>\n",
       "      <td>1.00</td>\n",
       "      <td>2.0</td>\n",
       "      <td>2.000</td>\n",
       "      <td>3.00</td>\n",
       "      <td>4.00</td>\n",
       "    </tr>\n",
       "    <tr>\n",
       "      <th>bedrooms</th>\n",
       "      <td>24888.0</td>\n",
       "      <td>3.237946</td>\n",
       "      <td>0.795346</td>\n",
       "      <td>2.00</td>\n",
       "      <td>3.0</td>\n",
       "      <td>3.000</td>\n",
       "      <td>4.00</td>\n",
       "      <td>5.00</td>\n",
       "    </tr>\n",
       "    <tr>\n",
       "      <th>square_feet</th>\n",
       "      <td>24888.0</td>\n",
       "      <td>1745.419037</td>\n",
       "      <td>647.848329</td>\n",
       "      <td>326.00</td>\n",
       "      <td>1255.0</td>\n",
       "      <td>1603.000</td>\n",
       "      <td>2120.25</td>\n",
       "      <td>3890.00</td>\n",
       "    </tr>\n",
       "    <tr>\n",
       "      <th>county_code</th>\n",
       "      <td>24888.0</td>\n",
       "      <td>6049.674381</td>\n",
       "      <td>21.549776</td>\n",
       "      <td>6037.00</td>\n",
       "      <td>6037.0</td>\n",
       "      <td>6037.000</td>\n",
       "      <td>6059.00</td>\n",
       "      <td>6111.00</td>\n",
       "    </tr>\n",
       "    <tr>\n",
       "      <th>age</th>\n",
       "      <td>24888.0</td>\n",
       "      <td>54.066096</td>\n",
       "      <td>22.022301</td>\n",
       "      <td>1.00</td>\n",
       "      <td>40.0</td>\n",
       "      <td>57.000</td>\n",
       "      <td>67.00</td>\n",
       "      <td>139.00</td>\n",
       "    </tr>\n",
       "    <tr>\n",
       "      <th>appraised_value</th>\n",
       "      <td>24888.0</td>\n",
       "      <td>389087.826864</td>\n",
       "      <td>257280.338864</td>\n",
       "      <td>1000.00</td>\n",
       "      <td>181653.5</td>\n",
       "      <td>349048.000</td>\n",
       "      <td>543688.25</td>\n",
       "      <td>1183261.00</td>\n",
       "    </tr>\n",
       "    <tr>\n",
       "      <th>taxes</th>\n",
       "      <td>24888.0</td>\n",
       "      <td>4828.814468</td>\n",
       "      <td>3007.225892</td>\n",
       "      <td>51.26</td>\n",
       "      <td>2517.5</td>\n",
       "      <td>4370.505</td>\n",
       "      <td>6532.19</td>\n",
       "      <td>24366.44</td>\n",
       "    </tr>\n",
       "  </tbody>\n",
       "</table>\n",
       "</div>"
      ],
      "text/plain": [
       "                   count           mean            std      min       25%  \\\n",
       "bathrooms        24888.0       2.087673       0.738494     1.00       2.0   \n",
       "bedrooms         24888.0       3.237946       0.795346     2.00       3.0   \n",
       "square_feet      24888.0    1745.419037     647.848329   326.00    1255.0   \n",
       "county_code      24888.0    6049.674381      21.549776  6037.00    6037.0   \n",
       "age              24888.0      54.066096      22.022301     1.00      40.0   \n",
       "appraised_value  24888.0  389087.826864  257280.338864  1000.00  181653.5   \n",
       "taxes            24888.0    4828.814468    3007.225892    51.26    2517.5   \n",
       "\n",
       "                        50%        75%         max  \n",
       "bathrooms             2.000       3.00        4.00  \n",
       "bedrooms              3.000       4.00        5.00  \n",
       "square_feet        1603.000    2120.25     3890.00  \n",
       "county_code        6037.000    6059.00     6111.00  \n",
       "age                  57.000      67.00      139.00  \n",
       "appraised_value  349048.000  543688.25  1183261.00  \n",
       "taxes              4370.505    6532.19    24366.44  "
      ]
     },
     "execution_count": 12,
     "metadata": {},
     "output_type": "execute_result"
    }
   ],
   "source": [
    "# stats review of prepped data\n",
    "df.describe().T"
   ]
  },
  {
   "cell_type": "markdown",
   "metadata": {},
   "source": [
    "#### Wrangle Takeaways\n",
    "\n",
    "- set index to parcel_id\n",
    "- removed duplicates and nulls\n",
    "- renamed columns\n",
    "- created age column (2017 - yearbuilt)\n",
    "- removed outliers from bathrooms, bedroom, square_feet, and appraised_value (using IQR method)\n",
    "- reduced records down to 24,888 (removed 3297 records total from intial dataset)"
   ]
  },
  {
   "cell_type": "code",
   "execution_count": 13,
   "metadata": {},
   "outputs": [
    {
     "data": {
      "text/html": [
       "<div>\n",
       "<style scoped>\n",
       "    .dataframe tbody tr th:only-of-type {\n",
       "        vertical-align: middle;\n",
       "    }\n",
       "\n",
       "    .dataframe tbody tr th {\n",
       "        vertical-align: top;\n",
       "    }\n",
       "\n",
       "    .dataframe thead th {\n",
       "        text-align: right;\n",
       "    }\n",
       "</style>\n",
       "<table border=\"1\" class=\"dataframe\">\n",
       "  <thead>\n",
       "    <tr style=\"text-align: right;\">\n",
       "      <th></th>\n",
       "      <th>bathrooms</th>\n",
       "      <th>bedrooms</th>\n",
       "      <th>square_feet</th>\n",
       "      <th>age</th>\n",
       "      <th>appraised_value</th>\n",
       "    </tr>\n",
       "    <tr>\n",
       "      <th>parcelid</th>\n",
       "      <th></th>\n",
       "      <th></th>\n",
       "      <th></th>\n",
       "      <th></th>\n",
       "      <th></th>\n",
       "    </tr>\n",
       "  </thead>\n",
       "  <tbody>\n",
       "    <tr>\n",
       "      <th>11721753</th>\n",
       "      <td>2</td>\n",
       "      <td>3</td>\n",
       "      <td>1316</td>\n",
       "      <td>94</td>\n",
       "      <td>205123</td>\n",
       "    </tr>\n",
       "    <tr>\n",
       "      <th>11289917</th>\n",
       "      <td>2</td>\n",
       "      <td>3</td>\n",
       "      <td>1458</td>\n",
       "      <td>47</td>\n",
       "      <td>136104</td>\n",
       "    </tr>\n",
       "    <tr>\n",
       "      <th>11705026</th>\n",
       "      <td>1</td>\n",
       "      <td>2</td>\n",
       "      <td>1421</td>\n",
       "      <td>106</td>\n",
       "      <td>35606</td>\n",
       "    </tr>\n",
       "    <tr>\n",
       "      <th>14269464</th>\n",
       "      <td>3</td>\n",
       "      <td>4</td>\n",
       "      <td>2541</td>\n",
       "      <td>14</td>\n",
       "      <td>880456</td>\n",
       "    </tr>\n",
       "    <tr>\n",
       "      <th>11446756</th>\n",
       "      <td>2</td>\n",
       "      <td>3</td>\n",
       "      <td>1491</td>\n",
       "      <td>62</td>\n",
       "      <td>107110</td>\n",
       "    </tr>\n",
       "  </tbody>\n",
       "</table>\n",
       "</div>"
      ],
      "text/plain": [
       "          bathrooms  bedrooms  square_feet  age  appraised_value\n",
       "parcelid                                                        \n",
       "11721753          2         3         1316   94           205123\n",
       "11289917          2         3         1458   47           136104\n",
       "11705026          1         2         1421  106            35606\n",
       "14269464          3         4         2541   14           880456\n",
       "11446756          2         3         1491   62           107110"
      ]
     },
     "execution_count": 13,
     "metadata": {},
     "output_type": "execute_result"
    }
   ],
   "source": [
    "# drop columns not needed for project goals\n",
    "mvp_df = df.drop(columns=['county_code', 'taxes'])\n",
    "mvp_df.head()"
   ]
  },
  {
   "cell_type": "code",
   "execution_count": 14,
   "metadata": {},
   "outputs": [
    {
     "data": {
      "text/plain": [
       "((13937, 5), (5973, 5), (4978, 5))"
      ]
     },
     "execution_count": 14,
     "metadata": {},
     "output_type": "execute_result"
    }
   ],
   "source": [
    "# split the dataframe for analysis and testing\n",
    "train, validate, test, X_train, y_train, X_validate, y_validate, X_test, y_test = prepare.split_zillow(mvp_df, 'appraised_value')\n",
    "train.shape, validate.shape, test.shape"
   ]
  },
  {
   "cell_type": "code",
   "execution_count": 15,
   "metadata": {},
   "outputs": [
    {
     "data": {
      "text/html": [
       "<div>\n",
       "<style scoped>\n",
       "    .dataframe tbody tr th:only-of-type {\n",
       "        vertical-align: middle;\n",
       "    }\n",
       "\n",
       "    .dataframe tbody tr th {\n",
       "        vertical-align: top;\n",
       "    }\n",
       "\n",
       "    .dataframe thead th {\n",
       "        text-align: right;\n",
       "    }\n",
       "</style>\n",
       "<table border=\"1\" class=\"dataframe\">\n",
       "  <thead>\n",
       "    <tr style=\"text-align: right;\">\n",
       "      <th></th>\n",
       "      <th>bathrooms</th>\n",
       "      <th>bedrooms</th>\n",
       "      <th>square_feet</th>\n",
       "      <th>age</th>\n",
       "    </tr>\n",
       "    <tr>\n",
       "      <th>parcelid</th>\n",
       "      <th></th>\n",
       "      <th></th>\n",
       "      <th></th>\n",
       "      <th></th>\n",
       "    </tr>\n",
       "  </thead>\n",
       "  <tbody>\n",
       "    <tr>\n",
       "      <th>12071196</th>\n",
       "      <td>0.333333</td>\n",
       "      <td>0.333333</td>\n",
       "      <td>0.337262</td>\n",
       "      <td>0.651852</td>\n",
       "    </tr>\n",
       "    <tr>\n",
       "      <th>14274491</th>\n",
       "      <td>0.333333</td>\n",
       "      <td>0.333333</td>\n",
       "      <td>0.245230</td>\n",
       "      <td>0.437037</td>\n",
       "    </tr>\n",
       "    <tr>\n",
       "      <th>12825849</th>\n",
       "      <td>0.333333</td>\n",
       "      <td>0.333333</td>\n",
       "      <td>0.249719</td>\n",
       "      <td>0.444444</td>\n",
       "    </tr>\n",
       "    <tr>\n",
       "      <th>12445221</th>\n",
       "      <td>0.666667</td>\n",
       "      <td>0.333333</td>\n",
       "      <td>0.549663</td>\n",
       "      <td>0.192593</td>\n",
       "    </tr>\n",
       "    <tr>\n",
       "      <th>17146152</th>\n",
       "      <td>0.666667</td>\n",
       "      <td>0.666667</td>\n",
       "      <td>0.607744</td>\n",
       "      <td>0.088889</td>\n",
       "    </tr>\n",
       "  </tbody>\n",
       "</table>\n",
       "</div>"
      ],
      "text/plain": [
       "          bathrooms  bedrooms  square_feet       age\n",
       "parcelid                                            \n",
       "12071196   0.333333  0.333333     0.337262  0.651852\n",
       "14274491   0.333333  0.333333     0.245230  0.437037\n",
       "12825849   0.333333  0.333333     0.249719  0.444444\n",
       "12445221   0.666667  0.333333     0.549663  0.192593\n",
       "17146152   0.666667  0.666667     0.607744  0.088889"
      ]
     },
     "execution_count": 15,
     "metadata": {},
     "output_type": "execute_result"
    }
   ],
   "source": [
    "# scale the data for modeling\n",
    "scaler, X_train_scaled, X_validate_scaled, X_test_scaled = prepare.Min_Max_Scaler(X_train, X_validate, X_test)\n",
    "X_train_scaled.head()"
   ]
  },
  {
   "cell_type": "markdown",
   "metadata": {},
   "source": [
    "## Explore"
   ]
  },
  {
   "cell_type": "code",
   "execution_count": 16,
   "metadata": {},
   "outputs": [
    {
     "data": {
      "image/png": "[encoded data removed]",
      "text/plain": [
       "<Figure size 432x288 with 2 Axes>"
      ]
     },
     "metadata": {
      "needs_background": "light"
     },
     "output_type": "display_data"
    }
   ],
   "source": [
    "# create heatmap to examine correlations\n",
    "sns.heatmap(train.corr(), cmap='coolwarm', center=0, annot=True, fmt='.0%')\n",
    "plt.title('Correlation Heatmap of Variables')\n",
    "plt.show()"
   ]
  },
  {
   "cell_type": "code",
   "execution_count": 17,
   "metadata": {},
   "outputs": [],
   "source": [
    "def plot_variable_pairs(train):\n",
    "    '''\n",
    "    This function will accept a dataframe as input \n",
    "    and plot all the pairwise relationships with the regression line for each pair\n",
    "    '''\n",
    "    sns.pairplot(train, kind = 'reg', corner=True,\n",
    "                plot_kws = {'line_kws': {'color': 'crimson'}})"
   ]
  },
  {
   "cell_type": "code",
   "execution_count": 18,
   "metadata": {},
   "outputs": [
    {
     "data": {
      "image/png": "[encoded data removed]",
      "text/plain": [
       "<Figure size 900x900 with 20 Axes>"
      ]
     },
     "metadata": {
      "needs_background": "light"
     },
     "output_type": "display_data"
    }
   ],
   "source": [
    "# visualization of pairwise realtionships\n",
    "plot_variable_pairs(train)"
   ]
  },
  {
   "cell_type": "markdown",
   "metadata": {},
   "source": [
    "#### Visualizations Takeaways\n",
    "\n",
    "- significant positive correlation between appraised value and square feet\n",
    "- strong positive correlation between appraised value and number of bathrooms\n",
    "- negative correlation between appraised value and age\n",
    "\n",
    "\n",
    "- will move ahead and do statistical testing on square feet and number of bathrooms"
   ]
  },
  {
   "cell_type": "markdown",
   "metadata": {},
   "source": [
    "### Statistical Testing\n",
    "\n",
    "#### T-Test: Does the square footage of the property affect the appraised value?\n",
    "\n",
    "- The heatmap shows this category has the highest positive correlation.\n",
    "- The median value of square_feet is ~1600 sq.ft.\n",
    "\n",
    "Form hypothesis:\n",
    "\n",
    "- $H_0$ The average appraised value of properties with 1600 sq.ft. or more is equal to the average appraised value of properties with 1600 sq.ft or less.\n",
    "- $H_a$ The average appraised value of properties with 1600 sq.ft. or more is higher than the average appraised value of properties with 1600 sq.ft or less."
   ]
  },
  {
   "cell_type": "code",
   "execution_count": 19,
   "metadata": {},
   "outputs": [
    {
     "name": "stdout",
     "output_type": "stream",
     "text": [
      "48.50374026487064 0.0\n",
      "\n",
      "We can reject the null hypothesis that the average appraised value of properties with 1600 sq.ft. or more is equal to the average appraised value of properties with 1600 sq.ft or less.\n"
     ]
    }
   ],
   "source": [
    "# set up groups for testing\n",
    "sqft_less_than_1600 = train[train.square_feet <= 1600]\n",
    "sqft_more_than_1600 = train[train.square_feet > 1600]\n",
    "\n",
    "# perform 2 sample, 2-tailed t-test\n",
    "t, p = stats.ttest_ind(sqft_more_than_1600.appraised_value, sqft_less_than_1600.appraised_value)\n",
    "print(t, p)\n",
    "\n",
    "# set alpha\n",
    "alpha = 0.05\n",
    "\n",
    "null_hypothesis = \"the average appraised value of properties with 1600 sq.ft. or more is equal to the average appraised value of properties with 1600 sq.ft or less.\"\n",
    "\n",
    "if p < alpha:\n",
    "    print(f'\\nWe can reject the null hypothesis that', null_hypothesis)\n",
    "else:\n",
    "    print(f'\\nWe fail to reject the null hypothesis.')"
   ]
  },
  {
   "cell_type": "markdown",
   "metadata": {},
   "source": [
    "#### Correlation Test: Does the number of bathrooms affect the appraised value?\n",
    "\n",
    "- The heatmap shows this category has a strong positive correlation.\n",
    "\n",
    "Form hypothesis:\n",
    "\n",
    "- $H_0$ The number of bathrooms has no affect on the appraised value (independent)\n",
    "- $H_a$ The number of bathrooms does have an affect on appraised value (dependent)"
   ]
  },
  {
   "cell_type": "code",
   "execution_count": 20,
   "metadata": {},
   "outputs": [
    {
     "name": "stdout",
     "output_type": "stream",
     "text": [
      "0.38868892326661064 0.0\n",
      "\n",
      "We can reject the null hypothesis that the number of the bathrooms has no affect on the appraised value.\n"
     ]
    }
   ],
   "source": [
    "# perform Pearson's r test\n",
    "corr, p = stats.pearsonr(train.bathrooms, train.appraised_value)\n",
    "print(corr, p)\n",
    "\n",
    "# set alpha\n",
    "alpha = 0.05\n",
    "\n",
    "null_hypothesis = \"the number of the bathrooms has no affect on the appraised value.\"\n",
    "\n",
    "if p < alpha:\n",
    "    print(f'\\nWe can reject the null hypothesis that', null_hypothesis)\n",
    "else:\n",
    "    print(f'\\nWe fail to reject the null hypothesis.')"
   ]
  },
  {
   "cell_type": "markdown",
   "metadata": {},
   "source": [
    "#### Testing Takeaways\n",
    "\n",
    "- rejected both null hypotheses based on the test results\n",
    "- there is evidence to support that there the average appraised value of properties with 1600 sq.ft. or more is higher than the average appraised value of properties with 1600 sq.ft or less\n",
    "- there is evidence to support that the number of bathrooms does have an affect on appraised value"
   ]
  },
  {
   "cell_type": "markdown",
   "metadata": {},
   "source": [
    "## Modeling\n",
    "\n",
    "#### Establish a baseline"
   ]
  },
  {
   "cell_type": "code",
   "execution_count": 21,
   "metadata": {},
   "outputs": [
    {
     "name": "stdout",
     "output_type": "stream",
     "text": [
      "Train RMSE Baseline model: 258931.76560414536\n",
      "Validate RMSE baseline: 253998.06691963325\n"
     ]
    }
   ],
   "source": [
    "# create dataframe for target results\n",
    "y_train = pd.DataFrame({'actual': y_train})\n",
    "y_validate = pd.DataFrame({'actual': y_validate})\n",
    "\n",
    "# create baseline using mean and add to dataframe\n",
    "y_train['baseline'] = y_train.actual.mean()\n",
    "y_validate['baseline'] = y_train.actual.mean()\n",
    "\n",
    "print('Train RMSE Baseline model:', math.sqrt(mean_squared_error(y_train.actual, y_train.baseline)))\n",
    "rmse_baseline = math.sqrt(mean_squared_error(y_validate.actual, y_validate.baseline))\n",
    "print('Validate RMSE baseline:', rmse_baseline)"
   ]
  },
  {
   "cell_type": "markdown",
   "metadata": {},
   "source": [
    "#### Model1 - OLS (LinearRegression)"
   ]
  },
  {
   "cell_type": "code",
   "execution_count": 22,
   "metadata": {},
   "outputs": [
    {
     "name": "stdout",
     "output_type": "stream",
     "text": [
      "Train RMSE for OLS model: 223063.17208168618\n",
      "Validate RMSE for OLS model: 223095.65294493307\n",
      "r^2_validate for OLS model: 0.22793573582264615\n"
     ]
    }
   ],
   "source": [
    "# create the model\n",
    "ols = LinearRegression(normalize=True)\n",
    "# fit the model\n",
    "ols.fit(X_train_scaled, y_train.actual)\n",
    "# use the model to make predictions\n",
    "y_train['ols'] = ols.predict(X_train_scaled)\n",
    "y_validate['ols'] = ols.predict(X_validate_scaled)\n",
    "\n",
    "print('Train RMSE for OLS model:', math.sqrt(mean_squared_error(y_train.actual, y_train.ols)))\n",
    "rmse_ols = math.sqrt(mean_squared_error(y_validate.actual, y_validate.ols))\n",
    "print('Validate RMSE for OLS model:', rmse_ols)\n",
    "print('r^2_validate for OLS model:', explained_variance_score(y_validate.actual, y_validate.ols))"
   ]
  },
  {
   "cell_type": "markdown",
   "metadata": {},
   "source": [
    "#### Model2 - LassoLars"
   ]
  },
  {
   "cell_type": "code",
   "execution_count": 23,
   "metadata": {},
   "outputs": [
    {
     "name": "stdout",
     "output_type": "stream",
     "text": [
      "Train RMSE for LassoLars(alpha=1): 223063.36376190305\n",
      "Validate RMSE for LassoLars(alpha=1): 223080.17974962742\n",
      "r^2_validate for LassoLars(alpha=1): 0.22804274181088158\n"
     ]
    }
   ],
   "source": [
    "# create the model\n",
    "lars = LassoLars(alpha=1)\n",
    "# fit the model\n",
    "lars.fit(X_train_scaled, y_train.actual)\n",
    "# use the model to make predictions\n",
    "y_train['lars'] = lars.predict(X_train_scaled)\n",
    "y_validate['lars'] = lars.predict(X_validate_scaled)\n",
    "\n",
    "print('Train RMSE for LassoLars(alpha=1):', math.sqrt(mean_squared_error(y_train.actual, y_train.lars)))\n",
    "rmse_lars = math.sqrt(mean_squared_error(y_validate.actual, y_validate.lars))\n",
    "print('Validate RMSE for LassoLars(alpha=1):', rmse_lars)\n",
    "print('r^2_validate for LassoLars(alpha=1):', explained_variance_score(y_validate.actual, y_validate.lars))"
   ]
  },
  {
   "cell_type": "markdown",
   "metadata": {},
   "source": [
    "#### Model3 - TweedieRegressor (GLM)"
   ]
  },
  {
   "cell_type": "code",
   "execution_count": 24,
   "metadata": {},
   "outputs": [
    {
     "name": "stdout",
     "output_type": "stream",
     "text": [
      "Train RMSE for TweedieRegressor(power=1, alpha=0): 223414.93675605417\n",
      "Validate RMSE for TweedieRegressor(power=1, alpha=0): 223579.1858048459\n",
      "r^2_validate for TweedieRegressor(power=1, alpha=0): 0.22460656373665178\n"
     ]
    }
   ],
   "source": [
    "# create the model\n",
    "glm = TweedieRegressor(power=1, alpha=0)\n",
    "# fit the model\n",
    "glm.fit(X_train_scaled, y_train.actual)\n",
    "# use the model to make predictions\n",
    "y_train['glm'] = glm.predict(X_train_scaled)\n",
    "y_validate['glm'] = glm.predict(X_validate_scaled)\n",
    "\n",
    "print('Train RMSE for TweedieRegressor(power=1, alpha=0):', math.sqrt(mean_squared_error(y_train.actual, y_train.glm)))\n",
    "rmse_model3 = math.sqrt(mean_squared_error(y_validate.actual, y_validate.glm))\n",
    "print('Validate RMSE for TweedieRegressor(power=1, alpha=0):', rmse_model3)\n",
    "print('r^2_validate for TweedieRegressor(power=1, alpha=0):', explained_variance_score(y_validate.actual, y_validate.glm))"
   ]
  },
  {
   "cell_type": "markdown",
   "metadata": {},
   "source": [
    "#### Modeling Takeaways\n",
    "\n",
    "- all models performed better than the baseline\n",
    "- OLS and LassoLars results were very close, but LassoLars had a better r^2 result\n",
    "- will use LassoLars on test data"
   ]
  },
  {
   "cell_type": "markdown",
   "metadata": {},
   "source": [
    "## Best Model\n",
    "\n",
    "#### LassoLars"
   ]
  },
  {
   "cell_type": "code",
   "execution_count": 25,
   "metadata": {},
   "outputs": [
    {
     "name": "stdout",
     "output_type": "stream",
     "text": [
      "Train RMSE for LassoLars(alpha=1): 223063.36376190305\n",
      "r^2_train for LassoLars(alpha=1): 0.25786001931172553\n",
      "Validate RMSE for LassoLars(alpha=1): 223080.17974962742\n",
      "r^2_validate for LassoLars(alpha=1): 0.22804274181088158\n",
      "Test RMSE for for LassoLars(alpha=1): 226542.74556106445\n",
      "r^2_test for for LassoLars(alpha=1): 0.22001885821228218\n"
     ]
    }
   ],
   "source": [
    "# create dataframe\n",
    "y_test = pd.DataFrame({'actual': y_test})\n",
    "# use the model to make predictions\n",
    "y_test['lars'] = lars.predict(X_test_scaled)\n",
    "\n",
    "print('Train RMSE for LassoLars(alpha=1):', math.sqrt(mean_squared_error(y_train.actual, y_train.lars)))\n",
    "print('r^2_train for LassoLars(alpha=1):', explained_variance_score(y_train.actual, y_train.lars))\n",
    "print('Validate RMSE for LassoLars(alpha=1):', rmse_lars)\n",
    "print('r^2_validate for LassoLars(alpha=1):', explained_variance_score(y_validate.actual, y_validate.lars))\n",
    "print('Test RMSE for for LassoLars(alpha=1):', math.sqrt(mean_squared_error(y_test.actual, y_test.lars)))\n",
    "print('r^2_test for for LassoLars(alpha=1):', explained_variance_score(y_test.actual, y_test.lars))"
   ]
  },
  {
   "cell_type": "markdown",
   "metadata": {},
   "source": [
    "### Conclusions \n",
    "\n",
    "- used number of bathrooms, number of bedrooms, square feet and age as predictors of appraised value\n",
    "- slight changes in RMSE from train to validate to test means model is not overfit\n",
    "- slight decline in r^2 score from validate to test means only slight decrease in accuracy\n",
    "- best model test results beat the baseline by ~22.0%\n",
    "\n",
    "#### Next Steps \n",
    "- possible ways to improve the results:\n",
    "- - adding/changing features \n",
    "- - tweaking hyperparameters"
   ]
  },
  {
   "cell_type": "markdown",
   "metadata": {},
   "source": [
    "## Additional Deliverables\n",
    "\n",
    "#### What are the counties and tax rates for the transactions in the project?\n",
    "\n",
    "What states and counties these are located in?\n",
    "- looked up FIPS codes for transactions included in the research for this project\n",
    "- - 6037 - Los Angeles County, California\n",
    "- - 6059 - Orange County, California\n",
    "- - 6111 - Ventura County, California"
   ]
  },
  {
   "cell_type": "code",
   "execution_count": 26,
   "metadata": {},
   "outputs": [
    {
     "data": {
      "text/html": [
       "<div>\n",
       "<style scoped>\n",
       "    .dataframe tbody tr th:only-of-type {\n",
       "        vertical-align: middle;\n",
       "    }\n",
       "\n",
       "    .dataframe tbody tr th {\n",
       "        vertical-align: top;\n",
       "    }\n",
       "\n",
       "    .dataframe thead th {\n",
       "        text-align: right;\n",
       "    }\n",
       "</style>\n",
       "<table border=\"1\" class=\"dataframe\">\n",
       "  <thead>\n",
       "    <tr style=\"text-align: right;\">\n",
       "      <th></th>\n",
       "      <th>county_name</th>\n",
       "    </tr>\n",
       "  </thead>\n",
       "  <tbody>\n",
       "    <tr>\n",
       "      <th>Los Angeles</th>\n",
       "      <td>15842</td>\n",
       "    </tr>\n",
       "    <tr>\n",
       "      <th>Orange</th>\n",
       "      <td>6807</td>\n",
       "    </tr>\n",
       "    <tr>\n",
       "      <th>Ventura</th>\n",
       "      <td>2239</td>\n",
       "    </tr>\n",
       "  </tbody>\n",
       "</table>\n",
       "</div>"
      ],
      "text/plain": [
       "             county_name\n",
       "Los Angeles        15842\n",
       "Orange              6807\n",
       "Ventura             2239"
      ]
     },
     "execution_count": 26,
     "metadata": {},
     "output_type": "execute_result"
    }
   ],
   "source": [
    "# add the name of the county based on the FIPS numbers from the db\n",
    "df['county_name'] = df['county_code'].map({6037: 'Los Angeles', 6059: 'Orange', 6111: 'Ventura'})\n",
    "\n",
    "# show counts by county\n",
    "county_counts = pd.DataFrame(df.county_name.value_counts())\n",
    "county_counts"
   ]
  },
  {
   "cell_type": "code",
   "execution_count": 27,
   "metadata": {},
   "outputs": [
    {
     "data": {
      "image/png": "[encoded data removed]",
      "text/plain": [
       "<Figure size 432x288 with 1 Axes>"
      ]
     },
     "metadata": {
      "needs_background": "light"
     },
     "output_type": "display_data"
    }
   ],
   "source": [
    "# quick viz of properties by county\n",
    "plt.title('Distribution of Properties by County')\n",
    "sns.countplot(df.county_name)\n",
    "plt.xlabel('California Counties')\n",
    "plt.ylabel('Number of Properties')\n",
    "plt.show()"
   ]
  },
  {
   "cell_type": "markdown",
   "metadata": {},
   "source": [
    "What is the distribution of tax rates for each county?"
   ]
  },
  {
   "cell_type": "code",
   "execution_count": 28,
   "metadata": {},
   "outputs": [
    {
     "name": "stdout",
     "output_type": "stream",
     "text": [
      "county_name\n",
      "Los Angeles    0.014252\n",
      "Orange         0.012151\n",
      "Ventura        0.011876\n",
      "Name: tax_rate, dtype: float64\n"
     ]
    }
   ],
   "source": [
    "# Calculate the tax rate and add it as a column\n",
    "df['tax_rate'] = (df['taxes'] / df['appraised_value'])\n",
    "\n",
    "print(df.groupby('county_name').tax_rate.mean())"
   ]
  },
  {
   "cell_type": "code",
   "execution_count": 29,
   "metadata": {},
   "outputs": [
    {
     "data": {
      "image/png": "[encoded data removed]",
      "text/plain": [
       "<Figure size 864x432 with 3 Axes>"
      ]
     },
     "metadata": {
      "needs_background": "light"
     },
     "output_type": "display_data"
    }
   ],
   "source": [
    "# visualization showing side-by-side comparison of county tax rate\n",
    "\n",
    "plt.figure(figsize=(12,6))\n",
    "\n",
    "plt.subplot(1,3,1)\n",
    "plt.title('Los Angeles County Tax Rate Distribution')\n",
    "plt.hist(df[df.county_code==6037].tax_rate, bins=800)\n",
    "plt.vlines(df[df.county_code==6037].tax_rate.mean(), 0, 7000, ls='--', color='orange', label='LAC mean tax rate: 1.43%')\n",
    "plt.xlabel('Tax Rate')\n",
    "plt.ylabel('Number of Properties')\n",
    "plt.legend()\n",
    "plt.xlim(0.0, 0.05)\n",
    "\n",
    "plt.subplot(1,3,2)\n",
    "plt.title('Orange County Tax Rate Distribution')\n",
    "plt.hist(df[df.county_code==6059].tax_rate, bins=800)\n",
    "plt.vlines(df[df.county_code==6059].tax_rate.mean(), 0, 500, ls='--', color='orange', label='OC mean tax rate: 1.21%')\n",
    "plt.xlabel('Tax Rate')\n",
    "plt.ylabel('Number of Properties')\n",
    "plt.xlim(0.0, 0.05)\n",
    "\n",
    "plt.legend()\n",
    "\n",
    "plt.subplot(1,3,3)\n",
    "plt.title('Ventura County Tax Rate Distribution')\n",
    "plt.hist(df[df.county_code==6111].tax_rate, bins=800)\n",
    "plt.vlines(df[df.county_code==6111].tax_rate.mean(), 0, 600, ls='--', color='orange', label='VC mean tax rate: 1.19%')\n",
    "plt.xlabel('Tax Rate')\n",
    "plt.ylabel('Number of Properties')\n",
    "plt.xlim(0.0, 0.05)\n",
    "plt.legend()\n",
    "\n",
    "plt.tight_layout()\n",
    "\n",
    "plt.show()"
   ]
  },
  {
   "cell_type": "code",
   "execution_count": null,
   "metadata": {},
   "outputs": [],
   "source": []
  }
 ],
 "metadata": {
  "kernelspec": {
   "display_name": "Python 3",
   "language": "python",
   "name": "python3"
  },
  "language_info": {
   "codemirror_mode": {
    "name": "ipython",
    "version": 3
   },
   "file_extension": ".py",
   "mimetype": "text/x-python",
   "name": "python",
   "nbconvert_exporter": "python",
   "pygments_lexer": "ipython3",
   "version": "3.8.5"
  }
 },
 "nbformat": 4,
 "nbformat_minor": 4
}
